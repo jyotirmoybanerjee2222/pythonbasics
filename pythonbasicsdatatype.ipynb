{
  "cells": [
    {
      "cell_type": "code",
      "execution_count": 1,
      "metadata": {
        "id": "1bmUewcLfPuo"
      },
      "outputs": [],
      "source": [
        "l=[]"
      ]
    },
    {
      "cell_type": "code",
      "execution_count": 2,
      "metadata": {
        "colab": {
          "base_uri": "https://localhost:8080/"
        },
        "id": "mShaAUJCscw5",
        "outputId": "9d375bbb-f4aa-4d63-ac32-d7812d06e14b"
      },
      "outputs": [
        {
          "output_type": "execute_result",
          "data": {
            "text/plain": [
              "list"
            ]
          },
          "metadata": {},
          "execution_count": 2
        }
      ],
      "source": [
        "type(l)"
      ]
    },
    {
      "cell_type": "code",
      "execution_count": 3,
      "metadata": {
        "id": "mWTCRFptsgP2"
      },
      "outputs": [],
      "source": [
        "li=[1,2,3,4,5,\"jyotirmoy\",\"banerjee\",3+6j,345.66,True]"
      ]
    },
    {
      "cell_type": "code",
      "execution_count": 4,
      "metadata": {
        "colab": {
          "base_uri": "https://localhost:8080/"
        },
        "id": "zUz4_58lscyD",
        "outputId": "b6955b6e-d572-4c18-e856-11ee77b01c8b"
      },
      "outputs": [
        {
          "output_type": "execute_result",
          "data": {
            "text/plain": [
              "[1, 2, 3, 4, 5, 'jyotirmoy', 'banerjee', (3+6j), 345.66, True]"
            ]
          },
          "metadata": {},
          "execution_count": 4
        }
      ],
      "source": [
        "li"
      ]
    },
    {
      "cell_type": "code",
      "execution_count": 5,
      "metadata": {
        "id": "gg1diyxKvWSv"
      },
      "outputs": [],
      "source": [
        "li=[1,2,3,4,5,\"jyotirmoy\",\"banerjee\",3+6j,345.66,True,[3,4,5,6]]"
      ]
    },
    {
      "cell_type": "code",
      "execution_count": 6,
      "metadata": {
        "colab": {
          "base_uri": "https://localhost:8080/"
        },
        "id": "VFD5KYOmvWTp",
        "outputId": "5b610c22-ebef-46a3-a6d1-5adedfbef896"
      },
      "outputs": [
        {
          "output_type": "execute_result",
          "data": {
            "text/plain": [
              "[1, 2, 3, 4, 5, 'jyotirmoy', 'banerjee', (3+6j), 345.66, True, [3, 4, 5, 6]]"
            ]
          },
          "metadata": {},
          "execution_count": 6
        }
      ],
      "source": [
        "li\n",
        "#to store the various type of data"
      ]
    },
    {
      "cell_type": "code",
      "execution_count": 7,
      "metadata": {
        "colab": {
          "base_uri": "https://localhost:8080/",
          "height": 36
        },
        "id": "_BbPr2revCrO",
        "outputId": "3f9f01cf-b0f7-466f-9e5b-302d5353b774"
      },
      "outputs": [
        {
          "output_type": "execute_result",
          "data": {
            "text/plain": [
              "'fsfsfs^^*'"
            ],
            "application/vnd.google.colaboratory.intrinsic+json": {
              "type": "string"
            }
          },
          "metadata": {},
          "execution_count": 7
        }
      ],
      "source": [
        "s='fsfsfs^^*'\n",
        "s"
      ]
    },
    {
      "cell_type": "code",
      "execution_count": 7,
      "metadata": {
        "id": "WTjqWxEMp2Je"
      },
      "outputs": [],
      "source": []
    },
    {
      "cell_type": "code",
      "execution_count": 8,
      "metadata": {
        "id": "tO5hcRC9wEVH"
      },
      "outputs": [],
      "source": [
        "s=5"
      ]
    },
    {
      "cell_type": "code",
      "execution_count": 9,
      "metadata": {
        "colab": {
          "base_uri": "https://localhost:8080/"
        },
        "id": "tw7io4qQwGqQ",
        "outputId": "bed78fb7-5207-4c68-e569-3d2cb65425a9"
      },
      "outputs": [
        {
          "output_type": "execute_result",
          "data": {
            "text/plain": [
              "5"
            ]
          },
          "metadata": {},
          "execution_count": 9
        }
      ],
      "source": [
        "s"
      ]
    },
    {
      "cell_type": "code",
      "execution_count": 10,
      "metadata": {
        "colab": {
          "base_uri": "https://localhost:8080/",
          "height": 36
        },
        "id": "CLkhrGBjpVbr",
        "outputId": "fdf0334b-f0f5-4a86-a8ac-fb200280e1fd"
      },
      "outputs": [
        {
          "output_type": "execute_result",
          "data": {
            "text/plain": [
              "'jyotirmoy'"
            ],
            "application/vnd.google.colaboratory.intrinsic+json": {
              "type": "string"
            }
          },
          "metadata": {},
          "execution_count": 10
        }
      ],
      "source": [
        "li[5]"
      ]
    },
    {
      "cell_type": "code",
      "execution_count": 11,
      "metadata": {
        "colab": {
          "base_uri": "https://localhost:8080/"
        },
        "id": "_KpNmxsRqQSz",
        "outputId": "52bef8ba-d9a0-4ce9-851c-ecbf3c702b20"
      },
      "outputs": [
        {
          "output_type": "execute_result",
          "data": {
            "text/plain": [
              "[3, 4, 5, 6]"
            ]
          },
          "metadata": {},
          "execution_count": 11
        }
      ],
      "source": [
        "li[-1]"
      ]
    },
    {
      "cell_type": "code",
      "execution_count": 12,
      "metadata": {
        "colab": {
          "base_uri": "https://localhost:8080/"
        },
        "id": "HFgRgx66qT7x",
        "outputId": "73c10fa9-b0ab-4b9e-e0c4-65143023f0c7"
      },
      "outputs": [
        {
          "output_type": "execute_result",
          "data": {
            "text/plain": [
              "6"
            ]
          },
          "metadata": {},
          "execution_count": 12
        }
      ],
      "source": [
        "li[-1][3]"
      ]
    },
    {
      "cell_type": "code",
      "execution_count": 13,
      "metadata": {
        "colab": {
          "base_uri": "https://localhost:8080/"
        },
        "id": "OwaWL3Ycqgsl",
        "outputId": "c77f5cea-dbe2-437a-bd88-d13b50da6a54"
      },
      "outputs": [
        {
          "output_type": "execute_result",
          "data": {
            "text/plain": [
              "[1, 2, 3, 4, 5]"
            ]
          },
          "metadata": {},
          "execution_count": 13
        }
      ],
      "source": [
        "li[0:5]"
      ]
    },
    {
      "cell_type": "code",
      "execution_count": 14,
      "metadata": {
        "colab": {
          "base_uri": "https://localhost:8080/"
        },
        "id": "ewXXfUZOrKkp",
        "outputId": "2a3fcee9-335c-4c33-b652-1f51fe157097"
      },
      "outputs": [
        {
          "output_type": "execute_result",
          "data": {
            "text/plain": [
              "[1,\n",
              " 2,\n",
              " 3,\n",
              " 4,\n",
              " 5,\n",
              " 'jyotirmoy',\n",
              " 'banerjee',\n",
              " (3+6j),\n",
              " 345.66,\n",
              " True,\n",
              " [3, 4, 5, 6],\n",
              " 0,\n",
              " 2,\n",
              " 'gsgd']"
            ]
          },
          "metadata": {},
          "execution_count": 14
        }
      ],
      "source": [
        "l2=[0,2,\"gsgd\"]\n",
        "li+l2"
      ]
    },
    {
      "cell_type": "code",
      "execution_count": 15,
      "metadata": {
        "id": "Zadn-LlOr5JB"
      },
      "outputs": [],
      "source": [
        "#l2+ \"sudh\"\n",
        "#TypeError                                 Traceback (most recent call last)\n",
        "#<ipython-input-14-c9ce610556dc> in <cell line: 1>()\n",
        "#----> 1 l2+ \"sudh\"\n",
        "\n",
        "#TypeError: can only concatenate list (not \"str\") to list"
      ]
    },
    {
      "cell_type": "code",
      "execution_count": 16,
      "metadata": {
        "colab": {
          "base_uri": "https://localhost:8080/"
        },
        "id": "RHcX7GXrsV6t",
        "outputId": "f87242b0-855c-4716-fee1-802220535b58"
      },
      "outputs": [
        {
          "output_type": "execute_result",
          "data": {
            "text/plain": [
              "['J', 'Y', 'o', 't', 'i', 'r', 'm', 'o', 'y']"
            ]
          },
          "metadata": {},
          "execution_count": 16
        }
      ],
      "source": [
        "list(\"JYotirmoy\")"
      ]
    },
    {
      "cell_type": "code",
      "execution_count": 17,
      "metadata": {
        "colab": {
          "base_uri": "https://localhost:8080/",
          "height": 70
        },
        "id": "RUb_gYmLsV-E",
        "outputId": "453cc0cd-b11a-43a9-d616-bbb1a8cce2f8"
      },
      "outputs": [
        {
          "output_type": "execute_result",
          "data": {
            "text/plain": [
              "\"list(345)\\nTypeError                                 Traceback (most recent call last)\\n<ipython-input-17-0f204f296e5b> in <cell line: 1>()\\n----> 1 list(345)\\n\\nTypeError: 'int' object is not iterable\""
            ],
            "application/vnd.google.colaboratory.intrinsic+json": {
              "type": "string"
            }
          },
          "metadata": {},
          "execution_count": 17
        }
      ],
      "source": [
        "\"\"\"list(345)\n",
        "TypeError                                 Traceback (most recent call last)\n",
        "<ipython-input-17-0f204f296e5b> in <cell line: 1>()\n",
        "----> 1 list(345)\n",
        "\n",
        "TypeError: 'int' object is not iterable\"\"\""
      ]
    },
    {
      "cell_type": "code",
      "execution_count": 18,
      "metadata": {
        "colab": {
          "base_uri": "https://localhost:8080/"
        },
        "id": "TJ2DXllBs1Z4",
        "outputId": "d770b07b-3402-4969-d62d-2ed47b4649a7"
      },
      "outputs": [
        {
          "output_type": "execute_result",
          "data": {
            "text/plain": [
              "[0, 2, 'gsgd', 0, 2, 'gsgd']"
            ]
          },
          "metadata": {},
          "execution_count": 18
        }
      ],
      "source": [
        "l2*2\n",
        "#repetion of same thing"
      ]
    },
    {
      "cell_type": "code",
      "execution_count": 19,
      "metadata": {
        "colab": {
          "base_uri": "https://localhost:8080/"
        },
        "id": "42NktRdrtC2E",
        "outputId": "890b4bca-5773-4ae7-f760-0c9d4198aac6"
      },
      "outputs": [
        {
          "output_type": "execute_result",
          "data": {
            "text/plain": [
              "0"
            ]
          },
          "metadata": {},
          "execution_count": 19
        }
      ],
      "source": [
        "l2[0]\n"
      ]
    },
    {
      "cell_type": "code",
      "execution_count": 20,
      "metadata": {
        "colab": {
          "base_uri": "https://localhost:8080/"
        },
        "id": "uorNN4CRtRIl",
        "outputId": "2e832aaf-6d4f-4901-b38b-68d3c5df9a91"
      },
      "outputs": [
        {
          "output_type": "execute_result",
          "data": {
            "text/plain": [
              "[300, 2, 'gsgd']"
            ]
          },
          "metadata": {},
          "execution_count": 20
        }
      ],
      "source": [
        "l2[0] =300\n",
        "l2"
      ]
    },
    {
      "cell_type": "code",
      "execution_count": 21,
      "metadata": {
        "id": "WvjAeeQottoY"
      },
      "outputs": [],
      "source": [
        "#list is mutable but tuples is immutable"
      ]
    },
    {
      "cell_type": "code",
      "execution_count": 22,
      "metadata": {
        "colab": {
          "base_uri": "https://localhost:8080/"
        },
        "id": "tgZHSkfVuLsY",
        "outputId": "6f9f2685-7161-4a36-ca02-db603b95407c"
      },
      "outputs": [
        {
          "output_type": "execute_result",
          "data": {
            "text/plain": [
              "tuple"
            ]
          },
          "metadata": {},
          "execution_count": 22
        }
      ],
      "source": [
        "t=(1,2,3)\n",
        "type(t)\n"
      ]
    },
    {
      "cell_type": "code",
      "execution_count": 23,
      "metadata": {
        "colab": {
          "base_uri": "https://localhost:8080/"
        },
        "id": "2iZXQ-U0uWDr",
        "outputId": "b2323f26-6115-488e-adf6-53e27ad599aa"
      },
      "outputs": [
        {
          "output_type": "execute_result",
          "data": {
            "text/plain": [
              "(1, 2, 3)"
            ]
          },
          "metadata": {},
          "execution_count": 23
        }
      ],
      "source": [
        "t"
      ]
    },
    {
      "cell_type": "code",
      "execution_count": 24,
      "metadata": {
        "colab": {
          "base_uri": "https://localhost:8080/"
        },
        "id": "R4UlqLdoucA2",
        "outputId": "70f3ec26-bf8c-46e6-e5f6-f1b77f965dbd"
      },
      "outputs": [
        {
          "output_type": "execute_result",
          "data": {
            "text/plain": [
              "1"
            ]
          },
          "metadata": {},
          "execution_count": 24
        }
      ],
      "source": [
        "t[0]"
      ]
    },
    {
      "cell_type": "code",
      "execution_count": 25,
      "metadata": {
        "colab": {
          "base_uri": "https://localhost:8080/"
        },
        "id": "lCkYHNnQu-FY",
        "outputId": "a9257b23-9697-4c79-871f-01f87705388a"
      },
      "outputs": [
        {
          "output_type": "execute_result",
          "data": {
            "text/plain": [
              "(3, 2, 1)"
            ]
          },
          "metadata": {},
          "execution_count": 25
        }
      ],
      "source": [
        "t[::-1]\n",
        "#reversing of tuples"
      ]
    },
    {
      "cell_type": "code",
      "execution_count": 26,
      "metadata": {
        "colab": {
          "base_uri": "https://localhost:8080/",
          "height": 70
        },
        "id": "_v7B6YwLvWJG",
        "outputId": "b16eb64a-3c13-424f-f140-8874ea31d8cb"
      },
      "outputs": [
        {
          "output_type": "execute_result",
          "data": {
            "text/plain": [
              "'t[0]=\"jyotirmoy\"\\nTypeError                                 Traceback (most recent call last)\\n<ipython-input-38-30c528531c0b> in <cell line: 1>()\\n----> 1 t[0]=\"jyotirmoy\"\\n\\nTypeError: \\'tuple\\' object does not support item assignment'"
            ],
            "application/vnd.google.colaboratory.intrinsic+json": {
              "type": "string"
            }
          },
          "metadata": {},
          "execution_count": 26
        }
      ],
      "source": [
        "\"\"\"t[0]=\"jyotirmoy\"\n",
        "TypeError                                 Traceback (most recent call last)\n",
        "<ipython-input-38-30c528531c0b> in <cell line: 1>()\n",
        "----> 1 t[0]=\"jyotirmoy\"\n",
        "\n",
        "TypeError: 'tuple' object does not support item assignment\"\"\""
      ]
    },
    {
      "cell_type": "code",
      "execution_count": 27,
      "metadata": {
        "id": "2z-1dFq5voQu"
      },
      "outputs": [],
      "source": [
        "#tuples imutable entity"
      ]
    },
    {
      "cell_type": "code",
      "execution_count": 28,
      "metadata": {
        "colab": {
          "base_uri": "https://localhost:8080/"
        },
        "id": "n8zLWC-Bvtgt",
        "outputId": "972590cd-12c1-488f-88a0-8bb655d901c8"
      },
      "outputs": [
        {
          "output_type": "execute_result",
          "data": {
            "text/plain": [
              "(1, 2, 3, 5, 6, 7)"
            ]
          },
          "metadata": {},
          "execution_count": 28
        }
      ],
      "source": [
        "t1 = (5,6,7)\n",
        "t+t1\n",
        "#concatination is possible"
      ]
    },
    {
      "cell_type": "code",
      "execution_count": 29,
      "metadata": {
        "colab": {
          "base_uri": "https://localhost:8080/"
        },
        "id": "IxTPb4mQwCXJ",
        "outputId": "25abab93-2fce-4800-fd6b-ca779f097ae4"
      },
      "outputs": [
        {
          "output_type": "execute_result",
          "data": {
            "text/plain": [
              "(1, 2, 3, 1, 2, 3)"
            ]
          },
          "metadata": {},
          "execution_count": 29
        }
      ],
      "source": [
        "t*2\n",
        "#multiplication is possible mean printing twice"
      ]
    },
    {
      "cell_type": "code",
      "execution_count": 30,
      "metadata": {
        "colab": {
          "base_uri": "https://localhost:8080/"
        },
        "id": "0-YpYeAgwQtx",
        "outputId": "d0ad304f-8882-45f0-cae6-3771191024b1"
      },
      "outputs": [
        {
          "output_type": "execute_result",
          "data": {
            "text/plain": [
              "[1, 2, 3]"
            ]
          },
          "metadata": {},
          "execution_count": 30
        }
      ],
      "source": [
        "list(t)\n",
        "#converting list to tuples"
      ]
    },
    {
      "cell_type": "code",
      "execution_count": 31,
      "metadata": {
        "colab": {
          "base_uri": "https://localhost:8080/"
        },
        "id": "hKRIq3o4wjwV",
        "outputId": "e1f528fd-e695-4e29-efbd-0864a77fb39f"
      },
      "outputs": [
        {
          "output_type": "execute_result",
          "data": {
            "text/plain": [
              "(300,\n",
              " 2,\n",
              " 'gsgd',\n",
              " 1,\n",
              " 2,\n",
              " 3,\n",
              " 4,\n",
              " 5,\n",
              " 'jyotirmoy',\n",
              " 'banerjee',\n",
              " (3+6j),\n",
              " 345.66,\n",
              " True,\n",
              " [3, 4, 5, 6])"
            ]
          },
          "metadata": {},
          "execution_count": 31
        }
      ],
      "source": [
        "tuple(l2)+tuple(li)\n",
        "#list -> tuple just like type casting"
      ]
    },
    {
      "cell_type": "code",
      "execution_count": 32,
      "metadata": {
        "colab": {
          "base_uri": "https://localhost:8080/"
        },
        "id": "gdR9PdqhwRBO",
        "outputId": "887ea1ec-999c-4c2b-a3a3-f69827cbc62b"
      },
      "outputs": [
        {
          "output_type": "execute_result",
          "data": {
            "text/plain": [
              "3"
            ]
          },
          "metadata": {},
          "execution_count": 32
        }
      ],
      "source": [
        "len(t)"
      ]
    },
    {
      "cell_type": "code",
      "execution_count": 33,
      "metadata": {
        "colab": {
          "base_uri": "https://localhost:8080/"
        },
        "id": "fnYs6DgowREc",
        "outputId": "97c3f872-ab16-45d9-be32-0e9fef880f04"
      },
      "outputs": [
        {
          "output_type": "execute_result",
          "data": {
            "text/plain": [
              "14"
            ]
          },
          "metadata": {},
          "execution_count": 33
        }
      ],
      "source": [
        "len(\"jyotirmoy    h\")"
      ]
    },
    {
      "cell_type": "code",
      "execution_count": 34,
      "metadata": {
        "colab": {
          "base_uri": "https://localhost:8080/"
        },
        "id": "6BVyVbVTyPSu",
        "outputId": "30fc3dc9-9b27-4cce-d612-730dc41280bd"
      },
      "outputs": [
        {
          "output_type": "execute_result",
          "data": {
            "text/plain": [
              "11"
            ]
          },
          "metadata": {},
          "execution_count": 34
        }
      ],
      "source": [
        "len(li)"
      ]
    },
    {
      "cell_type": "code",
      "execution_count": 35,
      "metadata": {
        "id": "E-NfC5mryPg3"
      },
      "outputs": [],
      "source": [
        "#tuple  & list time complexity -> O(n)"
      ]
    },
    {
      "cell_type": "code",
      "execution_count": 36,
      "metadata": {
        "id": "97tvonkxyPkn"
      },
      "outputs": [],
      "source": [
        "s = {}"
      ]
    },
    {
      "cell_type": "code",
      "execution_count": 37,
      "metadata": {
        "colab": {
          "base_uri": "https://localhost:8080/"
        },
        "id": "_dtAr7_jyPn_",
        "outputId": "b43ea4f2-40c8-47c2-e6b5-9411b1c40610"
      },
      "outputs": [
        {
          "output_type": "execute_result",
          "data": {
            "text/plain": [
              "dict"
            ]
          },
          "metadata": {},
          "execution_count": 37
        }
      ],
      "source": [
        "type(s)"
      ]
    },
    {
      "cell_type": "code",
      "execution_count": 38,
      "metadata": {
        "id": "DFkyLT00yPuf"
      },
      "outputs": [],
      "source": [
        "s1={1,3,5521,322}"
      ]
    },
    {
      "cell_type": "code",
      "execution_count": 39,
      "metadata": {
        "colab": {
          "base_uri": "https://localhost:8080/"
        },
        "id": "Zf3K_FkFyPxy",
        "outputId": "9c01d26e-6e39-4c94-c096-6a900780da47"
      },
      "outputs": [
        {
          "output_type": "execute_result",
          "data": {
            "text/plain": [
              "set"
            ]
          },
          "metadata": {},
          "execution_count": 39
        }
      ],
      "source": [
        "type(s1)"
      ]
    },
    {
      "cell_type": "code",
      "execution_count": 40,
      "metadata": {
        "colab": {
          "base_uri": "https://localhost:8080/"
        },
        "id": "HpW3qxt-wRHY",
        "outputId": "28ca4412-e873-401c-c6e5-3a6141cd51b2"
      },
      "outputs": [
        {
          "output_type": "execute_result",
          "data": {
            "text/plain": [
              "{1, 3, 322, 5521}"
            ]
          },
          "metadata": {},
          "execution_count": 40
        }
      ],
      "source": [
        "s1"
      ]
    },
    {
      "cell_type": "code",
      "execution_count": 41,
      "metadata": {
        "colab": {
          "base_uri": "https://localhost:8080/"
        },
        "id": "H9anyLO2wRKS",
        "outputId": "a71d27e1-74ae-48a3-f4db-5fa0315e12dc"
      },
      "outputs": [
        {
          "output_type": "execute_result",
          "data": {
            "text/plain": [
              "{1, 2, 3, 444, 5, 6, 7, 'JYotirmoy', 'Jyotirmoy'}"
            ]
          },
          "metadata": {},
          "execution_count": 41
        }
      ],
      "source": [
        "s2={\"JYotirmoy\",\"JYotirmoy\",'Jyotirmoy',7,1,2,3,444 ,444,5,5,6,7}\n",
        "s2"
      ]
    },
    {
      "cell_type": "code",
      "execution_count": 42,
      "metadata": {
        "colab": {
          "base_uri": "https://localhost:8080/"
        },
        "id": "ksczNeDWwRNR",
        "outputId": "c51af335-a4df-4f1a-c8d9-9b516d9b4393"
      },
      "outputs": [
        {
          "output_type": "execute_result",
          "data": {
            "text/plain": [
              "[1, 2, 3, 5, 6, 7, 'JYotirmoy', 'Jyotirmoy', 444]"
            ]
          },
          "metadata": {},
          "execution_count": 42
        }
      ],
      "source": [
        "list(s2)\n",
        "#list -> set"
      ]
    },
    {
      "cell_type": "code",
      "execution_count": 43,
      "metadata": {
        "colab": {
          "base_uri": "https://localhost:8080/"
        },
        "id": "eOlgNkjPwRYm",
        "outputId": "96f489c9-c25e-470b-b46b-f3fc631052d9"
      },
      "outputs": [
        {
          "output_type": "execute_result",
          "data": {
            "text/plain": [
              "set[[300, 2, 'gsgd']]"
            ]
          },
          "metadata": {},
          "execution_count": 43
        }
      ],
      "source": [
        "set[l2]\n",
        "# ->"
      ]
    },
    {
      "cell_type": "code",
      "execution_count": 44,
      "metadata": {
        "colab": {
          "base_uri": "https://localhost:8080/",
          "height": 70
        },
        "id": "UzZ_ql2IwRQ3",
        "outputId": "61375d15-0038-4049-8f3b-6f5228d51d99"
      },
      "outputs": [
        {
          "output_type": "execute_result",
          "data": {
            "text/plain": [
              "\"TypeError                                 Traceback (most recent call last)\\n<ipython-input-72-f8a686832adf> in <cell line: 1>()\\n----> 1 set(li)\\n\\nTypeError: unhashable type: 'list'\""
            ],
            "application/vnd.google.colaboratory.intrinsic+json": {
              "type": "string"
            }
          },
          "metadata": {},
          "execution_count": 44
        }
      ],
      "source": [
        "#set(li)\n",
        "#nested list conversion into set is not possible\n",
        "\"\"\"TypeError                                 Traceback (most recent call last)\n",
        "<ipython-input-72-f8a686832adf> in <cell line: 1>()\n",
        "----> 1 set(li)\n",
        "\n",
        "TypeError: unhashable type: 'list'\"\"\""
      ]
    },
    {
      "cell_type": "code",
      "execution_count": 45,
      "metadata": {
        "colab": {
          "base_uri": "https://localhost:8080/",
          "height": 70
        },
        "id": "R0hhkCuV8E-o",
        "outputId": "af81ca69-a77a-4b58-b04a-815fc7536cbb"
      },
      "outputs": [
        {
          "output_type": "execute_result",
          "data": {
            "text/plain": [
              "\"TypeError                                 Traceback (most recent call last)\\n<ipython-input-75-ab7c8e26b0d3> in <cell line: 1>()\\n----> 1 s2[0]\\n\\nTypeError: 'set' object is not subscriptable\""
            ],
            "application/vnd.google.colaboratory.intrinsic+json": {
              "type": "string"
            }
          },
          "metadata": {},
          "execution_count": 45
        }
      ],
      "source": [
        "#s2[0]\n",
        "\"\"\"TypeError                                 Traceback (most recent call last)\n",
        "<ipython-input-75-ab7c8e26b0d3> in <cell line: 1>()\n",
        "----> 1 s2[0]\n",
        "\n",
        "TypeError: 'set' object is not subscriptable\"\"\""
      ]
    },
    {
      "cell_type": "code",
      "execution_count": 46,
      "metadata": {
        "id": "UDMn_KGw8fDn"
      },
      "outputs": [],
      "source": [
        "#set is not mutable as we cannot able to acess the data"
      ]
    },
    {
      "cell_type": "markdown",
      "metadata": {
        "id": "2LpMA3Zpd1tF"
      },
      "source": [
        "**Dictionary**"
      ]
    },
    {
      "cell_type": "code",
      "execution_count": 47,
      "metadata": {
        "id": "K2O5hOBf8fMP"
      },
      "outputs": [],
      "source": [
        "##dict\n",
        "#key & value pair"
      ]
    },
    {
      "cell_type": "code",
      "execution_count": 48,
      "metadata": {
        "id": "AgoghG8VvTYO"
      },
      "outputs": [],
      "source": [
        "d1 = {\"name\" : \"sudhanshu\" ,\"subject\":[\"datascience\",\"python\"],\"number\":43222}"
      ]
    },
    {
      "cell_type": "code",
      "execution_count": 49,
      "metadata": {
        "colab": {
          "base_uri": "https://localhost:8080/"
        },
        "id": "EU7tiY5a8fPC",
        "outputId": "1c5b4f56-c8b8-4d9e-b2d2-9457832fd84e"
      },
      "outputs": [
        {
          "output_type": "execute_result",
          "data": {
            "text/plain": [
              "{'name': 'sudhanshu', 'subject': ['datascience', 'python'], 'number': 43222}"
            ]
          },
          "metadata": {},
          "execution_count": 49
        }
      ],
      "source": [
        "d1"
      ]
    },
    {
      "cell_type": "code",
      "execution_count": 50,
      "metadata": {
        "id": "nwBCZjXv8fSU"
      },
      "outputs": [],
      "source": [
        "d2 ={\"name\":\"sudh\",\"name\":\"jyotirmoy\"}"
      ]
    },
    {
      "cell_type": "code",
      "execution_count": 51,
      "metadata": {
        "colab": {
          "base_uri": "https://localhost:8080/"
        },
        "id": "_gGW-ZrP8fWG",
        "outputId": "947e535b-a426-4661-9c66-5bd5c1d04435"
      },
      "outputs": [
        {
          "output_type": "execute_result",
          "data": {
            "text/plain": [
              "{'name': 'jyotirmoy'}"
            ]
          },
          "metadata": {},
          "execution_count": 51
        }
      ],
      "source": [
        "d2\n",
        "#key should be unique"
      ]
    },
    {
      "cell_type": "code",
      "execution_count": 52,
      "metadata": {
        "id": "Yb7uRW9R8fkm"
      },
      "outputs": [],
      "source": [
        "d3 = {213256 :\"sudh\"}"
      ]
    },
    {
      "cell_type": "code",
      "execution_count": 53,
      "metadata": {
        "colab": {
          "base_uri": "https://localhost:8080/",
          "height": 140
        },
        "id": "Tj4mFxsTwR9A",
        "outputId": "2ea6e68e-776d-4f32-985a-26e464eee03b"
      },
      "outputs": [
        {
          "output_type": "error",
          "ename": "SyntaxError",
          "evalue": "ignored",
          "traceback": [
            "\u001b[0;36m  File \u001b[0;32m\"<ipython-input-53-880e09edebcc>\"\u001b[0;36m, line \u001b[0;32m2\u001b[0m\n\u001b[0;31m    key cannot be list\u001b[0m\n\u001b[0m        ^\u001b[0m\n\u001b[0;31mSyntaxError\u001b[0m\u001b[0;31m:\u001b[0m invalid syntax\n"
          ]
        }
      ],
      "source": [
        "d3 = {[1,2,5465] :\"sudh\"}\n",
        "key cannot be list"
      ]
    },
    {
      "cell_type": "code",
      "execution_count": 54,
      "metadata": {
        "id": "JOYKBC-SyvaX"
      },
      "outputs": [],
      "source": [
        "d3 = {(1,2,3,4):\"jyotir\"}\n",
        "#key  can be tupple"
      ]
    },
    {
      "cell_type": "code",
      "execution_count": 55,
      "metadata": {
        "colab": {
          "base_uri": "https://localhost:8080/",
          "height": 192
        },
        "id": "WSL6z79fzSHq",
        "outputId": "be871ac1-cd59-4d01-cb17-f920566cc5b4"
      },
      "outputs": [
        {
          "output_type": "error",
          "ename": "TypeError",
          "evalue": "ignored",
          "traceback": [
            "\u001b[0;31m---------------------------------------------------------------------------\u001b[0m",
            "\u001b[0;31mTypeError\u001b[0m                                 Traceback (most recent call last)",
            "\u001b[0;32m<ipython-input-55-500da80604b8>\u001b[0m in \u001b[0;36m<cell line: 1>\u001b[0;34m()\u001b[0m\n\u001b[0;32m----> 1\u001b[0;31m \u001b[0md3\u001b[0m \u001b[0;34m=\u001b[0m \u001b[0;34m{\u001b[0m\u001b[0;34m{\u001b[0m\u001b[0;36m1\u001b[0m\u001b[0;34m,\u001b[0m\u001b[0;36m2\u001b[0m\u001b[0;34m,\u001b[0m\u001b[0;36m3\u001b[0m\u001b[0;34m,\u001b[0m\u001b[0;36m4\u001b[0m\u001b[0;34m}\u001b[0m\u001b[0;34m:\u001b[0m\u001b[0;34m\"set is not allowed\"\u001b[0m\u001b[0;34m}\u001b[0m\u001b[0;34m\u001b[0m\u001b[0;34m\u001b[0m\u001b[0m\n\u001b[0m\u001b[1;32m      2\u001b[0m \u001b[0;31m#set is not allowed\u001b[0m\u001b[0;34m\u001b[0m\u001b[0;34m\u001b[0m\u001b[0m\n",
            "\u001b[0;31mTypeError\u001b[0m: unhashable type: 'set'"
          ]
        }
      ],
      "source": [
        "d3 = {{1,2,3,4}:\"set is not allowed\"}\n",
        "#set is not allowed"
      ]
    },
    {
      "cell_type": "code",
      "execution_count": 56,
      "metadata": {
        "colab": {
          "base_uri": "https://localhost:8080/"
        },
        "id": "esgs8ECvzSKo",
        "outputId": "be689f90-b012-487b-b777-7870598a92a2"
      },
      "outputs": [
        {
          "output_type": "execute_result",
          "data": {
            "text/plain": [
              "{7457: 'sudh'}"
            ]
          },
          "metadata": {},
          "execution_count": 56
        }
      ],
      "source": [
        "d3 = {7457:\"sudh\"}\n",
        "d3"
      ]
    },
    {
      "cell_type": "code",
      "execution_count": 57,
      "metadata": {
        "colab": {
          "base_uri": "https://localhost:8080/"
        },
        "id": "yVM72QJjzSNp",
        "outputId": "aa469fd5-cdce-4a9f-f81d-bd1d85130015"
      },
      "outputs": [
        {
          "output_type": "execute_result",
          "data": {
            "text/plain": [
              "{7: 'sudh'}"
            ]
          },
          "metadata": {},
          "execution_count": 57
        }
      ],
      "source": [
        "d3 = {7%57:\"sudh\"}\n",
        "d3"
      ]
    },
    {
      "cell_type": "code",
      "execution_count": 58,
      "metadata": {
        "colab": {
          "base_uri": "https://localhost:8080/"
        },
        "id": "735cdCYRzSQn",
        "outputId": "68fdba6b-2041-4255-b63e-d52ba0989b28"
      },
      "outputs": [
        {
          "output_type": "execute_result",
          "data": {
            "text/plain": [
              "{'7%57': 'sudh'}"
            ]
          },
          "metadata": {},
          "execution_count": 58
        }
      ],
      "source": [
        "d3 = {\"7%57\":\"sudh\"}\n",
        "d3"
      ]
    },
    {
      "cell_type": "code",
      "execution_count": 59,
      "metadata": {
        "id": "H3iovmJXzSTE"
      },
      "outputs": [],
      "source": [
        "d4 = {'course':['dsa','java','webdev','blockchain','cloud'],'mentor':('sudh','krish','vish','sunny'),'price':{3500,2500,1500,25000},'duration':1,'Access':'1'}"
      ]
    },
    {
      "cell_type": "code",
      "execution_count": 60,
      "metadata": {
        "colab": {
          "base_uri": "https://localhost:8080/"
        },
        "id": "rN7yNuGrzSWe",
        "outputId": "560bf638-d1e9-4136-fccb-baae5b34b5c5"
      },
      "outputs": [
        {
          "output_type": "execute_result",
          "data": {
            "text/plain": [
              "{'course': ['dsa', 'java', 'webdev', 'blockchain', 'cloud'],\n",
              " 'mentor': ('sudh', 'krish', 'vish', 'sunny'),\n",
              " 'price': {1500, 2500, 3500, 25000},\n",
              " 'duration': 1,\n",
              " 'Access': '1'}"
            ]
          },
          "metadata": {},
          "execution_count": 60
        }
      ],
      "source": [
        "d4\n",
        "#value can be assigned multiple time"
      ]
    },
    {
      "cell_type": "code",
      "execution_count": 61,
      "metadata": {
        "colab": {
          "base_uri": "https://localhost:8080/"
        },
        "id": "gSWa9Rqo1vWd",
        "outputId": "e0a0f667-5020-42f4-c878-d104ccc33c69"
      },
      "outputs": [
        {
          "output_type": "execute_result",
          "data": {
            "text/plain": [
              "['dsa', 'java', 'webdev', 'blockchain', 'cloud']"
            ]
          },
          "metadata": {},
          "execution_count": 61
        }
      ],
      "source": [
        "d4['course']"
      ]
    },
    {
      "cell_type": "code",
      "execution_count": 62,
      "metadata": {
        "colab": {
          "base_uri": "https://localhost:8080/"
        },
        "id": "WOygy6-F5epC",
        "outputId": "166d6bee-8349-4b42-ab18-4bb8a40d3e82"
      },
      "outputs": [
        {
          "output_type": "execute_result",
          "data": {
            "text/plain": [
              "('sudh', 'krish', 'vish', 'sunny')"
            ]
          },
          "metadata": {},
          "execution_count": 62
        }
      ],
      "source": [
        "d4['mentor']"
      ]
    },
    {
      "cell_type": "code",
      "execution_count": 63,
      "metadata": {
        "colab": {
          "base_uri": "https://localhost:8080/"
        },
        "id": "fZ18VlJp51eU",
        "outputId": "24ec05e8-73a8-48e0-c046-71920ae50cc5"
      },
      "outputs": [
        {
          "output_type": "execute_result",
          "data": {
            "text/plain": [
              "{1500, 2500, 3500, 25000}"
            ]
          },
          "metadata": {},
          "execution_count": 63
        }
      ],
      "source": [
        "d4['price']"
      ]
    },
    {
      "cell_type": "code",
      "execution_count": 64,
      "metadata": {
        "colab": {
          "base_uri": "https://localhost:8080/"
        },
        "id": "TrwOid1659Cx",
        "outputId": "64f9b15a-a368-4fbf-8818-a3ea10596390"
      },
      "outputs": [
        {
          "output_type": "execute_result",
          "data": {
            "text/plain": [
              "1"
            ]
          },
          "metadata": {},
          "execution_count": 64
        }
      ],
      "source": [
        "d4['duration']"
      ]
    },
    {
      "cell_type": "code",
      "execution_count": 65,
      "metadata": {
        "colab": {
          "base_uri": "https://localhost:8080/",
          "height": 36
        },
        "id": "6TJj2sas6eVe",
        "outputId": "0a42f2bd-46aa-4734-eaac-9931f69bc8f0"
      },
      "outputs": [
        {
          "output_type": "execute_result",
          "data": {
            "text/plain": [
              "'1'"
            ],
            "application/vnd.google.colaboratory.intrinsic+json": {
              "type": "string"
            }
          },
          "metadata": {},
          "execution_count": 65
        }
      ],
      "source": [
        "d4['Access']"
      ]
    },
    {
      "cell_type": "code",
      "execution_count": 66,
      "metadata": {
        "id": "O6zkFtiz6edX"
      },
      "outputs": [],
      "source": [
        "d4 = {'course':['dsa','java','webdev','blockchain','cloud'],'mentor':('sudh','krish','vish','sunny'),'price':{3500,2500,1500,25000},'duration':1,'Access':'1','syllabus':{'python':['core python','oops','numpy','db'],'ml':['supervised','semisupervised','unsupervised']}}"
      ]
    },
    {
      "cell_type": "code",
      "execution_count": 67,
      "metadata": {
        "colab": {
          "base_uri": "https://localhost:8080/"
        },
        "id": "3LX7Q0ea6egX",
        "outputId": "c4954e3a-4cee-4219-932c-5984b1234cbf"
      },
      "outputs": [
        {
          "output_type": "execute_result",
          "data": {
            "text/plain": [
              "{'course': ['dsa', 'java', 'webdev', 'blockchain', 'cloud'],\n",
              " 'mentor': ('sudh', 'krish', 'vish', 'sunny'),\n",
              " 'price': {1500, 2500, 3500, 25000},\n",
              " 'duration': 1,\n",
              " 'Access': '1',\n",
              " 'syllabus': {'python': ['core python', 'oops', 'numpy', 'db'],\n",
              "  'ml': ['supervised', 'semisupervised', 'unsupervised']}}"
            ]
          },
          "metadata": {},
          "execution_count": 67
        }
      ],
      "source": [
        "d4"
      ]
    },
    {
      "cell_type": "code",
      "execution_count": 68,
      "metadata": {
        "colab": {
          "base_uri": "https://localhost:8080/"
        },
        "id": "t-Vou-So8vtF",
        "outputId": "c6ae7de4-33a2-4e1a-9e2c-b9664d312262"
      },
      "outputs": [
        {
          "output_type": "execute_result",
          "data": {
            "text/plain": [
              "{'name': 'jyotirmoy'}"
            ]
          },
          "metadata": {},
          "execution_count": 68
        }
      ],
      "source": [
        "d2"
      ]
    },
    {
      "cell_type": "code",
      "execution_count": 69,
      "metadata": {
        "id": "KPq2Vjvh6ei-"
      },
      "outputs": [],
      "source": [
        "d2[\"phone number\"]=4555444"
      ]
    },
    {
      "cell_type": "code",
      "execution_count": 70,
      "metadata": {
        "colab": {
          "base_uri": "https://localhost:8080/"
        },
        "id": "t0-OLu-e6emC",
        "outputId": "1e47d8a2-5989-4691-eb63-02f44700cb5f"
      },
      "outputs": [
        {
          "output_type": "execute_result",
          "data": {
            "text/plain": [
              "{'name': 'jyotirmoy', 'phone number': 4555444}"
            ]
          },
          "metadata": {},
          "execution_count": 70
        }
      ],
      "source": [
        "d2"
      ]
    },
    {
      "cell_type": "code",
      "execution_count": 71,
      "metadata": {
        "colab": {
          "base_uri": "https://localhost:8080/"
        },
        "id": "V9zTBa9K6epd",
        "outputId": "66ecc0f8-79ba-42e1-d290-23828965ce2b"
      },
      "outputs": [
        {
          "output_type": "execute_result",
          "data": {
            "text/plain": [
              "{'name': 'Sudhanshu', 'phone number': 4555444}"
            ]
          },
          "metadata": {},
          "execution_count": 71
        }
      ],
      "source": [
        "d2['name']=\"Sudhanshu\"\n",
        "d2\n",
        "#nme will be override as key is avaiable.  when key is not available then a new key will form"
      ]
    },
    {
      "cell_type": "code",
      "execution_count": 72,
      "metadata": {
        "id": "wUQ_eCcN6gmK"
      },
      "outputs": [],
      "source": [
        "#dictionary is a mutable entity"
      ]
    },
    {
      "cell_type": "markdown",
      "metadata": {
        "id": "Q3UiXW0f-pfC"
      },
      "source": [
        "1.String\n",
        "2.list\n",
        "3.tuple\n",
        "4.set\n",
        "5.dict"
      ]
    },
    {
      "cell_type": "code",
      "execution_count": 73,
      "metadata": {
        "id": "4EJAMVqV-pA7"
      },
      "outputs": [],
      "source": [
        "s1=\"pwskills\""
      ]
    },
    {
      "cell_type": "code",
      "execution_count": 74,
      "metadata": {
        "colab": {
          "base_uri": "https://localhost:8080/"
        },
        "id": "yLhmlo826guI",
        "outputId": "dcaae638-fedd-4658-f006-be194536956a"
      },
      "outputs": [
        {
          "output_type": "execute_result",
          "data": {
            "text/plain": [
              "2"
            ]
          },
          "metadata": {},
          "execution_count": 74
        }
      ],
      "source": [
        "s1.count('l')"
      ]
    },
    {
      "cell_type": "code",
      "execution_count": 75,
      "metadata": {
        "colab": {
          "base_uri": "https://localhost:8080/"
        },
        "id": "cPaMFq_9H1r4",
        "outputId": "b88c0e31-bb9e-473c-9b83-74adb73dc501"
      },
      "outputs": [
        {
          "output_type": "execute_result",
          "data": {
            "text/plain": [
              "2"
            ]
          },
          "metadata": {},
          "execution_count": 75
        }
      ],
      "source": [
        "s1.find(\"s\")\n",
        "#retuning two index of first occurace of a substring"
      ]
    },
    {
      "cell_type": "code",
      "execution_count": 76,
      "metadata": {
        "colab": {
          "base_uri": "https://localhost:8080/"
        },
        "id": "mVGhOcyDITeZ",
        "outputId": "ef56461f-777a-405b-933d-e67afdcad387"
      },
      "outputs": [
        {
          "output_type": "execute_result",
          "data": {
            "text/plain": [
              "0"
            ]
          },
          "metadata": {},
          "execution_count": 76
        }
      ],
      "source": [
        "s1.index(\"p\")"
      ]
    },
    {
      "cell_type": "code",
      "execution_count": 77,
      "metadata": {
        "colab": {
          "base_uri": "https://localhost:8080/"
        },
        "id": "3rtbYuamIcps",
        "outputId": "38ba871e-c0e5-4a86-a37f-f4378be449b8"
      },
      "outputs": [
        {
          "output_type": "execute_result",
          "data": {
            "text/plain": [
              "2"
            ]
          },
          "metadata": {},
          "execution_count": 77
        }
      ],
      "source": [
        "s1.index(\"s\")"
      ]
    },
    {
      "cell_type": "code",
      "execution_count": 78,
      "metadata": {
        "colab": {
          "base_uri": "https://localhost:8080/"
        },
        "id": "Tpg-vnarIg4C",
        "outputId": "39e88d05-b54e-4f15-faa6-5bbefe5470ee"
      },
      "outputs": [
        {
          "output_type": "execute_result",
          "data": {
            "text/plain": [
              "-1"
            ]
          },
          "metadata": {},
          "execution_count": 78
        }
      ],
      "source": [
        "s1.find('z')"
      ]
    },
    {
      "cell_type": "code",
      "execution_count": 79,
      "metadata": {
        "colab": {
          "base_uri": "https://localhost:8080/",
          "height": 175
        },
        "id": "kLaBeZs3Ivkn",
        "outputId": "a4ac412a-220b-499f-d15a-9374bcb92bf4"
      },
      "outputs": [
        {
          "output_type": "error",
          "ename": "ValueError",
          "evalue": "ignored",
          "traceback": [
            "\u001b[0;31m---------------------------------------------------------------------------\u001b[0m",
            "\u001b[0;31mValueError\u001b[0m                                Traceback (most recent call last)",
            "\u001b[0;32m<ipython-input-79-370e9eff71b3>\u001b[0m in \u001b[0;36m<cell line: 1>\u001b[0;34m()\u001b[0m\n\u001b[0;32m----> 1\u001b[0;31m \u001b[0ms1\u001b[0m\u001b[0;34m.\u001b[0m\u001b[0mindex\u001b[0m\u001b[0;34m(\u001b[0m\u001b[0;34m'z'\u001b[0m\u001b[0;34m)\u001b[0m\u001b[0;34m\u001b[0m\u001b[0;34m\u001b[0m\u001b[0m\n\u001b[0m",
            "\u001b[0;31mValueError\u001b[0m: substring not found"
          ]
        }
      ],
      "source": [
        "s1.index('z')"
      ]
    },
    {
      "cell_type": "code",
      "execution_count": 80,
      "metadata": {
        "colab": {
          "base_uri": "https://localhost:8080/",
          "height": 36
        },
        "id": "XluVB588Izdc",
        "outputId": "e782a059-736c-4414-f9f8-f279afebf2b5"
      },
      "outputs": [
        {
          "output_type": "execute_result",
          "data": {
            "text/plain": [
              "'PWSKILLS'"
            ],
            "application/vnd.google.colaboratory.intrinsic+json": {
              "type": "string"
            }
          },
          "metadata": {},
          "execution_count": 80
        }
      ],
      "source": [
        "s1.upper()"
      ]
    },
    {
      "cell_type": "code",
      "execution_count": 81,
      "metadata": {
        "colab": {
          "base_uri": "https://localhost:8080/",
          "height": 36
        },
        "id": "i_PkY0KIIzf9",
        "outputId": "95fe5752-ebd5-4ad1-a028-4e08e566b96f"
      },
      "outputs": [
        {
          "output_type": "execute_result",
          "data": {
            "text/plain": [
              "'pwskills'"
            ],
            "application/vnd.google.colaboratory.intrinsic+json": {
              "type": "string"
            }
          },
          "metadata": {},
          "execution_count": 81
        }
      ],
      "source": [
        "s1.lower()"
      ]
    },
    {
      "cell_type": "code",
      "execution_count": 82,
      "metadata": {
        "colab": {
          "base_uri": "https://localhost:8080/",
          "height": 175
        },
        "id": "qHkUQskYIzjm",
        "outputId": "523ce820-ddd1-47aa-c37d-107de1c77eb0"
      },
      "outputs": [
        {
          "output_type": "error",
          "ename": "AttributeError",
          "evalue": "ignored",
          "traceback": [
            "\u001b[0;31m---------------------------------------------------------------------------\u001b[0m",
            "\u001b[0;31mAttributeError\u001b[0m                            Traceback (most recent call last)",
            "\u001b[0;32m<ipython-input-82-c4f700dcb252>\u001b[0m in \u001b[0;36m<cell line: 1>\u001b[0;34m()\u001b[0m\n\u001b[0;32m----> 1\u001b[0;31m \u001b[0ms1\u001b[0m\u001b[0;34m.\u001b[0m\u001b[0mtittle\u001b[0m\u001b[0;34m(\u001b[0m\u001b[0;34m)\u001b[0m\u001b[0;34m\u001b[0m\u001b[0;34m\u001b[0m\u001b[0m\n\u001b[0m",
            "\u001b[0;31mAttributeError\u001b[0m: 'str' object has no attribute 'tittle'"
          ]
        }
      ],
      "source": [
        "s1.tittle()"
      ]
    },
    {
      "cell_type": "code",
      "execution_count": 83,
      "metadata": {
        "id": "Mx3Ub1hMIzmU"
      },
      "outputs": [],
      "source": [
        "s2 ='my name is jyotirmoy'"
      ]
    },
    {
      "cell_type": "code",
      "execution_count": 84,
      "metadata": {
        "colab": {
          "base_uri": "https://localhost:8080/",
          "height": 36
        },
        "id": "6G4AHkgsJlz7",
        "outputId": "d968df46-52b8-441b-b5a6-f074eccbbb9d"
      },
      "outputs": [
        {
          "output_type": "execute_result",
          "data": {
            "text/plain": [
              "'my name is jyotirmoy'"
            ],
            "application/vnd.google.colaboratory.intrinsic+json": {
              "type": "string"
            }
          },
          "metadata": {},
          "execution_count": 84
        }
      ],
      "source": [
        "s2"
      ]
    },
    {
      "cell_type": "code",
      "execution_count": 85,
      "metadata": {
        "colab": {
          "base_uri": "https://localhost:8080/",
          "height": 36
        },
        "id": "_oZu1bRWIzpb",
        "outputId": "548c73fc-7adb-468a-d8f5-4606f57e9ae3"
      },
      "outputs": [
        {
          "output_type": "execute_result",
          "data": {
            "text/plain": [
              "'My Name Is Jyotirmoy'"
            ],
            "application/vnd.google.colaboratory.intrinsic+json": {
              "type": "string"
            }
          },
          "metadata": {},
          "execution_count": 85
        }
      ],
      "source": [
        "s2.title()"
      ]
    },
    {
      "cell_type": "code",
      "execution_count": 86,
      "metadata": {
        "colab": {
          "base_uri": "https://localhost:8080/"
        },
        "id": "UbRK5Tk9IzsX",
        "outputId": "484b5d0f-f10c-4159-db2d-284c5c3da3ea"
      },
      "outputs": [
        {
          "output_type": "execute_result",
          "data": {
            "text/plain": [
              "['my', 'name', 'is', 'jyotirmoy']"
            ]
          },
          "metadata": {},
          "execution_count": 86
        }
      ],
      "source": [
        "s2.split()\n",
        "#split return list"
      ]
    },
    {
      "cell_type": "code",
      "execution_count": 87,
      "metadata": {
        "id": "9EZEajNyJzc2"
      },
      "outputs": [],
      "source": [
        "s2 ='my, name ,is ,jyotirmoy'"
      ]
    },
    {
      "cell_type": "code",
      "execution_count": 88,
      "metadata": {
        "colab": {
          "base_uri": "https://localhost:8080/"
        },
        "id": "sbbt4m0UIzvj",
        "outputId": "dd6e0a7f-7a18-403a-b4d7-86ebdf4c0978"
      },
      "outputs": [
        {
          "output_type": "execute_result",
          "data": {
            "text/plain": [
              "['my,', 'name', ',is', ',jyotirmoy']"
            ]
          },
          "metadata": {},
          "execution_count": 88
        }
      ],
      "source": [
        "s2.split()"
      ]
    },
    {
      "cell_type": "code",
      "execution_count": 89,
      "metadata": {
        "id": "O6fDaQkdKGga"
      },
      "outputs": [],
      "source": [
        "s2 ='my,name,is ,jyotirmoy'"
      ]
    },
    {
      "cell_type": "code",
      "execution_count": 90,
      "metadata": {
        "colab": {
          "base_uri": "https://localhost:8080/"
        },
        "id": "JKL2yvsOIzy4",
        "outputId": "07cef071-027d-4ed1-e450-12c8495555c3"
      },
      "outputs": [
        {
          "output_type": "execute_result",
          "data": {
            "text/plain": [
              "['my,name,is', ',jyotirmoy']"
            ]
          },
          "metadata": {},
          "execution_count": 90
        }
      ],
      "source": [
        "s2.split()\n",
        "#by defyult when there is space it is going to split"
      ]
    },
    {
      "cell_type": "code",
      "execution_count": 91,
      "metadata": {
        "colab": {
          "base_uri": "https://localhost:8080/"
        },
        "id": "5sIIKUpeKr7w",
        "outputId": "32b8d578-be32-4dcf-f2ed-86270c8c2f41"
      },
      "outputs": [
        {
          "output_type": "execute_result",
          "data": {
            "text/plain": [
              "['my', 'name', 'is ', 'jyotirmoy']"
            ]
          },
          "metadata": {},
          "execution_count": 91
        }
      ],
      "source": [
        "s2.split(',')\n",
        "#split based on ,"
      ]
    },
    {
      "cell_type": "code",
      "execution_count": 92,
      "metadata": {
        "colab": {
          "base_uri": "https://localhost:8080/"
        },
        "id": "6PbPEW76KxtR",
        "outputId": "c0e8239e-f026-4bab-cd8b-bec690e9ec4f"
      },
      "outputs": [
        {
          "output_type": "execute_result",
          "data": {
            "text/plain": [
              "['my,name,i', ' ,jyotirmoy']"
            ]
          },
          "metadata": {},
          "execution_count": 92
        }
      ],
      "source": [
        "s2.split('s')"
      ]
    },
    {
      "cell_type": "code",
      "execution_count": 93,
      "metadata": {
        "id": "bqeNdZ0PLBf1"
      },
      "outputs": [],
      "source": [
        "s4 =\"This is my sendond day .I am doing it verry happly \""
      ]
    },
    {
      "cell_type": "code",
      "execution_count": 94,
      "metadata": {
        "colab": {
          "base_uri": "https://localhost:8080/",
          "height": 36
        },
        "id": "93tWeKq2LPC6",
        "outputId": "06f00922-3f6b-406b-9a9c-04328780bd09"
      },
      "outputs": [
        {
          "output_type": "execute_result",
          "data": {
            "text/plain": [
              "'This is my sendond day .I am doing it verry happly '"
            ],
            "application/vnd.google.colaboratory.intrinsic+json": {
              "type": "string"
            }
          },
          "metadata": {},
          "execution_count": 94
        }
      ],
      "source": [
        "s4"
      ]
    },
    {
      "cell_type": "code",
      "execution_count": 95,
      "metadata": {
        "colab": {
          "base_uri": "https://localhost:8080/"
        },
        "id": "68cOsxb7LQkl",
        "outputId": "6ead227e-fb88-42c3-d8aa-39a4127a8f60"
      },
      "outputs": [
        {
          "output_type": "execute_result",
          "data": {
            "text/plain": [
              "['This',\n",
              " 'is',\n",
              " 'my',\n",
              " 'sendond',\n",
              " 'day',\n",
              " '.I',\n",
              " 'am',\n",
              " 'doing',\n",
              " 'it',\n",
              " 'verry',\n",
              " 'happly']"
            ]
          },
          "metadata": {},
          "execution_count": 95
        }
      ],
      "source": [
        "s4.split()"
      ]
    },
    {
      "cell_type": "code",
      "execution_count": 96,
      "metadata": {
        "colab": {
          "base_uri": "https://localhost:8080/"
        },
        "id": "l1A3sbsOLPGK",
        "outputId": "2149f5ab-6fa7-428d-bf9e-aaf34cfbb68e"
      },
      "outputs": [
        {
          "output_type": "execute_result",
          "data": {
            "text/plain": [
              "['This is my sendond day ', 'I am doing it verry happly ']"
            ]
          },
          "metadata": {},
          "execution_count": 96
        }
      ],
      "source": [
        "s4.split('.')"
      ]
    },
    {
      "cell_type": "code",
      "execution_count": 97,
      "metadata": {
        "colab": {
          "base_uri": "https://localhost:8080/",
          "height": 36
        },
        "id": "d_NhUg7VLYoN",
        "outputId": "cd59e261-84af-4da6-a3ca-63c0152daddf"
      },
      "outputs": [
        {
          "output_type": "execute_result",
          "data": {
            "text/plain": [
              "'This is my sendond day '"
            ],
            "application/vnd.google.colaboratory.intrinsic+json": {
              "type": "string"
            }
          },
          "metadata": {},
          "execution_count": 97
        }
      ],
      "source": [
        "s4.split('.')[0]"
      ]
    },
    {
      "cell_type": "code",
      "execution_count": 98,
      "metadata": {
        "colab": {
          "base_uri": "https://localhost:8080/",
          "height": 36
        },
        "id": "WM5NOI0ULgOj",
        "outputId": "61259902-a726-438a-8df9-658b273f9308"
      },
      "outputs": [
        {
          "output_type": "execute_result",
          "data": {
            "text/plain": [
              "'I am doing it verry happly '"
            ],
            "application/vnd.google.colaboratory.intrinsic+json": {
              "type": "string"
            }
          },
          "metadata": {},
          "execution_count": 98
        }
      ],
      "source": [
        "s4.split('.')[1]"
      ]
    },
    {
      "cell_type": "code",
      "execution_count": 99,
      "metadata": {
        "colab": {
          "base_uri": "https://localhost:8080/",
          "height": 36
        },
        "id": "xxasOLSgLyNL",
        "outputId": "910eee6a-70c4-490f-e9c4-d25ce7b43f54"
      },
      "outputs": [
        {
          "output_type": "execute_result",
          "data": {
            "text/plain": [
              "'Pwskills'"
            ],
            "application/vnd.google.colaboratory.intrinsic+json": {
              "type": "string"
            }
          },
          "metadata": {},
          "execution_count": 99
        }
      ],
      "source": [
        "s1.capitalize()"
      ]
    },
    {
      "cell_type": "code",
      "execution_count": 100,
      "metadata": {
        "colab": {
          "base_uri": "https://localhost:8080/",
          "height": 36
        },
        "id": "oQL7KTtaL41K",
        "outputId": "a7d7f299-cc8a-4322-92ca-6515176d6361"
      },
      "outputs": [
        {
          "output_type": "execute_result",
          "data": {
            "text/plain": [
              "'My,name,is ,jyotirmoy'"
            ],
            "application/vnd.google.colaboratory.intrinsic+json": {
              "type": "string"
            }
          },
          "metadata": {},
          "execution_count": 100
        }
      ],
      "source": [
        "s2.capitalize()"
      ]
    },
    {
      "cell_type": "code",
      "execution_count": 101,
      "metadata": {
        "colab": {
          "base_uri": "https://localhost:8080/",
          "height": 36
        },
        "id": "fgPDOQw6MHkI",
        "outputId": "b53800f0-be74-4b82-a28a-14c24d94f6a0"
      },
      "outputs": [
        {
          "output_type": "execute_result",
          "data": {
            "text/plain": [
              "'my,aame,is ,jyotirmoy'"
            ],
            "application/vnd.google.colaboratory.intrinsic+json": {
              "type": "string"
            }
          },
          "metadata": {},
          "execution_count": 101
        }
      ],
      "source": [
        "s2.replace('n','a')\n",
        "#name -> a"
      ]
    },
    {
      "cell_type": "code",
      "execution_count": 102,
      "metadata": {
        "colab": {
          "base_uri": "https://localhost:8080/",
          "height": 36
        },
        "id": "Q4iPZCiaMHzB",
        "outputId": "0330474a-2608-414c-db5b-3d9e07742bee"
      },
      "outputs": [
        {
          "output_type": "execute_result",
          "data": {
            "text/plain": [
              "'my,name,is ,jyotirmoy'"
            ],
            "application/vnd.google.colaboratory.intrinsic+json": {
              "type": "string"
            }
          },
          "metadata": {},
          "execution_count": 102
        }
      ],
      "source": [
        "s2\n",
        "#string is not changed\n",
        "#it is creating new entities"
      ]
    },
    {
      "cell_type": "code",
      "execution_count": 103,
      "metadata": {
        "id": "Fz1HCe4bNDL9"
      },
      "outputs": [],
      "source": [
        "#string is always immutBLE"
      ]
    },
    {
      "cell_type": "code",
      "execution_count": 104,
      "metadata": {
        "colab": {
          "base_uri": "https://localhost:8080/",
          "height": 36
        },
        "id": "Tw5xiWhJMH2d",
        "outputId": "6ded41b1-e27a-4792-b92e-4c58be8aba06"
      },
      "outputs": [
        {
          "output_type": "execute_result",
          "data": {
            "text/plain": [
              "'ffffffffffffffffpwskillsffffffffffffffff'"
            ],
            "application/vnd.google.colaboratory.intrinsic+json": {
              "type": "string"
            }
          },
          "metadata": {},
          "execution_count": 104
        }
      ],
      "source": [
        "s1.center(40,'f')"
      ]
    },
    {
      "cell_type": "code",
      "execution_count": 105,
      "metadata": {
        "colab": {
          "base_uri": "https://localhost:8080/",
          "height": 36
        },
        "id": "Y1U5nR1nMH51",
        "outputId": "a30d281c-a57e-4cb6-f04b-438bfda96a49"
      },
      "outputs": [
        {
          "output_type": "execute_result",
          "data": {
            "text/plain": [
              "'pwskills'"
            ],
            "application/vnd.google.colaboratory.intrinsic+json": {
              "type": "string"
            }
          },
          "metadata": {},
          "execution_count": 105
        }
      ],
      "source": [
        "s1.rstrip()"
      ]
    },
    {
      "cell_type": "code",
      "execution_count": 106,
      "metadata": {
        "id": "UMeVbPK1MH8t"
      },
      "outputs": [],
      "source": [
        "s5 =\"  pwskills   \""
      ]
    },
    {
      "cell_type": "code",
      "execution_count": 107,
      "metadata": {
        "colab": {
          "base_uri": "https://localhost:8080/",
          "height": 36
        },
        "id": "b-9zq0ATMIAq",
        "outputId": "fa52ca09-e6fc-4542-b9ea-844613683972"
      },
      "outputs": [
        {
          "output_type": "execute_result",
          "data": {
            "text/plain": [
              "'  pwskills'"
            ],
            "application/vnd.google.colaboratory.intrinsic+json": {
              "type": "string"
            }
          },
          "metadata": {},
          "execution_count": 107
        }
      ],
      "source": [
        "s5.rstrip()"
      ]
    },
    {
      "cell_type": "code",
      "execution_count": 108,
      "metadata": {
        "colab": {
          "base_uri": "https://localhost:8080/",
          "height": 36
        },
        "id": "jr53kCmlMIEa",
        "outputId": "d5f379c3-f05b-4d42-d6b5-532e3176f168"
      },
      "outputs": [
        {
          "output_type": "execute_result",
          "data": {
            "text/plain": [
              "'pwskills   '"
            ],
            "application/vnd.google.colaboratory.intrinsic+json": {
              "type": "string"
            }
          },
          "metadata": {},
          "execution_count": 108
        }
      ],
      "source": [
        "s5.lstrip()"
      ]
    },
    {
      "cell_type": "code",
      "execution_count": 109,
      "metadata": {
        "colab": {
          "base_uri": "https://localhost:8080/",
          "height": 36
        },
        "id": "oL_YqaeeSCHN",
        "outputId": "536be8e6-51c5-4e8b-deec-9cb66a4dcc08"
      },
      "outputs": [
        {
          "output_type": "execute_result",
          "data": {
            "text/plain": [
              "'pwskills'"
            ],
            "application/vnd.google.colaboratory.intrinsic+json": {
              "type": "string"
            }
          },
          "metadata": {},
          "execution_count": 109
        }
      ],
      "source": [
        "s5.strip()"
      ]
    },
    {
      "cell_type": "code",
      "execution_count": 110,
      "metadata": {
        "colab": {
          "base_uri": "https://localhost:8080/"
        },
        "id": "QuBQu0nhSGal",
        "outputId": "26e1f77b-c800-4ffb-ffa6-e31b76c71904"
      },
      "outputs": [
        {
          "output_type": "execute_result",
          "data": {
            "text/plain": [
              "True"
            ]
          },
          "metadata": {},
          "execution_count": 110
        }
      ],
      "source": [
        "s1.isalnum()"
      ]
    },
    {
      "cell_type": "code",
      "execution_count": 111,
      "metadata": {
        "id": "lXncwp7iSGiN",
        "colab": {
          "base_uri": "https://localhost:8080/"
        },
        "outputId": "b7707482-4b0a-4d9a-ca1b-dcc65b24286d"
      },
      "outputs": [
        {
          "output_type": "execute_result",
          "data": {
            "text/plain": [
              "True"
            ]
          },
          "metadata": {},
          "execution_count": 111
        }
      ],
      "source": [
        "s1.isalpha()"
      ]
    },
    {
      "cell_type": "code",
      "execution_count": 112,
      "metadata": {
        "id": "IJ3f1scfSGlt",
        "colab": {
          "base_uri": "https://localhost:8080/"
        },
        "outputId": "9e77dc36-688a-4d0a-d783-8b61c9b7e23c"
      },
      "outputs": [
        {
          "output_type": "execute_result",
          "data": {
            "text/plain": [
              "False"
            ]
          },
          "metadata": {},
          "execution_count": 112
        }
      ],
      "source": [
        "s1.isnumeric()"
      ]
    },
    {
      "cell_type": "code",
      "execution_count": 113,
      "metadata": {
        "id": "jDqi8_NzSGo8",
        "colab": {
          "base_uri": "https://localhost:8080/"
        },
        "outputId": "7091c8f5-7e32-4c2a-c87b-4638cd0712ca"
      },
      "outputs": [
        {
          "output_type": "execute_result",
          "data": {
            "text/plain": [
              "True"
            ]
          },
          "metadata": {},
          "execution_count": 113
        }
      ],
      "source": [
        "s1.islower()"
      ]
    },
    {
      "cell_type": "code",
      "execution_count": 114,
      "metadata": {
        "id": "H0334dNpSGsJ",
        "colab": {
          "base_uri": "https://localhost:8080/",
          "height": 36
        },
        "outputId": "bb565b3b-1674-4fa3-fabf-f42650b03827"
      },
      "outputs": [
        {
          "output_type": "execute_result",
          "data": {
            "text/plain": [
              "'pwskills'"
            ],
            "application/vnd.google.colaboratory.intrinsic+json": {
              "type": "string"
            }
          },
          "metadata": {},
          "execution_count": 114
        }
      ],
      "source": [
        "s1"
      ]
    },
    {
      "cell_type": "code",
      "execution_count": 115,
      "metadata": {
        "id": "RFIyQ2E1SGvc"
      },
      "outputs": [],
      "source": [
        "li.append(\"Jyotirmoy\")"
      ]
    },
    {
      "cell_type": "code",
      "execution_count": 116,
      "metadata": {
        "id": "afF9jawaMIH4",
        "colab": {
          "base_uri": "https://localhost:8080/"
        },
        "outputId": "6be9ce5f-f20e-496f-c5d9-8ce0f20c8d1a"
      },
      "outputs": [
        {
          "output_type": "execute_result",
          "data": {
            "text/plain": [
              "[1,\n",
              " 2,\n",
              " 3,\n",
              " 4,\n",
              " 5,\n",
              " 'jyotirmoy',\n",
              " 'banerjee',\n",
              " (3+6j),\n",
              " 345.66,\n",
              " True,\n",
              " [3, 4, 5, 6],\n",
              " 'Jyotirmoy']"
            ]
          },
          "metadata": {},
          "execution_count": 116
        }
      ],
      "source": [
        "li\n",
        "#list append after last by default"
      ]
    },
    {
      "cell_type": "code",
      "execution_count": 117,
      "metadata": {
        "id": "zvsT3-4iMIK-"
      },
      "outputs": [],
      "source": [
        "li.insert(3,'pwskills')"
      ]
    },
    {
      "cell_type": "code",
      "source": [
        "li"
      ],
      "metadata": {
        "colab": {
          "base_uri": "https://localhost:8080/"
        },
        "id": "etnOvz3oUrgz",
        "outputId": "89447ca9-eb54-45ad-935a-0f0045267d0f"
      },
      "execution_count": 118,
      "outputs": [
        {
          "output_type": "execute_result",
          "data": {
            "text/plain": [
              "[1,\n",
              " 2,\n",
              " 3,\n",
              " 'pwskills',\n",
              " 4,\n",
              " 5,\n",
              " 'jyotirmoy',\n",
              " 'banerjee',\n",
              " (3+6j),\n",
              " 345.66,\n",
              " True,\n",
              " [3, 4, 5, 6],\n",
              " 'Jyotirmoy']"
            ]
          },
          "metadata": {},
          "execution_count": 118
        }
      ]
    },
    {
      "cell_type": "code",
      "source": [
        "l2.extend('sudh')"
      ],
      "metadata": {
        "id": "iRYA3ACFVJkW"
      },
      "execution_count": 119,
      "outputs": []
    },
    {
      "cell_type": "code",
      "source": [
        "l2\n",
        "#split -> sudh"
      ],
      "metadata": {
        "colab": {
          "base_uri": "https://localhost:8080/"
        },
        "id": "baxxIIWkVnVy",
        "outputId": "8b339940-3a20-482e-b5cc-b36b48a687f6"
      },
      "execution_count": 120,
      "outputs": [
        {
          "output_type": "execute_result",
          "data": {
            "text/plain": [
              "[300, 2, 'gsgd', 's', 'u', 'd', 'h']"
            ]
          },
          "metadata": {},
          "execution_count": 120
        }
      ]
    },
    {
      "cell_type": "code",
      "source": [
        "l3=[1,2,2]"
      ],
      "metadata": {
        "id": "b1xp-4AWVvjG"
      },
      "execution_count": 121,
      "outputs": []
    },
    {
      "cell_type": "code",
      "source": [
        "l3.append([1,2,3])"
      ],
      "metadata": {
        "id": "9WkDmKHfV591"
      },
      "execution_count": 122,
      "outputs": []
    },
    {
      "cell_type": "code",
      "source": [
        "l3"
      ],
      "metadata": {
        "colab": {
          "base_uri": "https://localhost:8080/"
        },
        "id": "wwAx-Q13V_lr",
        "outputId": "f07eb4d7-e05c-420c-de70-1398be0743a3"
      },
      "execution_count": 123,
      "outputs": [
        {
          "output_type": "execute_result",
          "data": {
            "text/plain": [
              "[1, 2, 2, [1, 2, 3]]"
            ]
          },
          "metadata": {},
          "execution_count": 123
        }
      ]
    },
    {
      "cell_type": "code",
      "source": [
        "l3.insert(1,[6,7,8])"
      ],
      "metadata": {
        "id": "bxNIDEwcWSJS"
      },
      "execution_count": 124,
      "outputs": []
    },
    {
      "cell_type": "code",
      "source": [
        "l3"
      ],
      "metadata": {
        "colab": {
          "base_uri": "https://localhost:8080/"
        },
        "id": "X12q41XaWZ2u",
        "outputId": "2ba11a27-041f-4df4-fa77-a3293f034c2b"
      },
      "execution_count": 125,
      "outputs": [
        {
          "output_type": "execute_result",
          "data": {
            "text/plain": [
              "[1, [6, 7, 8], 2, 2, [1, 2, 3]]"
            ]
          },
          "metadata": {},
          "execution_count": 125
        }
      ]
    },
    {
      "cell_type": "code",
      "source": [
        "l3.extend([4,5,6])"
      ],
      "metadata": {
        "id": "raezWUCjWb7Z"
      },
      "execution_count": 126,
      "outputs": []
    },
    {
      "cell_type": "code",
      "source": [
        "l3.pop()\n",
        "#remove from last by default"
      ],
      "metadata": {
        "colab": {
          "base_uri": "https://localhost:8080/"
        },
        "id": "fQeECkebWlM8",
        "outputId": "f8400390-f742-4adf-ea9f-e96d81c0aec3"
      },
      "execution_count": 127,
      "outputs": [
        {
          "output_type": "execute_result",
          "data": {
            "text/plain": [
              "6"
            ]
          },
          "metadata": {},
          "execution_count": 127
        }
      ]
    },
    {
      "cell_type": "code",
      "source": [
        "l3.pop(1)\n",
        "#remove by index"
      ],
      "metadata": {
        "colab": {
          "base_uri": "https://localhost:8080/"
        },
        "id": "2B9j23c-XNpP",
        "outputId": "af2a573e-7431-41d4-a0b0-010a746e7517"
      },
      "execution_count": 128,
      "outputs": [
        {
          "output_type": "execute_result",
          "data": {
            "text/plain": [
              "[6, 7, 8]"
            ]
          },
          "metadata": {},
          "execution_count": 128
        }
      ]
    },
    {
      "cell_type": "code",
      "source": [
        "l3"
      ],
      "metadata": {
        "colab": {
          "base_uri": "https://localhost:8080/"
        },
        "id": "3ad0JL0_7Hty",
        "outputId": "cff7cf4c-20a7-4263-bab2-6c5cd9f9a866"
      },
      "execution_count": 129,
      "outputs": [
        {
          "output_type": "execute_result",
          "data": {
            "text/plain": [
              "[1, 2, 2, [1, 2, 3], 4, 5]"
            ]
          },
          "metadata": {},
          "execution_count": 129
        }
      ]
    },
    {
      "cell_type": "code",
      "source": [
        "del l3"
      ],
      "metadata": {
        "id": "l8lEqkqI7Ni7"
      },
      "execution_count": 130,
      "outputs": []
    },
    {
      "cell_type": "code",
      "source": [
        "#delete the complete list itself"
      ],
      "metadata": {
        "id": "6YKbrPHL7NwI"
      },
      "execution_count": 131,
      "outputs": []
    },
    {
      "cell_type": "code",
      "source": [
        "l3"
      ],
      "metadata": {
        "colab": {
          "base_uri": "https://localhost:8080/",
          "height": 175
        },
        "id": "rj395tN_7Ny-",
        "outputId": "3fe75c4a-6f0a-4521-f6e1-54e75378780e"
      },
      "execution_count": 132,
      "outputs": [
        {
          "output_type": "error",
          "ename": "NameError",
          "evalue": "ignored",
          "traceback": [
            "\u001b[0;31m---------------------------------------------------------------------------\u001b[0m",
            "\u001b[0;31mNameError\u001b[0m                                 Traceback (most recent call last)",
            "\u001b[0;32m<ipython-input-132-b8fff4990345>\u001b[0m in \u001b[0;36m<cell line: 1>\u001b[0;34m()\u001b[0m\n\u001b[0;32m----> 1\u001b[0;31m \u001b[0ml3\u001b[0m\u001b[0;34m\u001b[0m\u001b[0;34m\u001b[0m\u001b[0m\n\u001b[0m",
            "\u001b[0;31mNameError\u001b[0m: name 'l3' is not defined"
          ]
        }
      ]
    },
    {
      "cell_type": "code",
      "source": [
        "s2 = \"my name is jyotirmoy\""
      ],
      "metadata": {
        "id": "fAGazT1Q7N1p"
      },
      "execution_count": 133,
      "outputs": []
    },
    {
      "cell_type": "code",
      "source": [
        "s2"
      ],
      "metadata": {
        "colab": {
          "base_uri": "https://localhost:8080/",
          "height": 36
        },
        "id": "5ibZpbiG7N4x",
        "outputId": "2e7e35dc-e15e-45d5-b8bc-711b86043a37"
      },
      "execution_count": 134,
      "outputs": [
        {
          "output_type": "execute_result",
          "data": {
            "text/plain": [
              "'my name is jyotirmoy'"
            ],
            "application/vnd.google.colaboratory.intrinsic+json": {
              "type": "string"
            }
          },
          "metadata": {},
          "execution_count": 134
        }
      ]
    },
    {
      "cell_type": "code",
      "source": [
        "del s2"
      ],
      "metadata": {
        "id": "SP7sgpkj7N7b"
      },
      "execution_count": 135,
      "outputs": []
    },
    {
      "cell_type": "code",
      "source": [
        "s2"
      ],
      "metadata": {
        "colab": {
          "base_uri": "https://localhost:8080/",
          "height": 175
        },
        "id": "1N3qOTJt7N-7",
        "outputId": "400cc9a2-e25c-44d6-ecc1-20fd3bed7639"
      },
      "execution_count": 136,
      "outputs": [
        {
          "output_type": "error",
          "ename": "NameError",
          "evalue": "ignored",
          "traceback": [
            "\u001b[0;31m---------------------------------------------------------------------------\u001b[0m",
            "\u001b[0;31mNameError\u001b[0m                                 Traceback (most recent call last)",
            "\u001b[0;32m<ipython-input-136-630081a5992e>\u001b[0m in \u001b[0;36m<cell line: 1>\u001b[0;34m()\u001b[0m\n\u001b[0;32m----> 1\u001b[0;31m \u001b[0ms2\u001b[0m\u001b[0;34m\u001b[0m\u001b[0;34m\u001b[0m\u001b[0m\n\u001b[0m",
            "\u001b[0;31mNameError\u001b[0m: name 's2' is not defined"
          ]
        }
      ]
    },
    {
      "cell_type": "code",
      "source": [
        "l2.remove('s')\n",
        "#remove first occurace"
      ],
      "metadata": {
        "id": "9_meRVmA7OCz"
      },
      "execution_count": 138,
      "outputs": []
    },
    {
      "cell_type": "code",
      "source": [
        "l2"
      ],
      "metadata": {
        "colab": {
          "base_uri": "https://localhost:8080/"
        },
        "id": "MfgLzKJk8Fg9",
        "outputId": "33dc8acf-c225-442f-d690-100492d1180b"
      },
      "execution_count": 139,
      "outputs": [
        {
          "output_type": "execute_result",
          "data": {
            "text/plain": [
              "[300, 2, 'gsgd', 'u', 'd', 'h']"
            ]
          },
          "metadata": {},
          "execution_count": 139
        }
      ]
    },
    {
      "cell_type": "code",
      "source": [
        "l2.remove('z')"
      ],
      "metadata": {
        "colab": {
          "base_uri": "https://localhost:8080/",
          "height": 175
        },
        "id": "ToxlpXWu8QjF",
        "outputId": "31bc7f08-d51f-4354-f39d-6c6aa5357921"
      },
      "execution_count": 140,
      "outputs": [
        {
          "output_type": "error",
          "ename": "ValueError",
          "evalue": "ignored",
          "traceback": [
            "\u001b[0;31m---------------------------------------------------------------------------\u001b[0m",
            "\u001b[0;31mValueError\u001b[0m                                Traceback (most recent call last)",
            "\u001b[0;32m<ipython-input-140-fce8254c880e>\u001b[0m in \u001b[0;36m<cell line: 1>\u001b[0;34m()\u001b[0m\n\u001b[0;32m----> 1\u001b[0;31m \u001b[0ml2\u001b[0m\u001b[0;34m.\u001b[0m\u001b[0mremove\u001b[0m\u001b[0;34m(\u001b[0m\u001b[0;34m'z'\u001b[0m\u001b[0;34m)\u001b[0m\u001b[0;34m\u001b[0m\u001b[0;34m\u001b[0m\u001b[0m\n\u001b[0m",
            "\u001b[0;31mValueError\u001b[0m: list.remove(x): x not in list"
          ]
        }
      ]
    },
    {
      "cell_type": "code",
      "source": [
        "l2.pop(1000)"
      ],
      "metadata": {
        "colab": {
          "base_uri": "https://localhost:8080/",
          "height": 175
        },
        "id": "F1GD0qG88V3X",
        "outputId": "d90f08a4-76d3-43bb-8074-9666123f8978"
      },
      "execution_count": 141,
      "outputs": [
        {
          "output_type": "error",
          "ename": "IndexError",
          "evalue": "ignored",
          "traceback": [
            "\u001b[0;31m---------------------------------------------------------------------------\u001b[0m",
            "\u001b[0;31mIndexError\u001b[0m                                Traceback (most recent call last)",
            "\u001b[0;32m<ipython-input-141-9b54b942a779>\u001b[0m in \u001b[0;36m<cell line: 1>\u001b[0;34m()\u001b[0m\n\u001b[0;32m----> 1\u001b[0;31m \u001b[0ml2\u001b[0m\u001b[0;34m.\u001b[0m\u001b[0mpop\u001b[0m\u001b[0;34m(\u001b[0m\u001b[0;36m1000\u001b[0m\u001b[0;34m)\u001b[0m\u001b[0;34m\u001b[0m\u001b[0;34m\u001b[0m\u001b[0m\n\u001b[0m",
            "\u001b[0;31mIndexError\u001b[0m: pop index out of range"
          ]
        }
      ]
    },
    {
      "cell_type": "code",
      "source": [
        "li"
      ],
      "metadata": {
        "colab": {
          "base_uri": "https://localhost:8080/"
        },
        "id": "YOyLZPNC8aDa",
        "outputId": "db5bd68a-0089-4fe6-9df3-c47126bd3920"
      },
      "execution_count": 142,
      "outputs": [
        {
          "output_type": "execute_result",
          "data": {
            "text/plain": [
              "[1,\n",
              " 2,\n",
              " 3,\n",
              " 'pwskills',\n",
              " 4,\n",
              " 5,\n",
              " 'jyotirmoy',\n",
              " 'banerjee',\n",
              " (3+6j),\n",
              " 345.66,\n",
              " True,\n",
              " [3, 4, 5, 6],\n",
              " 'Jyotirmoy']"
            ]
          },
          "metadata": {},
          "execution_count": 142
        }
      ]
    },
    {
      "cell_type": "code",
      "source": [
        "li.clear()"
      ],
      "metadata": {
        "id": "wG2JnC9R8aLv"
      },
      "execution_count": 143,
      "outputs": []
    },
    {
      "cell_type": "code",
      "source": [
        "li\n",
        "#it will not delete in the list\n",
        "#but it will clear the list"
      ],
      "metadata": {
        "colab": {
          "base_uri": "https://localhost:8080/"
        },
        "id": "UPQA35B08aO1",
        "outputId": "cf878ac1-f209-4a8f-f462-daccf240cb10"
      },
      "execution_count": 145,
      "outputs": [
        {
          "output_type": "execute_result",
          "data": {
            "text/plain": [
              "[]"
            ]
          },
          "metadata": {},
          "execution_count": 145
        }
      ]
    },
    {
      "cell_type": "code",
      "source": [
        "l2.count('s')"
      ],
      "metadata": {
        "colab": {
          "base_uri": "https://localhost:8080/"
        },
        "id": "VYDiE1Rt8aRn",
        "outputId": "86efc3f6-f052-4e2b-8e2c-2825fa5b185d"
      },
      "execution_count": 146,
      "outputs": [
        {
          "output_type": "execute_result",
          "data": {
            "text/plain": [
              "0"
            ]
          },
          "metadata": {},
          "execution_count": 146
        }
      ]
    },
    {
      "cell_type": "code",
      "source": [
        "l2.index('j')"
      ],
      "metadata": {
        "colab": {
          "base_uri": "https://localhost:8080/",
          "height": 175
        },
        "id": "BXJQhVAF8aUd",
        "outputId": "9d45a03a-d447-4bd0-8907-3df867d9e792"
      },
      "execution_count": 148,
      "outputs": [
        {
          "output_type": "error",
          "ename": "ValueError",
          "evalue": "ignored",
          "traceback": [
            "\u001b[0;31m---------------------------------------------------------------------------\u001b[0m",
            "\u001b[0;31mValueError\u001b[0m                                Traceback (most recent call last)",
            "\u001b[0;32m<ipython-input-148-dbb02f9d2620>\u001b[0m in \u001b[0;36m<cell line: 1>\u001b[0;34m()\u001b[0m\n\u001b[0;32m----> 1\u001b[0;31m \u001b[0ml2\u001b[0m\u001b[0;34m.\u001b[0m\u001b[0mindex\u001b[0m\u001b[0;34m(\u001b[0m\u001b[0;34m'j'\u001b[0m\u001b[0;34m)\u001b[0m\u001b[0;34m\u001b[0m\u001b[0;34m\u001b[0m\u001b[0m\n\u001b[0m",
            "\u001b[0;31mValueError\u001b[0m: 'j' is not in list"
          ]
        }
      ]
    },
    {
      "cell_type": "code",
      "source": [
        "l2.reverse()"
      ],
      "metadata": {
        "id": "IQPNtGkr8aX5"
      },
      "execution_count": 149,
      "outputs": []
    },
    {
      "cell_type": "code",
      "source": [
        "l2"
      ],
      "metadata": {
        "colab": {
          "base_uri": "https://localhost:8080/"
        },
        "id": "-jwHRkyd8awB",
        "outputId": "94e97405-09b8-44b7-8b8c-ca801bfa6b50"
      },
      "execution_count": 150,
      "outputs": [
        {
          "output_type": "execute_result",
          "data": {
            "text/plain": [
              "['h', 'd', 'u', 'gsgd', 2, 300]"
            ]
          },
          "metadata": {},
          "execution_count": 150
        }
      ]
    },
    {
      "cell_type": "code",
      "source": [
        "l3 = [2,2,3,4,5,8,6]\n"
      ],
      "metadata": {
        "id": "9Qbx-lbf8azY"
      },
      "execution_count": 166,
      "outputs": []
    },
    {
      "cell_type": "code",
      "source": [
        "l3.sort()"
      ],
      "metadata": {
        "id": "GczT4BE78a2N"
      },
      "execution_count": 157,
      "outputs": []
    },
    {
      "cell_type": "code",
      "source": [
        "l3"
      ],
      "metadata": {
        "colab": {
          "base_uri": "https://localhost:8080/"
        },
        "id": "XOGbk2bw-dWg",
        "outputId": "3eb42fb5-d1a9-43df-b810-daef2c05cb17"
      },
      "execution_count": 158,
      "outputs": [
        {
          "output_type": "execute_result",
          "data": {
            "text/plain": [
              "[2, 3, 4, 5, 6, 8]"
            ]
          },
          "metadata": {},
          "execution_count": 158
        }
      ]
    },
    {
      "cell_type": "code",
      "source": [
        "l4 = [\"sudh\",\"kumar\",\"jyotirmoy\",\"banerjee\"]"
      ],
      "metadata": {
        "id": "ESJuGnvS8a6G"
      },
      "execution_count": 159,
      "outputs": []
    },
    {
      "cell_type": "code",
      "source": [],
      "metadata": {
        "id": "E75W8glG-lBO"
      },
      "execution_count": null,
      "outputs": []
    },
    {
      "cell_type": "code",
      "source": [
        "l3.sort(reverse = True)"
      ],
      "metadata": {
        "id": "UJDZ6QNH-Pmw"
      },
      "execution_count": 161,
      "outputs": []
    },
    {
      "cell_type": "code",
      "source": [
        "l3"
      ],
      "metadata": {
        "colab": {
          "base_uri": "https://localhost:8080/"
        },
        "id": "7XraG0U9-TOi",
        "outputId": "048835b6-3356-4c23-aad6-75602797964c"
      },
      "execution_count": 155,
      "outputs": [
        {
          "output_type": "execute_result",
          "data": {
            "text/plain": [
              "['banerjee', 'jyotirmoy', 'kumar', 'sudh']"
            ]
          },
          "metadata": {},
          "execution_count": 155
        }
      ]
    },
    {
      "cell_type": "code",
      "source": [
        "l4 = set(l3)"
      ],
      "metadata": {
        "id": "4GLdu7Yt_ha5"
      },
      "execution_count": 167,
      "outputs": []
    },
    {
      "cell_type": "code",
      "source": [
        "l3"
      ],
      "metadata": {
        "colab": {
          "base_uri": "https://localhost:8080/"
        },
        "id": "g16v6q45_u5_",
        "outputId": "1ad39f8f-f02a-4118-eafb-0d41cc274cf7"
      },
      "execution_count": 168,
      "outputs": [
        {
          "output_type": "execute_result",
          "data": {
            "text/plain": [
              "[2, 2, 3, 4, 5, 8, 6]"
            ]
          },
          "metadata": {},
          "execution_count": 168
        }
      ]
    },
    {
      "cell_type": "code",
      "source": [
        "l4"
      ],
      "metadata": {
        "colab": {
          "base_uri": "https://localhost:8080/"
        },
        "id": "pOWqjd9d_1QA",
        "outputId": "8b0749c9-b36b-4654-9d69-8e22c6681482"
      },
      "execution_count": 169,
      "outputs": [
        {
          "output_type": "execute_result",
          "data": {
            "text/plain": [
              "{2, 3, 4, 5, 6, 8}"
            ]
          },
          "metadata": {},
          "execution_count": 169
        }
      ]
    },
    {
      "cell_type": "code",
      "source": [
        "l6 = list(l4)\n",
        "l6.sort()"
      ],
      "metadata": {
        "id": "r2wF-94O_2vV"
      },
      "execution_count": 173,
      "outputs": []
    },
    {
      "cell_type": "code",
      "source": [
        "l6"
      ],
      "metadata": {
        "colab": {
          "base_uri": "https://localhost:8080/"
        },
        "id": "LsrojqTVA2d3",
        "outputId": "48a72b06-464e-4d0b-c6bd-15369d274797"
      },
      "execution_count": 174,
      "outputs": [
        {
          "output_type": "execute_result",
          "data": {
            "text/plain": [
              "[2, 3, 4, 5, 6, 8]"
            ]
          },
          "metadata": {},
          "execution_count": 174
        }
      ]
    },
    {
      "cell_type": "code",
      "source": [
        "l0 = [2,3,4,5]"
      ],
      "metadata": {
        "id": "dcM8jJstBI3h"
      },
      "execution_count": 175,
      "outputs": []
    },
    {
      "cell_type": "code",
      "source": [
        "l1 = l0\n",
        "#swallow copy"
      ],
      "metadata": {
        "id": "71Z76KoXBOaY"
      },
      "execution_count": 176,
      "outputs": []
    },
    {
      "cell_type": "code",
      "source": [
        "l1"
      ],
      "metadata": {
        "colab": {
          "base_uri": "https://localhost:8080/"
        },
        "id": "xm07BzEbBRbJ",
        "outputId": "fbcc6844-5c80-496d-f6d1-9df331ff912f"
      },
      "execution_count": 177,
      "outputs": [
        {
          "output_type": "execute_result",
          "data": {
            "text/plain": [
              "[2, 3, 4, 5]"
            ]
          },
          "metadata": {},
          "execution_count": 177
        }
      ]
    },
    {
      "cell_type": "code",
      "source": [
        "l0[0] =200\n",
        "l0"
      ],
      "metadata": {
        "colab": {
          "base_uri": "https://localhost:8080/"
        },
        "id": "DvZtmAezB1cK",
        "outputId": "9834ab4a-e22d-4581-f2cb-f91507cbea0e"
      },
      "execution_count": 180,
      "outputs": [
        {
          "output_type": "execute_result",
          "data": {
            "text/plain": [
              "[200, 3, 4, 5]"
            ]
          },
          "metadata": {},
          "execution_count": 180
        }
      ]
    },
    {
      "cell_type": "code",
      "source": [
        "l1"
      ],
      "metadata": {
        "colab": {
          "base_uri": "https://localhost:8080/"
        },
        "id": "3ehWlxaYCBc2",
        "outputId": "3b818574-8e93-40e8-fe58-3a305ab7995b"
      },
      "execution_count": 181,
      "outputs": [
        {
          "output_type": "execute_result",
          "data": {
            "text/plain": [
              "[200, 3, 4, 5]"
            ]
          },
          "metadata": {},
          "execution_count": 181
        }
      ]
    },
    {
      "cell_type": "code",
      "source": [
        "# both l1 & l0 will change"
      ],
      "metadata": {
        "id": "3tpGdUKiB1vF"
      },
      "execution_count": null,
      "outputs": []
    },
    {
      "cell_type": "code",
      "source": [
        "l2 = l0.copy()\n",
        "#deep copy"
      ],
      "metadata": {
        "id": "lBpxI6A7B1zM"
      },
      "execution_count": 182,
      "outputs": []
    },
    {
      "cell_type": "code",
      "source": [
        "l2"
      ],
      "metadata": {
        "colab": {
          "base_uri": "https://localhost:8080/"
        },
        "id": "zsPNqk3rB12D",
        "outputId": "c48ce6e3-819a-408d-ac50-903476c56c4c"
      },
      "execution_count": 183,
      "outputs": [
        {
          "output_type": "execute_result",
          "data": {
            "text/plain": [
              "[200, 3, 4, 5]"
            ]
          },
          "metadata": {},
          "execution_count": 183
        }
      ]
    },
    {
      "cell_type": "code",
      "source": [
        "l0"
      ],
      "metadata": {
        "colab": {
          "base_uri": "https://localhost:8080/"
        },
        "id": "NurHdz9yB14h",
        "outputId": "a05a9f22-218a-4afa-9698-e7eeccff6cdd"
      },
      "execution_count": 184,
      "outputs": [
        {
          "output_type": "execute_result",
          "data": {
            "text/plain": [
              "[200, 3, 4, 5]"
            ]
          },
          "metadata": {},
          "execution_count": 184
        }
      ]
    },
    {
      "cell_type": "code",
      "source": [
        "l0[1]=300"
      ],
      "metadata": {
        "id": "ulzTVOKAB17c"
      },
      "execution_count": 185,
      "outputs": []
    },
    {
      "cell_type": "code",
      "source": [
        "l0"
      ],
      "metadata": {
        "colab": {
          "base_uri": "https://localhost:8080/"
        },
        "id": "WwX8y0mfB1-T",
        "outputId": "66a095fc-ca44-4129-9228-892dd9f2b015"
      },
      "execution_count": 189,
      "outputs": [
        {
          "output_type": "execute_result",
          "data": {
            "text/plain": [
              "[200, 300, 4, 5]"
            ]
          },
          "metadata": {},
          "execution_count": 189
        }
      ]
    },
    {
      "cell_type": "code",
      "source": [
        "l2"
      ],
      "metadata": {
        "colab": {
          "base_uri": "https://localhost:8080/"
        },
        "id": "Y9YxUsXzDpB3",
        "outputId": "418305e7-6b6f-4254-eb8c-22e344aa2fc7"
      },
      "execution_count": 190,
      "outputs": [
        {
          "output_type": "execute_result",
          "data": {
            "text/plain": [
              "[200, 3, 4, 5]"
            ]
          },
          "metadata": {},
          "execution_count": 190
        }
      ]
    },
    {
      "cell_type": "code",
      "source": [
        "t.count(3)"
      ],
      "metadata": {
        "colab": {
          "base_uri": "https://localhost:8080/"
        },
        "id": "XNfMiDSPB2Bx",
        "outputId": "0a5ea8a3-e60b-4bba-f2fa-9842a5d3acb4"
      },
      "execution_count": 197,
      "outputs": [
        {
          "output_type": "execute_result",
          "data": {
            "text/plain": [
              "1"
            ]
          },
          "metadata": {},
          "execution_count": 197
        }
      ]
    },
    {
      "cell_type": "code",
      "source": [
        "t"
      ],
      "metadata": {
        "colab": {
          "base_uri": "https://localhost:8080/"
        },
        "id": "BvXzIYQoDzzF",
        "outputId": "5be99c35-0bf8-4768-ee4d-2d3d602f0a7d"
      },
      "execution_count": 194,
      "outputs": [
        {
          "output_type": "execute_result",
          "data": {
            "text/plain": [
              "(1, 2, 3)"
            ]
          },
          "metadata": {},
          "execution_count": 194
        }
      ]
    },
    {
      "cell_type": "code",
      "source": [
        "t.index(3)"
      ],
      "metadata": {
        "colab": {
          "base_uri": "https://localhost:8080/"
        },
        "id": "YIBJhCePDz7C",
        "outputId": "4d1ee198-af8d-4ae8-fcb3-7376a1488caf"
      },
      "execution_count": 198,
      "outputs": [
        {
          "output_type": "execute_result",
          "data": {
            "text/plain": [
              "2"
            ]
          },
          "metadata": {},
          "execution_count": 198
        }
      ]
    },
    {
      "cell_type": "code",
      "source": [
        "s = {3,4,5,66,254}"
      ],
      "metadata": {
        "id": "EMW26fNGDz9z"
      },
      "execution_count": 209,
      "outputs": []
    },
    {
      "cell_type": "code",
      "source": [
        "s.add(234)"
      ],
      "metadata": {
        "id": "RRTRV962D0AJ"
      },
      "execution_count": 210,
      "outputs": []
    },
    {
      "cell_type": "code",
      "source": [
        "s"
      ],
      "metadata": {
        "colab": {
          "base_uri": "https://localhost:8080/"
        },
        "id": "xqQ0AiPcD0DN",
        "outputId": "bdf4e146-685b-46e1-d6d3-6673b837736c"
      },
      "execution_count": 211,
      "outputs": [
        {
          "output_type": "execute_result",
          "data": {
            "text/plain": [
              "{3, 4, 5, 66, 234, 254}"
            ]
          },
          "metadata": {},
          "execution_count": 211
        }
      ]
    },
    {
      "cell_type": "code",
      "source": [
        "s.pop()"
      ],
      "metadata": {
        "colab": {
          "base_uri": "https://localhost:8080/"
        },
        "id": "cj_TyAnxD0Ge",
        "outputId": "43111a41-7970-48dd-ec19-8a139b028888"
      },
      "execution_count": 212,
      "outputs": [
        {
          "output_type": "execute_result",
          "data": {
            "text/plain": [
              "66"
            ]
          },
          "metadata": {},
          "execution_count": 212
        }
      ]
    },
    {
      "cell_type": "code",
      "source": [
        "d1"
      ],
      "metadata": {
        "colab": {
          "base_uri": "https://localhost:8080/"
        },
        "id": "ST55UOSCF3uM",
        "outputId": "1257e0ab-520c-45e9-a793-da65d169b050"
      },
      "execution_count": 213,
      "outputs": [
        {
          "output_type": "execute_result",
          "data": {
            "text/plain": [
              "{'name': 'sudhanshu', 'subject': ['datascience', 'python'], 'number': 43222}"
            ]
          },
          "metadata": {},
          "execution_count": 213
        }
      ]
    },
    {
      "cell_type": "code",
      "source": [
        "d1.keys()"
      ],
      "metadata": {
        "colab": {
          "base_uri": "https://localhost:8080/"
        },
        "id": "5Od_ufZtF346",
        "outputId": "c5fb11d1-042e-4e8b-a554-c136ae6d8545"
      },
      "execution_count": 214,
      "outputs": [
        {
          "output_type": "execute_result",
          "data": {
            "text/plain": [
              "dict_keys(['name', 'subject', 'number'])"
            ]
          },
          "metadata": {},
          "execution_count": 214
        }
      ]
    },
    {
      "cell_type": "code",
      "source": [
        "d1.values()"
      ],
      "metadata": {
        "colab": {
          "base_uri": "https://localhost:8080/"
        },
        "id": "0X6Y650wF37m",
        "outputId": "23a7fc70-527b-475e-e6a0-55620b2236f3"
      },
      "execution_count": 215,
      "outputs": [
        {
          "output_type": "execute_result",
          "data": {
            "text/plain": [
              "dict_values(['sudhanshu', ['datascience', 'python'], 43222])"
            ]
          },
          "metadata": {},
          "execution_count": 215
        }
      ]
    },
    {
      "cell_type": "code",
      "source": [
        "list(d1. values())"
      ],
      "metadata": {
        "colab": {
          "base_uri": "https://localhost:8080/"
        },
        "id": "WefBNoTiF3-f",
        "outputId": "e401942c-1269-42e7-c500-4962a19785de"
      },
      "execution_count": 216,
      "outputs": [
        {
          "output_type": "execute_result",
          "data": {
            "text/plain": [
              "['sudhanshu', ['datascience', 'python'], 43222]"
            ]
          },
          "metadata": {},
          "execution_count": 216
        }
      ]
    },
    {
      "cell_type": "code",
      "source": [
        "list(d1.items())\n",
        "#key & value will be in tuples"
      ],
      "metadata": {
        "colab": {
          "base_uri": "https://localhost:8080/"
        },
        "id": "rnc3a6MjF4CU",
        "outputId": "827b1966-2e70-4d3d-9a54-d7ee24285e33"
      },
      "execution_count": 217,
      "outputs": [
        {
          "output_type": "execute_result",
          "data": {
            "text/plain": [
              "[('name', 'sudhanshu'),\n",
              " ('subject', ['datascience', 'python']),\n",
              " ('number', 43222)]"
            ]
          },
          "metadata": {},
          "execution_count": 217
        }
      ]
    },
    {
      "cell_type": "code",
      "source": [
        "d1.get('name')"
      ],
      "metadata": {
        "colab": {
          "base_uri": "https://localhost:8080/",
          "height": 36
        },
        "id": "JuJG3DfPGqCY",
        "outputId": "ef63e443-5069-4082-c724-f43f973d1ced"
      },
      "execution_count": 218,
      "outputs": [
        {
          "output_type": "execute_result",
          "data": {
            "text/plain": [
              "'sudhanshu'"
            ],
            "application/vnd.google.colaboratory.intrinsic+json": {
              "type": "string"
            }
          },
          "metadata": {},
          "execution_count": 218
        }
      ]
    },
    {
      "cell_type": "code",
      "source": [
        "d1['name']"
      ],
      "metadata": {
        "colab": {
          "base_uri": "https://localhost:8080/",
          "height": 36
        },
        "id": "bTVALNSYGq4B",
        "outputId": "8d0328ad-b471-4032-dbab-09dda5b88503"
      },
      "execution_count": 219,
      "outputs": [
        {
          "output_type": "execute_result",
          "data": {
            "text/plain": [
              "'sudhanshu'"
            ],
            "application/vnd.google.colaboratory.intrinsic+json": {
              "type": "string"
            }
          },
          "metadata": {},
          "execution_count": 219
        }
      ]
    },
    {
      "cell_type": "code",
      "source": [
        "d1.pop('name')"
      ],
      "metadata": {
        "colab": {
          "base_uri": "https://localhost:8080/",
          "height": 36
        },
        "id": "FlIiApebGq7B",
        "outputId": "21c69207-ba52-4dcd-eb84-4bcf8777e2e6"
      },
      "execution_count": 220,
      "outputs": [
        {
          "output_type": "execute_result",
          "data": {
            "text/plain": [
              "'sudhanshu'"
            ],
            "application/vnd.google.colaboratory.intrinsic+json": {
              "type": "string"
            }
          },
          "metadata": {},
          "execution_count": 220
        }
      ]
    },
    {
      "cell_type": "code",
      "source": [
        "d1"
      ],
      "metadata": {
        "colab": {
          "base_uri": "https://localhost:8080/"
        },
        "id": "uPXZpa9hGq90",
        "outputId": "738afa2f-6820-4835-ae5d-23f549611ace"
      },
      "execution_count": 221,
      "outputs": [
        {
          "output_type": "execute_result",
          "data": {
            "text/plain": [
              "{'subject': ['datascience', 'python'], 'number': 43222}"
            ]
          },
          "metadata": {},
          "execution_count": 221
        }
      ]
    },
    {
      "cell_type": "code",
      "source": [
        "d1['test']='vfvfv'"
      ],
      "metadata": {
        "id": "aok7mko1GrBu"
      },
      "execution_count": 222,
      "outputs": []
    },
    {
      "cell_type": "code",
      "source": [
        "d1"
      ],
      "metadata": {
        "colab": {
          "base_uri": "https://localhost:8080/"
        },
        "id": "oEGUsHtzGrFN",
        "outputId": "579629d2-1c5c-4bf0-915c-7ffff57f0a9e"
      },
      "execution_count": 223,
      "outputs": [
        {
          "output_type": "execute_result",
          "data": {
            "text/plain": [
              "{'subject': ['datascience', 'python'], 'number': 43222, 'test': 'vfvfv'}"
            ]
          },
          "metadata": {},
          "execution_count": 223
        }
      ]
    },
    {
      "cell_type": "code",
      "source": [],
      "metadata": {
        "id": "jTgrdh8sGrIM"
      },
      "execution_count": null,
      "outputs": []
    },
    {
      "cell_type": "code",
      "source": [],
      "metadata": {
        "id": "IdDRTtvaGrK_"
      },
      "execution_count": null,
      "outputs": []
    },
    {
      "cell_type": "code",
      "source": [],
      "metadata": {
        "id": "5e1ADV34GrOn"
      },
      "execution_count": null,
      "outputs": []
    },
    {
      "cell_type": "code",
      "source": [],
      "metadata": {
        "id": "5tpZrQ1UGrSG"
      },
      "execution_count": null,
      "outputs": []
    }
  ],
  "metadata": {
    "colab": {
      "provenance": []
    },
    "kernelspec": {
      "display_name": "Python 3",
      "name": "python3"
    },
    "language_info": {
      "name": "python"
    }
  },
  "nbformat": 4,
  "nbformat_minor": 0
}