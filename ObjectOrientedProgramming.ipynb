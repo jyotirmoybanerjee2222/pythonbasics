{
 "cells": [
  {
   "cell_type": "code",
   "execution_count": 1,
   "id": "e9d53f73-214d-4649-b876-e5ca2c4c94b8",
   "metadata": {},
   "outputs": [
    {
     "data": {
      "text/plain": [
       "3"
      ]
     },
     "execution_count": 1,
     "metadata": {},
     "output_type": "execute_result"
    }
   ],
   "source": [
    "1+2"
   ]
  },
  {
   "cell_type": "code",
   "execution_count": 2,
   "id": "a24f6a57-4674-4986-8160-28dd566c610e",
   "metadata": {},
   "outputs": [],
   "source": [
    "a = 10\n",
    "b = 20\n",
    "c = 50"
   ]
  },
  {
   "cell_type": "code",
   "execution_count": 24,
   "id": "47e687e0-30f1-43ab-9794-2f78ad595778",
   "metadata": {},
   "outputs": [],
   "source": [
    "s1 = \"jyotirmoy\"\n"
   ]
  },
  {
   "cell_type": "code",
   "execution_count": 26,
   "id": "9e5bd77a-e321-4dc7-9e44-472d2b09a6ca",
   "metadata": {},
   "outputs": [],
   "source": [
    " s12= s.upper()"
   ]
  },
  {
   "cell_type": "code",
   "execution_count": 29,
   "id": "e0649e8e-a788-466f-8ebb-c10da185ea6a",
   "metadata": {},
   "outputs": [
    {
     "name": "stdout",
     "output_type": "stream",
     "text": [
      "JYOTIRMOY\n"
     ]
    }
   ],
   "source": [
    "print(s12)"
   ]
  },
  {
   "cell_type": "code",
   "execution_count": 28,
   "id": "a680b416-df1c-4e00-a7a7-507ce5db92d0",
   "metadata": {},
   "outputs": [
    {
     "name": "stdout",
     "output_type": "stream",
     "text": [
      "GEEKS FOR GEEKS\n"
     ]
    }
   ],
   "source": [
    "original_text = \"geeks for geeks\"\n",
    "uppercase_text = original_text.upper()\n",
    " \n",
    "print(uppercase_text)"
   ]
  },
  {
   "cell_type": "code",
   "execution_count": 42,
   "id": "6242b208-c48c-4fd4-b4ff-49b50c01aed5",
   "metadata": {},
   "outputs": [],
   "source": [
    "class bankaccount :\n",
    "      \n",
    "        def openaccount(self,name,email_id) :\n",
    "            print(\"open an account by taking name and email id\")\n",
    "            return name+email_id\n",
    "        \n",
    "        def deposite(self,amount):\n",
    "            print(\"I am trying to deposite in my account\")\n",
    "            \n",
    "        def withdraw(self,amt_with):\n",
    "            print(\"withdaraw the ammount\")\n",
    "            \n",
    "        def update_details(self,name_update,email_update):\n",
    "            print(\"this function is going to update my name and email\")"
   ]
  },
  {
   "cell_type": "code",
   "execution_count": 45,
   "id": "f0922f50-f88e-45e3-8c19-d7afa4f255d6",
   "metadata": {},
   "outputs": [],
   "source": [
    " def openaccount(self,name,email_id) :\n",
    "            print(\"open an account by taking name and email id\")\n",
    "            return name+email_id\n",
    "        "
   ]
  },
  {
   "cell_type": "code",
   "execution_count": 31,
   "id": "f1ef33f8-cd30-46aa-be98-01428f56e6d5",
   "metadata": {},
   "outputs": [],
   "source": [
    "def deposite(self,amount):\n",
    "            print(\"I am trying to deposite in my account\")\n",
    "            "
   ]
  },
  {
   "cell_type": "code",
   "execution_count": 53,
   "id": "a62f791a-8186-4333-a1b8-9e4dc10abe6a",
   "metadata": {},
   "outputs": [],
   "source": [
    "jyoti = bankaccount()"
   ]
  },
  {
   "cell_type": "code",
   "execution_count": 54,
   "id": "43672eec-e3bf-4a04-8f3a-5060b69b1a89",
   "metadata": {},
   "outputs": [
    {
     "name": "stdout",
     "output_type": "stream",
     "text": [
      "open an account by taking name and email id\n"
     ]
    },
    {
     "data": {
      "text/plain": [
       "'jyotijyotui@gmail.com'"
      ]
     },
     "execution_count": 54,
     "metadata": {},
     "output_type": "execute_result"
    }
   ],
   "source": [
    "jyoti.openaccount(\"jyoti\",\"jyotui@gmail.com\")"
   ]
  },
  {
   "cell_type": "code",
   "execution_count": null,
   "id": "d26cd6dd-f373-4272-82f3-482d53f77b4f",
   "metadata": {},
   "outputs": [],
   "source": []
  },
  {
   "cell_type": "code",
   "execution_count": null,
   "id": "66140213-5686-4a6f-b91a-368b1aaa8ade",
   "metadata": {},
   "outputs": [],
   "source": []
  },
  {
   "cell_type": "code",
   "execution_count": 55,
   "id": "d2f1b899-5eb8-4fb8-83b4-94844f876672",
   "metadata": {},
   "outputs": [],
   "source": [
    "class bankaccount :\n",
    "      \n",
    "        def openaccount(self,name,email_id) :\n",
    "            print(\"open an account by taking name and email id\")\n",
    "            return name+email_id\n",
    "        \n",
    "        def deposite(self,amount):\n",
    "            print(\"I am trying to deposite in my account\")\n",
    "            \n",
    "        def withdraw(self,amt_with):\n",
    "            print(\"withdaraw the ammount\")\n",
    "            \n",
    "        def update_details(self,name_update,email_update):\n",
    "            print(\"this function is going to update my name and email\")"
   ]
  },
  {
   "cell_type": "code",
   "execution_count": 56,
   "id": "2552ffad-3ad8-4c65-ab90-8d549913d283",
   "metadata": {},
   "outputs": [
    {
     "name": "stdout",
     "output_type": "stream",
     "text": [
      "open an account by taking name and email id\n"
     ]
    },
    {
     "data": {
      "text/plain": [
       "'jyotijyotui@gmail.com'"
      ]
     },
     "execution_count": 56,
     "metadata": {},
     "output_type": "execute_result"
    }
   ],
   "source": [
    "jyoti.openaccount(\"jyoti\",\"jyotui@gmail.com\")"
   ]
  },
  {
   "cell_type": "code",
   "execution_count": null,
   "id": "3cb6dbad-4d8b-4e66-a893-ca4ec027b67d",
   "metadata": {},
   "outputs": [],
   "source": []
  },
  {
   "cell_type": "code",
   "execution_count": 58,
   "id": "2ad98010-c6dc-44ca-8870-1d9b15f6a0b1",
   "metadata": {},
   "outputs": [],
   "source": [
    "l = [1,2,3,4,5]"
   ]
  },
  {
   "cell_type": "code",
   "execution_count": 61,
   "id": "c7066204-0c15-4f3a-9973-44b4b0c92edc",
   "metadata": {},
   "outputs": [
    {
     "data": {
      "text/plain": [
       "6"
      ]
     },
     "execution_count": 61,
     "metadata": {},
     "output_type": "execute_result"
    }
   ],
   "source": [
    "first_obj = list_ops()\n",
    "first_obj.extractfromindex([2,3,4,5,6],4)"
   ]
  },
  {
   "cell_type": "code",
   "execution_count": 33,
   "id": "7cd95567-1bff-462a-8f49-afeeeaaa9105",
   "metadata": {},
   "outputs": [],
   "source": [
    "class list_ops:\n",
    "    a =10\n",
    "   # l = [1,2,3,4,5]\n",
    "    \n",
    "    def __init__(jyoti,l):\n",
    "         jyoti.l1 = l\n",
    "         jyoti.l2 = 40\n",
    "         jyoti.l3 = \"sudh\"\n",
    "         jyoti.l4 =  (90,40,50)\n",
    "         jyoti.l5 = {\"key\":\"value\"}\n",
    "         \n",
    "            #init is basically constructor method\n",
    "    \n",
    "    def extractfromindex(jyoti,l,index):\n",
    "        return l[index]\n",
    "    def extractrangesdata(jyoti,l,start,end):\n",
    "        return l[start:end]\n",
    "    def extracteven(jyoti,l):\n",
    "        l1 = []\n",
    "        for i in l:\n",
    "            if i%2 == 0:\n",
    "                l1.append(i)\n",
    "        return l1\n",
    "    "
   ]
  },
  {
   "cell_type": "code",
   "execution_count": 42,
   "id": "b5e9042d-9894-4331-8f4e-6d552eb0758b",
   "metadata": {},
   "outputs": [
    {
     "data": {
      "text/plain": [
       "6"
      ]
     },
     "execution_count": 42,
     "metadata": {},
     "output_type": "execute_result"
    }
   ],
   "source": [
    "first_obj = list_ops([1,2,5,6,7,8])\n",
    "first_obj.extractfromindex([2,3,4,5,6],4)"
   ]
  },
  {
   "cell_type": "code",
   "execution_count": 66,
   "id": "7bed758a-702d-4258-a02a-fff928c4c636",
   "metadata": {},
   "outputs": [
    {
     "data": {
      "text/plain": [
       "10"
      ]
     },
     "execution_count": 66,
     "metadata": {},
     "output_type": "execute_result"
    }
   ],
   "source": [
    "first_obj.a"
   ]
  },
  {
   "cell_type": "code",
   "execution_count": 70,
   "id": "1ff5ec8a-7b7b-4250-a693-94bbb8740793",
   "metadata": {},
   "outputs": [
    {
     "data": {
      "text/plain": [
       "[1, 2, 3, 4, 5]"
      ]
     },
     "execution_count": 70,
     "metadata": {},
     "output_type": "execute_result"
    }
   ],
   "source": [
    "first_obj.l"
   ]
  },
  {
   "cell_type": "code",
   "execution_count": 71,
   "id": "b5cb4ab0-fb08-4d8c-b993-a1a86c379056",
   "metadata": {},
   "outputs": [
    {
     "data": {
      "text/plain": [
       "5"
      ]
     },
     "execution_count": 71,
     "metadata": {},
     "output_type": "execute_result"
    }
   ],
   "source": [
    "first_obj = list_ops()\n",
    "first_obj.extractfromindex(first_obj.l,4)"
   ]
  },
  {
   "cell_type": "code",
   "execution_count": 72,
   "id": "705861e9-2d09-4a48-9edc-a58133463942",
   "metadata": {},
   "outputs": [
    {
     "data": {
      "text/plain": [
       "5"
      ]
     },
     "execution_count": 72,
     "metadata": {},
     "output_type": "execute_result"
    }
   ],
   "source": [
    "second_obj = list_ops()\n",
    "second_obj.extractfromindex(second_obj.l,4)"
   ]
  },
  {
   "cell_type": "code",
   "execution_count": 41,
   "id": "1737f881-fdf5-419b-9dfb-31a7cb2d58b1",
   "metadata": {},
   "outputs": [
    {
     "data": {
      "text/plain": [
       "40"
      ]
     },
     "execution_count": 41,
     "metadata": {},
     "output_type": "execute_result"
    }
   ],
   "source": [
    "second_obj = list_ops([1,2,5,6,7,8])\n",
    "second_obj.l2"
   ]
  },
  {
   "cell_type": "code",
   "execution_count": 36,
   "id": "2b74e21a-08d3-41f4-8081-d1f3c1427714",
   "metadata": {},
   "outputs": [],
   "source": [
    "third_obj = list_ops([1,2,5,6,7,8])"
   ]
  },
  {
   "cell_type": "code",
   "execution_count": 52,
   "id": "a94353c8-693e-4370-8fac-34a320c1303b",
   "metadata": {},
   "outputs": [],
   "source": [
    "class book:\n",
    "    def __init__(self,name,tittle,pageno) :\n",
    "        self.name_of_book = name\n",
    "        self.tittle_of_book = tittle\n",
    "        self.page_no = pageno\n",
    "    def extract_details(self):\n",
    "        print(self.name_of_book , self.tittle_of_book)\n",
    "    def print_page_no(self):\n",
    "        print(self.page_no)\n",
    "        "
   ]
  },
  {
   "cell_type": "code",
   "execution_count": 53,
   "id": "0733ae91-a9d6-4224-9221-21b527b864a3",
   "metadata": {},
   "outputs": [],
   "source": [
    "jyotirmoy = book('dsa','dsa fundamental',456)"
   ]
  },
  {
   "cell_type": "code",
   "execution_count": 54,
   "id": "57f73c95-1548-4ddf-9741-bede71993af6",
   "metadata": {},
   "outputs": [
    {
     "name": "stdout",
     "output_type": "stream",
     "text": [
      "dsa dsa fundamental\n"
     ]
    }
   ],
   "source": [
    "jyotirmoy.extract_details()"
   ]
  },
  {
   "cell_type": "code",
   "execution_count": 20,
   "id": "3c59f645-ccdf-4721-b660-cebee3da3dd1",
   "metadata": {},
   "outputs": [],
   "source": [
    "a = 10\n",
    "b = 60\n",
    "c = 40\n"
   ]
  },
  {
   "cell_type": "code",
   "execution_count": 55,
   "id": "edb9bae8-00a0-42df-8828-3ee36b693a71",
   "metadata": {},
   "outputs": [
    {
     "data": {
      "text/plain": [
       "'dsa'"
      ]
     },
     "execution_count": 55,
     "metadata": {},
     "output_type": "execute_result"
    }
   ],
   "source": [
    "jyotirmoy.name_of_book"
   ]
  },
  {
   "cell_type": "code",
   "execution_count": 43,
   "id": "986888d4-7ffe-40b0-acfc-dd291651c71e",
   "metadata": {},
   "outputs": [],
   "source": [
    "class book:\n",
    "    def __init__(self) :\n",
    "        self.name_of_book = name\n",
    "        self.tittle_of_book = title\n",
    "        self.page_no = pageno\n",
    "    def extract_details(self):\n",
    "        print(self.name_of_book , self.tittle_of_book)\n",
    "    def print_page_no(self):\n",
    "        print(self.page_no)\n",
    "        "
   ]
  },
  {
   "cell_type": "code",
   "execution_count": 44,
   "id": "52b7bad2-c29c-4b16-8f40-c7b73bd4e362",
   "metadata": {},
   "outputs": [],
   "source": [
    "class gmail_ops:\n",
    "    def __init__(self,userid,password):\n",
    "        self.userid = userid\n",
    "        self.password = password\n",
    "        self.url = \"https://mail.google.com/mail/u/1/#index\"\n",
    "        \n",
    "    def login(self) :\n",
    "        print(\"take userid\" + self.userid +\"take password\" +self.password +\"hit url\"+self.url)\n",
    "        print(\"login\")\n",
    "        \n",
    "    def read_mail(self):\n",
    "        print(\"read mail for\" + self.userid + \"  \" +self.password)\n",
    "        \n",
    "    def reply_mail(self):\n",
    "        print(\"reply mail for\"+ self.userid + \" \" + self.password)\n",
    "        "
   ]
  },
  {
   "cell_type": "code",
   "execution_count": 45,
   "id": "e3140d64-a8c5-498d-9e14-2e96c8d9b127",
   "metadata": {},
   "outputs": [
    {
     "name": "stdout",
     "output_type": "stream",
     "text": [
      "take useriduser1take passworduser1passhit urlhttps://mail.google.com/mail/u/1/#index\n",
      "login\n"
     ]
    }
   ],
   "source": [
    "user1 = gmail_ops(\"user1\",\"user1pass\")\n",
    "user1.login()"
   ]
  },
  {
   "cell_type": "code",
   "execution_count": null,
   "id": "26f79461-d1eb-4bc6-9b88-ddba61f8e5d4",
   "metadata": {},
   "outputs": [],
   "source": [
    "# there cannot be multiple constuctor as it there is only one constructor _init_ i.\n",
    "# the second constructor will override the first _init_ constructor\n",
    "#constrictor uses stack (lifo)"
   ]
  },
  {
   "cell_type": "code",
   "execution_count": 56,
   "id": "bf2c9ae0-6aa4-411a-ac15-6cb85b696fee",
   "metadata": {},
   "outputs": [],
   "source": [
    "from functools import reduce\n",
    "class calculator :\n",
    "    def add(self,*args) :\n",
    "        print(args)\n",
    "        return sum(args)\n",
    "    \n",
    "    def subtraction(self,*args):\n",
    "        return reduce(lambda a,b : a-b , args)\n",
    "    \n",
    "    def mul(self, *args):\n",
    "        return reduce(lambda a,b : a*b , args)\n",
    "    def div(self, * args):\n",
    "        return reduce(lambda a,b : a/b , args)"
   ]
  },
  {
   "cell_type": "code",
   "execution_count": 57,
   "id": "d9775211-2a4f-4e9f-bb66-d57785ef6308",
   "metadata": {},
   "outputs": [],
   "source": [
    "himanshu = calculator()"
   ]
  },
  {
   "cell_type": "code",
   "execution_count": 59,
   "id": "bee8d816-be82-4c2b-9367-ab71874d1af7",
   "metadata": {},
   "outputs": [
    {
     "name": "stdout",
     "output_type": "stream",
     "text": [
      "(4, 5, 6)\n"
     ]
    },
    {
     "data": {
      "text/plain": [
       "15"
      ]
     },
     "execution_count": 59,
     "metadata": {},
     "output_type": "execute_result"
    }
   ],
   "source": [
    "himanshu.add(4,5,6)"
   ]
  },
  {
   "cell_type": "code",
   "execution_count": 29,
   "id": "8ae15c1a-bdf8-4e5b-9d21-c74b770c99ab",
   "metadata": {},
   "outputs": [
    {
     "data": {
      "text/plain": [
       "0.019047619047619046"
      ]
     },
     "execution_count": 29,
     "metadata": {},
     "output_type": "execute_result"
    }
   ],
   "source": [
    "himanshu.div(4,5,6,7)"
   ]
  },
  {
   "cell_type": "code",
   "execution_count": 46,
   "id": "58be9ab3-001b-40dc-97b2-c3887f1561e8",
   "metadata": {},
   "outputs": [],
   "source": [
    "from functools import reduce\n",
    "class calculator :\n",
    "    def __init__(self,username):\n",
    "        self.username = username\n",
    "    def add(self,*args) :\n",
    "        return sum(args)\n",
    "    \n",
    "    def subtraction(self,*args):\n",
    "        return reduce(lambda a,b : a-b , args)\n",
    "    \n",
    "    def mul(self, *args):\n",
    "        return reduce(lambda a,b : a*b , args)\n",
    "    def div(self, * args):\n",
    "        return reduce(lambda a,b : a/b , args)"
   ]
  },
  {
   "cell_type": "code",
   "execution_count": 47,
   "id": "7c7adf5f-2d16-4bee-883c-16f68a13f4ac",
   "metadata": {},
   "outputs": [],
   "source": [
    "jyot = calculator(\"chulbul pandey\")"
   ]
  },
  {
   "cell_type": "code",
   "execution_count": null,
   "id": "816d68e7-01d7-4c62-be75-da468c108738",
   "metadata": {},
   "outputs": [],
   "source": []
  }
 ],
 "metadata": {
  "kernelspec": {
   "display_name": "Python 3 (ipykernel)",
   "language": "python",
   "name": "python3"
  },
  "language_info": {
   "codemirror_mode": {
    "name": "ipython",
    "version": 3
   },
   "file_extension": ".py",
   "mimetype": "text/x-python",
   "name": "python",
   "nbconvert_exporter": "python",
   "pygments_lexer": "ipython3",
   "version": "3.10.8"
  }
 },
 "nbformat": 4,
 "nbformat_minor": 5
}
