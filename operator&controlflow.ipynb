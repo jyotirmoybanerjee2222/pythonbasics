{
  "nbformat": 4,
  "nbformat_minor": 0,
  "metadata": {
    "colab": {
      "provenance": []
    },
    "kernelspec": {
      "name": "python3",
      "display_name": "Python 3"
    },
    "language_info": {
      "name": "python"
    }
  },
  "cells": [
    {
      "cell_type": "code",
      "execution_count": 1,
      "metadata": {
        "colab": {
          "base_uri": "https://localhost:8080/",
          "height": 36
        },
        "id": "86w-6xniA0oM",
        "outputId": "66ff13d4-475b-40d2-8b47-10438b611cdf"
      },
      "outputs": [
        {
          "output_type": "execute_result",
          "data": {
            "text/plain": [
              "'and\\nor\\nnot\\nlogical operator'"
            ],
            "application/vnd.google.colaboratory.intrinsic+json": {
              "type": "string"
            }
          },
          "metadata": {},
          "execution_count": 1
        }
      ],
      "source": [
        "\"\"\"and\n",
        "or\n",
        "not\n",
        "logical operator\"\"\""
      ]
    },
    {
      "cell_type": "code",
      "source": [
        "a=10\n",
        "b=20\n"
      ],
      "metadata": {
        "id": "_k1c-twjBnl_"
      },
      "execution_count": 2,
      "outputs": []
    },
    {
      "cell_type": "code",
      "source": [
        "((a>10) and (b>20))"
      ],
      "metadata": {
        "colab": {
          "base_uri": "https://localhost:8080/"
        },
        "id": "xglhX6QKBrvc",
        "outputId": "27d7a97c-6538-4738-eed0-94cdc16e2920"
      },
      "execution_count": 3,
      "outputs": [
        {
          "output_type": "execute_result",
          "data": {
            "text/plain": [
              "False"
            ]
          },
          "metadata": {},
          "execution_count": 3
        }
      ]
    },
    {
      "cell_type": "code",
      "source": [
        "((a>=10) and (b>=20))"
      ],
      "metadata": {
        "colab": {
          "base_uri": "https://localhost:8080/"
        },
        "id": "USH83DssCFMl",
        "outputId": "c66e932e-85d5-4682-faf0-3d817b2d8084"
      },
      "execution_count": 4,
      "outputs": [
        {
          "output_type": "execute_result",
          "data": {
            "text/plain": [
              "True"
            ]
          },
          "metadata": {},
          "execution_count": 4
        }
      ]
    },
    {
      "cell_type": "code",
      "source": [
        "print(True and False)"
      ],
      "metadata": {
        "colab": {
          "base_uri": "https://localhost:8080/"
        },
        "id": "vPhD7xJ_CXId",
        "outputId": "a5ce5995-469d-4b9d-c1ea-85890d5189cb"
      },
      "execution_count": 5,
      "outputs": [
        {
          "output_type": "stream",
          "name": "stdout",
          "text": [
            "False\n"
          ]
        }
      ]
    },
    {
      "cell_type": "code",
      "source": [
        "print(True and True)"
      ],
      "metadata": {
        "colab": {
          "base_uri": "https://localhost:8080/"
        },
        "id": "2qI1swy5Ce57",
        "outputId": "a103979c-98c8-4c3b-bdf0-fc30ccd3ccee"
      },
      "execution_count": 6,
      "outputs": [
        {
          "output_type": "stream",
          "name": "stdout",
          "text": [
            "True\n"
          ]
        }
      ]
    },
    {
      "cell_type": "markdown",
      "source": [],
      "metadata": {
        "id": "SOUZt4gNCzbz"
      }
    },
    {
      "cell_type": "code",
      "source": [
        "#or"
      ],
      "metadata": {
        "id": "6_pl6J9wDOSQ"
      },
      "execution_count": 7,
      "outputs": []
    },
    {
      "cell_type": "code",
      "source": [
        "((a>10) or (b>7))"
      ],
      "metadata": {
        "colab": {
          "base_uri": "https://localhost:8080/"
        },
        "id": "F_77wGi7DbK0",
        "outputId": "b9711de7-c1c7-47c2-cd60-55a60c6c86af"
      },
      "execution_count": 8,
      "outputs": [
        {
          "output_type": "execute_result",
          "data": {
            "text/plain": [
              "True"
            ]
          },
          "metadata": {},
          "execution_count": 8
        }
      ]
    },
    {
      "cell_type": "code",
      "source": [
        "print(False or False)"
      ],
      "metadata": {
        "colab": {
          "base_uri": "https://localhost:8080/"
        },
        "id": "-EVx07pwDbmZ",
        "outputId": "d5b7e5eb-bc6e-4e55-9b34-9ef234d73019"
      },
      "execution_count": 9,
      "outputs": [
        {
          "output_type": "stream",
          "name": "stdout",
          "text": [
            "False\n"
          ]
        }
      ]
    },
    {
      "cell_type": "code",
      "source": [
        "# 1 0 -> 1\n",
        "# 0 1 -> 1\n",
        "# 1 1 -> 1\n",
        "# 0 0 -> 0\n",
        "#or"
      ],
      "metadata": {
        "id": "cWMJyAA-Dbpp"
      },
      "execution_count": 10,
      "outputs": []
    },
    {
      "cell_type": "code",
      "source": [
        "a= True"
      ],
      "metadata": {
        "id": "dm1Z-s8FFf4p"
      },
      "execution_count": 11,
      "outputs": []
    },
    {
      "cell_type": "code",
      "source": [
        "not(a)"
      ],
      "metadata": {
        "colab": {
          "base_uri": "https://localhost:8080/"
        },
        "id": "OrEBbAv1Dbsz",
        "outputId": "6875b6c3-5325-47bf-a139-1a4b90c2de68"
      },
      "execution_count": 12,
      "outputs": [
        {
          "output_type": "execute_result",
          "data": {
            "text/plain": [
              "False"
            ]
          },
          "metadata": {},
          "execution_count": 12
        }
      ]
    },
    {
      "cell_type": "code",
      "source": [
        "b = False"
      ],
      "metadata": {
        "id": "YOQvGzM9Fm1X"
      },
      "execution_count": 13,
      "outputs": []
    },
    {
      "cell_type": "code",
      "source": [],
      "metadata": {
        "id": "saKat-xQlL7x"
      },
      "execution_count": 13,
      "outputs": []
    },
    {
      "cell_type": "code",
      "source": [
        "not(b)"
      ],
      "metadata": {
        "colab": {
          "base_uri": "https://localhost:8080/"
        },
        "id": "L5_QgIiODbwa",
        "outputId": "6b14c767-98d0-4d13-ad61-231aea870996"
      },
      "execution_count": 14,
      "outputs": [
        {
          "output_type": "execute_result",
          "data": {
            "text/plain": [
              "True"
            ]
          },
          "metadata": {},
          "execution_count": 14
        }
      ]
    },
    {
      "cell_type": "markdown",
      "source": [
        "***Bitwise operator***"
      ],
      "metadata": {
        "id": "y8AD40UalPns"
      }
    },
    {
      "cell_type": "code",
      "source": [
        "\"\"\"\"\n",
        "and\n",
        "or\n",
        "xor\n",
        "negaTION\n",
        "<< --Leftshift\n",
        ">> --right sshift\n",
        "\"\"\""
      ],
      "metadata": {
        "id": "Z_ygf1rvFr69",
        "colab": {
          "base_uri": "https://localhost:8080/",
          "height": 36
        },
        "outputId": "94e15266-3437-439a-bfb8-e6d55d4af186"
      },
      "execution_count": 15,
      "outputs": [
        {
          "output_type": "execute_result",
          "data": {
            "text/plain": [
              "'\"\\nand\\nor\\nxor\\nnegaTION\\n<< --Leftshift\\n>> --right sshift\\n'"
            ],
            "application/vnd.google.colaboratory.intrinsic+json": {
              "type": "string"
            }
          },
          "metadata": {},
          "execution_count": 15
        }
      ]
    },
    {
      "cell_type": "code",
      "source": [
        "a = 10\n",
        "b = 4"
      ],
      "metadata": {
        "id": "FEIxLMDzFu_4"
      },
      "execution_count": 16,
      "outputs": []
    },
    {
      "cell_type": "code",
      "source": [
        "bin(a)"
      ],
      "metadata": {
        "id": "pun1S0IfFvDE",
        "colab": {
          "base_uri": "https://localhost:8080/",
          "height": 36
        },
        "outputId": "57dabedd-90ee-4d4b-f611-bc9eccdd8b09"
      },
      "execution_count": 17,
      "outputs": [
        {
          "output_type": "execute_result",
          "data": {
            "text/plain": [
              "'0b1010'"
            ],
            "application/vnd.google.colaboratory.intrinsic+json": {
              "type": "string"
            }
          },
          "metadata": {},
          "execution_count": 17
        }
      ]
    },
    {
      "cell_type": "code",
      "source": [
        "bin(b)"
      ],
      "metadata": {
        "id": "zyqk233RFvGM",
        "colab": {
          "base_uri": "https://localhost:8080/",
          "height": 36
        },
        "outputId": "54f00a3b-2668-46fe-ebb9-7bc8386dac12"
      },
      "execution_count": 18,
      "outputs": [
        {
          "output_type": "execute_result",
          "data": {
            "text/plain": [
              "'0b100'"
            ],
            "application/vnd.google.colaboratory.intrinsic+json": {
              "type": "string"
            }
          },
          "metadata": {},
          "execution_count": 18
        }
      ]
    },
    {
      "cell_type": "markdown",
      "source": [],
      "metadata": {
        "id": "c8fDrJ2qWej1"
      }
    },
    {
      "cell_type": "code",
      "source": [
        "a & b"
      ],
      "metadata": {
        "id": "sdYvnz7nFvJS",
        "colab": {
          "base_uri": "https://localhost:8080/"
        },
        "outputId": "fe099db6-9493-4e95-fafe-2f6f91070195"
      },
      "execution_count": 19,
      "outputs": [
        {
          "output_type": "execute_result",
          "data": {
            "text/plain": [
              "0"
            ]
          },
          "metadata": {},
          "execution_count": 19
        }
      ]
    },
    {
      "cell_type": "code",
      "source": [
        "a | b"
      ],
      "metadata": {
        "id": "tobZc6PznaYo",
        "colab": {
          "base_uri": "https://localhost:8080/"
        },
        "outputId": "61a45dc1-114f-4667-c520-bf8f514d0a5b"
      },
      "execution_count": 20,
      "outputs": [
        {
          "output_type": "execute_result",
          "data": {
            "text/plain": [
              "14"
            ]
          },
          "metadata": {},
          "execution_count": 20
        }
      ]
    },
    {
      "cell_type": "code",
      "source": [
        "a ^ b\n",
        "#xor\n",
        "#1 1 0\n",
        "#1 0 1\n",
        "#0 1 1\n",
        "#0 0 0"
      ],
      "metadata": {
        "id": "D0pyU4MunafA",
        "colab": {
          "base_uri": "https://localhost:8080/"
        },
        "outputId": "370a9970-28ee-4474-87c3-d24da5024552"
      },
      "execution_count": 21,
      "outputs": [
        {
          "output_type": "execute_result",
          "data": {
            "text/plain": [
              "14"
            ]
          },
          "metadata": {},
          "execution_count": 21
        }
      ]
    },
    {
      "cell_type": "code",
      "source": [
        "a =10\n",
        "~a"
      ],
      "metadata": {
        "id": "4kVLZET9naiG",
        "colab": {
          "base_uri": "https://localhost:8080/"
        },
        "outputId": "bc1ff2a7-3e5c-4e99-d105-396d9bb1cfcf"
      },
      "execution_count": 22,
      "outputs": [
        {
          "output_type": "execute_result",
          "data": {
            "text/plain": [
              "-11"
            ]
          },
          "metadata": {},
          "execution_count": 22
        }
      ]
    },
    {
      "cell_type": "code",
      "source": [
        "a = 8\n",
        "~a\n",
        "# 8 -> 1000\n",
        "#1 0 0 0  0->sign bit\n",
        "#| | | |\n",
        "\n",
        "#0 1 1 1  1 -> change to nagative signbit\n",
        "#1 0111-> -9"
      ],
      "metadata": {
        "colab": {
          "base_uri": "https://localhost:8080/"
        },
        "id": "QK7PxJcYXuN6",
        "outputId": "011d5a9f-7307-4a82-e5e5-41c029cb6ed7"
      },
      "execution_count": 23,
      "outputs": [
        {
          "output_type": "execute_result",
          "data": {
            "text/plain": [
              "-9"
            ]
          },
          "metadata": {},
          "execution_count": 23
        }
      ]
    },
    {
      "cell_type": "code",
      "source": [
        "x = [1,2,3,4,5]\n",
        "2 in x"
      ],
      "metadata": {
        "colab": {
          "base_uri": "https://localhost:8080/"
        },
        "id": "eP-lDM55XuVJ",
        "outputId": "f3820a25-1d07-460f-a343-a86fab86f00d"
      },
      "execution_count": 24,
      "outputs": [
        {
          "output_type": "execute_result",
          "data": {
            "text/plain": [
              "True"
            ]
          },
          "metadata": {},
          "execution_count": 24
        }
      ]
    },
    {
      "cell_type": "code",
      "source": [
        "6 in x"
      ],
      "metadata": {
        "colab": {
          "base_uri": "https://localhost:8080/"
        },
        "id": "RupN8iVGXuZg",
        "outputId": "48d15f9b-1a97-4939-9a75-c92bf80fa8ad"
      },
      "execution_count": 25,
      "outputs": [
        {
          "output_type": "execute_result",
          "data": {
            "text/plain": [
              "False"
            ]
          },
          "metadata": {},
          "execution_count": 25
        }
      ]
    },
    {
      "cell_type": "code",
      "source": [
        "a << 1\n",
        "#1010"
      ],
      "metadata": {
        "id": "JRn9z9Xanak2",
        "colab": {
          "base_uri": "https://localhost:8080/"
        },
        "outputId": "53d9bcf6-f5a0-4f93-ef41-330560b837b6"
      },
      "execution_count": 26,
      "outputs": [
        {
          "output_type": "execute_result",
          "data": {
            "text/plain": [
              "16"
            ]
          },
          "metadata": {},
          "execution_count": 26
        }
      ]
    },
    {
      "cell_type": "code",
      "source": [
        "a<<2"
      ],
      "metadata": {
        "id": "qDNpUQBMnaod",
        "colab": {
          "base_uri": "https://localhost:8080/"
        },
        "outputId": "7e0ed162-a96c-4e41-f3e6-80ab13a5dc9a"
      },
      "execution_count": 27,
      "outputs": [
        {
          "output_type": "execute_result",
          "data": {
            "text/plain": [
              "32"
            ]
          },
          "metadata": {},
          "execution_count": 27
        }
      ]
    },
    {
      "cell_type": "code",
      "source": [
        "a<<3"
      ],
      "metadata": {
        "colab": {
          "base_uri": "https://localhost:8080/"
        },
        "id": "15r3i2g4bQSQ",
        "outputId": "da33ae82-7c4e-426a-c11a-7219f2fc6739"
      },
      "execution_count": 28,
      "outputs": [
        {
          "output_type": "execute_result",
          "data": {
            "text/plain": [
              "64"
            ]
          },
          "metadata": {},
          "execution_count": 28
        }
      ]
    },
    {
      "cell_type": "code",
      "source": [
        "a>>1"
      ],
      "metadata": {
        "id": "z9lIWM78FvML",
        "colab": {
          "base_uri": "https://localhost:8080/"
        },
        "outputId": "850cabdd-1c52-4791-9188-7b77021b4224"
      },
      "execution_count": 29,
      "outputs": [
        {
          "output_type": "execute_result",
          "data": {
            "text/plain": [
              "4"
            ]
          },
          "metadata": {},
          "execution_count": 29
        }
      ]
    },
    {
      "cell_type": "code",
      "source": [
        "a>>2"
      ],
      "metadata": {
        "id": "UPwwOfG3FvO-",
        "colab": {
          "base_uri": "https://localhost:8080/"
        },
        "outputId": "a8ae4205-dd34-460e-aa71-cd0e2f9deddb"
      },
      "execution_count": 30,
      "outputs": [
        {
          "output_type": "execute_result",
          "data": {
            "text/plain": [
              "2"
            ]
          },
          "metadata": {},
          "execution_count": 30
        }
      ]
    },
    {
      "cell_type": "markdown",
      "source": [
        "*## Control flows"
      ],
      "metadata": {
        "id": "dzUuj1MEeP6s"
      }
    },
    {
      "cell_type": "code",
      "source": [
        "#if\n",
        "#if else\n",
        "#if elif else"
      ],
      "metadata": {
        "id": "p5R4L7lQFvR8"
      },
      "execution_count": 31,
      "outputs": []
    },
    {
      "cell_type": "code",
      "source": [
        "age = 17"
      ],
      "metadata": {
        "id": "TZVJyEB3eNuk"
      },
      "execution_count": 32,
      "outputs": []
    },
    {
      "cell_type": "code",
      "source": [
        "if age>=18:\n",
        "  print(\"legal age to drink alcohol\")\n",
        "else:\n",
        "  print(\"you cannot drive\")"
      ],
      "metadata": {
        "colab": {
          "base_uri": "https://localhost:8080/"
        },
        "id": "ab8t1J7PeN2Y",
        "outputId": "567e7585-1419-4a55-a256-229d7b7528bd"
      },
      "execution_count": 33,
      "outputs": [
        {
          "output_type": "stream",
          "name": "stdout",
          "text": [
            "you cannot drive\n"
          ]
        }
      ]
    },
    {
      "cell_type": "code",
      "source": [
        "x = 2\n",
        "if x>23:\n",
        "  print(\"you are inside the if bolock\")\n",
        "else:\n",
        "  print(\"your are under else block\")"
      ],
      "metadata": {
        "colab": {
          "base_uri": "https://localhost:8080/"
        },
        "id": "NLzKGjioeN5H",
        "outputId": "40e0cfbe-71b9-4fbe-d378-d3a656eba0b4"
      },
      "execution_count": 34,
      "outputs": [
        {
          "output_type": "stream",
          "name": "stdout",
          "text": [
            "your are under else block\n"
          ]
        }
      ]
    },
    {
      "cell_type": "code",
      "source": [
        "score = 75\n",
        "if score >=90:\n",
        "  print(\"excelent perormance  grade is A+\")\n",
        "elif score >=80:\n",
        "   print(\"grade is A\")\n",
        "else :\n",
        "  print(\"grade b\")"
      ],
      "metadata": {
        "colab": {
          "base_uri": "https://localhost:8080/"
        },
        "id": "OOEFcIAneN8c",
        "outputId": "a230e33a-2502-4cfc-f1fc-6115756e984b"
      },
      "execution_count": 35,
      "outputs": [
        {
          "output_type": "stream",
          "name": "stdout",
          "text": [
            "grade b\n"
          ]
        }
      ]
    },
    {
      "cell_type": "code",
      "source": [
        "T=int(input(\"enter the time\"))\n",
        "if T<0:\n",
        "  print(\"invalid \")\n",
        "elif 0<=T<=5 :\n",
        "  print(\"Night\")"
      ],
      "metadata": {
        "id": "xJEwEzamFvVc",
        "colab": {
          "base_uri": "https://localhost:8080/"
        },
        "outputId": "8515615e-2ada-4f14-a070-0740d161939c"
      },
      "execution_count": 36,
      "outputs": [
        {
          "name": "stdout",
          "output_type": "stream",
          "text": [
            "enter the time50\n"
          ]
        }
      ]
    },
    {
      "cell_type": "code",
      "source": [
        "num1 =10\n",
        "num2 = 20\n",
        "num3 =30\n",
        "\n",
        "if (num1>=num2) and (num1>=num3):\n",
        "  largest=num1\n",
        "  print(\"largest number is \",largest)\n",
        "elif (num2>=num1) and (num2>=num3):\n",
        "  largest=num2\n",
        "  print(\"largest number is\",largest)\n",
        "else:\n",
        "  largest=num3\n",
        "  print(\"largest number is\",largest)\n",
        "\n",
        ""
      ],
      "metadata": {
        "colab": {
          "base_uri": "https://localhost:8080/"
        },
        "id": "YlTKc7FwiGzQ",
        "outputId": "6ee9e07a-5ba6-4edb-c213-8689e224224e"
      },
      "execution_count": 37,
      "outputs": [
        {
          "output_type": "stream",
          "name": "stdout",
          "text": [
            "largest number is 30\n"
          ]
        }
      ]
    },
    {
      "cell_type": "code",
      "source": [
        "# calculator\n",
        "x = int(input(\"enter first number\"))\n",
        "operator= input(\"enter the operator\")\n",
        "y = int(input(\"enter second number\"))\n",
        "\n",
        "if operator == \"+\":\n",
        "   print(x+y)\n",
        "elif operator == \"-\":\n",
        "   print(x-y)\n",
        "elif operator == \"*\":\n",
        "   print(x*y)\n",
        "elif operator == \"/\":\n",
        "   print(x//y)\n",
        "else :\n",
        "  print(\"invalid\")\n"
      ],
      "metadata": {
        "colab": {
          "base_uri": "https://localhost:8080/"
        },
        "id": "4GlNauuPlJmM",
        "outputId": "ec546478-dfe5-48d6-d4ec-034ea1179f40"
      },
      "execution_count": 38,
      "outputs": [
        {
          "output_type": "stream",
          "name": "stdout",
          "text": [
            "enter first number22\n",
            "enter the operator/\n",
            "enter second number4\n",
            "5\n"
          ]
        }
      ]
    },
    {
      "cell_type": "code",
      "source": [
        "#nested idf else\n",
        "num = 10\n",
        "if (num >= 0):\n",
        "  if(num == 0):\n",
        "    print(\"number is zero\")\n",
        "  else:\n",
        "    print(\"number is positive\")\n",
        "else:\n",
        "  print(\"number is nagative\")"
      ],
      "metadata": {
        "colab": {
          "base_uri": "https://localhost:8080/"
        },
        "id": "MjX2bfAXlKWm",
        "outputId": "7af32f04-8fe8-41e6-eb68-d7ded69995b2"
      },
      "execution_count": 41,
      "outputs": [
        {
          "output_type": "stream",
          "name": "stdout",
          "text": [
            "number is positive\n"
          ]
        }
      ]
    },
    {
      "cell_type": "code",
      "source": [
        "#range function\n",
        "#range(start,stop,step)"
      ],
      "metadata": {
        "id": "JJnDUX0ZlKZa"
      },
      "execution_count": 38,
      "outputs": []
    },
    {
      "cell_type": "code",
      "source": [
        "range(0,5)"
      ],
      "metadata": {
        "colab": {
          "base_uri": "https://localhost:8080/"
        },
        "id": "H3fGibEYlKcb",
        "outputId": "2802184e-9515-413a-8f16-740cc053a83f"
      },
      "execution_count": 42,
      "outputs": [
        {
          "output_type": "execute_result",
          "data": {
            "text/plain": [
              "range(0, 5)"
            ]
          },
          "metadata": {},
          "execution_count": 42
        }
      ]
    },
    {
      "cell_type": "code",
      "source": [
        "#sytax of range range(start,stop,step)"
      ],
      "metadata": {
        "id": "zS-TpJ7MkCxo"
      },
      "execution_count": null,
      "outputs": []
    },
    {
      "cell_type": "code",
      "source": [
        "list(range(7))"
      ],
      "metadata": {
        "colab": {
          "base_uri": "https://localhost:8080/"
        },
        "id": "GxPJG6_wlKfQ",
        "outputId": "d470e5e3-1c33-4580-b9b2-a7e387540f7c"
      },
      "execution_count": 45,
      "outputs": [
        {
          "output_type": "execute_result",
          "data": {
            "text/plain": [
              "[0, 1, 2, 3, 4, 5, 6]"
            ]
          },
          "metadata": {},
          "execution_count": 45
        }
      ]
    },
    {
      "cell_type": "code",
      "source": [
        "list(range(10))"
      ],
      "metadata": {
        "colab": {
          "base_uri": "https://localhost:8080/"
        },
        "id": "xeee6aEklKij",
        "outputId": "c40a3610-4354-43f2-e6e8-2b575fc84196"
      },
      "execution_count": 46,
      "outputs": [
        {
          "output_type": "execute_result",
          "data": {
            "text/plain": [
              "[0, 1, 2, 3, 4, 5, 6, 7, 8, 9]"
            ]
          },
          "metadata": {},
          "execution_count": 46
        }
      ]
    },
    {
      "cell_type": "code",
      "source": [
        "list(range(2,10))\n",
        "#2->9"
      ],
      "metadata": {
        "colab": {
          "base_uri": "https://localhost:8080/"
        },
        "id": "eNS6ICYVp-3A",
        "outputId": "9080de35-c9e6-42ef-e749-77f590b17392"
      },
      "execution_count": 47,
      "outputs": [
        {
          "output_type": "execute_result",
          "data": {
            "text/plain": [
              "[2, 3, 4, 5, 6, 7, 8, 9]"
            ]
          },
          "metadata": {},
          "execution_count": 47
        }
      ]
    },
    {
      "cell_type": "code",
      "source": [
        "list(range(45,75))"
      ],
      "metadata": {
        "colab": {
          "base_uri": "https://localhost:8080/"
        },
        "id": "bvCIgZrAqOY-",
        "outputId": "ac7d3f41-2be3-4055-c2a3-08c83115f525"
      },
      "execution_count": 48,
      "outputs": [
        {
          "output_type": "execute_result",
          "data": {
            "text/plain": [
              "[45,\n",
              " 46,\n",
              " 47,\n",
              " 48,\n",
              " 49,\n",
              " 50,\n",
              " 51,\n",
              " 52,\n",
              " 53,\n",
              " 54,\n",
              " 55,\n",
              " 56,\n",
              " 57,\n",
              " 58,\n",
              " 59,\n",
              " 60,\n",
              " 61,\n",
              " 62,\n",
              " 63,\n",
              " 64,\n",
              " 65,\n",
              " 66,\n",
              " 67,\n",
              " 68,\n",
              " 69,\n",
              " 70,\n",
              " 71,\n",
              " 72,\n",
              " 73,\n",
              " 74]"
            ]
          },
          "metadata": {},
          "execution_count": 48
        }
      ]
    },
    {
      "cell_type": "code",
      "source": [
        "list(range(2,50,3))"
      ],
      "metadata": {
        "colab": {
          "base_uri": "https://localhost:8080/"
        },
        "id": "KPSG_2zFqVEs",
        "outputId": "ee1f8385-fac8-4c84-b75d-1cbd17a8d192"
      },
      "execution_count": 49,
      "outputs": [
        {
          "output_type": "execute_result",
          "data": {
            "text/plain": [
              "[2, 5, 8, 11, 14, 17, 20, 23, 26, 29, 32, 35, 38, 41, 44, 47]"
            ]
          },
          "metadata": {},
          "execution_count": 49
        }
      ]
    },
    {
      "cell_type": "code",
      "source": [
        "list(range(2,50,-1))"
      ],
      "metadata": {
        "colab": {
          "base_uri": "https://localhost:8080/"
        },
        "id": "-Lf1gLeNqjj_",
        "outputId": "ed2e0678-a264-4eaf-e4d3-b6d21619a69d"
      },
      "execution_count": 51,
      "outputs": [
        {
          "output_type": "execute_result",
          "data": {
            "text/plain": [
              "[]"
            ]
          },
          "metadata": {},
          "execution_count": 51
        }
      ]
    },
    {
      "cell_type": "code",
      "source": [
        "list(range(-2,50,2))"
      ],
      "metadata": {
        "colab": {
          "base_uri": "https://localhost:8080/"
        },
        "id": "9l2AaorWqmL8",
        "outputId": "c13c688d-31dc-42d2-8fa2-6d64dc3f0ea4"
      },
      "execution_count": 52,
      "outputs": [
        {
          "output_type": "execute_result",
          "data": {
            "text/plain": [
              "[-2,\n",
              " 0,\n",
              " 2,\n",
              " 4,\n",
              " 6,\n",
              " 8,\n",
              " 10,\n",
              " 12,\n",
              " 14,\n",
              " 16,\n",
              " 18,\n",
              " 20,\n",
              " 22,\n",
              " 24,\n",
              " 26,\n",
              " 28,\n",
              " 30,\n",
              " 32,\n",
              " 34,\n",
              " 36,\n",
              " 38,\n",
              " 40,\n",
              " 42,\n",
              " 44,\n",
              " 46,\n",
              " 48]"
            ]
          },
          "metadata": {},
          "execution_count": 52
        }
      ]
    },
    {
      "cell_type": "code",
      "source": [
        "#loop"
      ],
      "metadata": {
        "id": "NLoIHd3nqmWF"
      },
      "execution_count": null,
      "outputs": []
    },
    {
      "cell_type": "code",
      "source": [
        "for i in range(5):\n",
        "  print(i)"
      ],
      "metadata": {
        "colab": {
          "base_uri": "https://localhost:8080/"
        },
        "id": "sjrDtAOYqmZC",
        "outputId": "8b936474-4524-4587-8aa3-a866a15c5547"
      },
      "execution_count": 54,
      "outputs": [
        {
          "output_type": "stream",
          "name": "stdout",
          "text": [
            "0\n",
            "1\n",
            "2\n",
            "3\n",
            "4\n"
          ]
        }
      ]
    },
    {
      "cell_type": "code",
      "source": [
        "for i in range(3):\n",
        "  print(i)"
      ],
      "metadata": {
        "colab": {
          "base_uri": "https://localhost:8080/"
        },
        "id": "_uwysoQjqmcI",
        "outputId": "a6e0fb4a-0705-4183-9418-624f1d676c8f"
      },
      "execution_count": 55,
      "outputs": [
        {
          "output_type": "stream",
          "name": "stdout",
          "text": [
            "0\n",
            "1\n",
            "2\n"
          ]
        }
      ]
    },
    {
      "cell_type": "code",
      "source": [
        "for i in [\"a\",\"b\",\"c\"] :\n",
        "  print(i)"
      ],
      "metadata": {
        "colab": {
          "base_uri": "https://localhost:8080/"
        },
        "id": "89aTvW1-qmff",
        "outputId": "5a1aec8a-dd9c-4ee4-cf5c-7e43462b1f65"
      },
      "execution_count": 57,
      "outputs": [
        {
          "output_type": "stream",
          "name": "stdout",
          "text": [
            "a\n",
            "b\n",
            "c\n"
          ]
        }
      ]
    },
    {
      "cell_type": "code",
      "source": [
        "for i in 23:\n",
        "  printI(i)"
      ],
      "metadata": {
        "colab": {
          "base_uri": "https://localhost:8080/",
          "height": 192
        },
        "id": "qkhYRp6br68c",
        "outputId": "972300ef-8470-4f6f-aa13-ff8b03abd181"
      },
      "execution_count": 59,
      "outputs": [
        {
          "output_type": "error",
          "ename": "TypeError",
          "evalue": "ignored",
          "traceback": [
            "\u001b[0;31m---------------------------------------------------------------------------\u001b[0m",
            "\u001b[0;31mTypeError\u001b[0m                                 Traceback (most recent call last)",
            "\u001b[0;32m<ipython-input-59-8d5389616466>\u001b[0m in \u001b[0;36m<cell line: 1>\u001b[0;34m()\u001b[0m\n\u001b[0;32m----> 1\u001b[0;31m \u001b[0;32mfor\u001b[0m \u001b[0mi\u001b[0m \u001b[0;32min\u001b[0m \u001b[0;36m23\u001b[0m\u001b[0;34m:\u001b[0m\u001b[0;34m\u001b[0m\u001b[0;34m\u001b[0m\u001b[0m\n\u001b[0m\u001b[1;32m      2\u001b[0m   \u001b[0mprintI\u001b[0m\u001b[0;34m(\u001b[0m\u001b[0mi\u001b[0m\u001b[0;34m)\u001b[0m\u001b[0;34m\u001b[0m\u001b[0;34m\u001b[0m\u001b[0m\n",
            "\u001b[0;31mTypeError\u001b[0m: 'int' object is not iterable"
          ]
        }
      ]
    },
    {
      "cell_type": "code",
      "source": [
        "x={\"name\":\"imran\",\"city\":\"bangalore\"}\n",
        "for i in x.values():\n",
        "  print(i)"
      ],
      "metadata": {
        "colab": {
          "base_uri": "https://localhost:8080/"
        },
        "id": "jfkJrxdDr6_S",
        "outputId": "a68cb086-e24d-4024-c1aa-7bacde359af8"
      },
      "execution_count": 61,
      "outputs": [
        {
          "output_type": "stream",
          "name": "stdout",
          "text": [
            "imran\n",
            "bangalore\n"
          ]
        }
      ]
    },
    {
      "cell_type": "code",
      "source": [
        "range(2,5)"
      ],
      "metadata": {
        "colab": {
          "base_uri": "https://localhost:8080/"
        },
        "id": "f8O9O4k2r7CN",
        "outputId": "8eadc7c1-a9a2-4dd3-9662-181ef5096acb"
      },
      "execution_count": 62,
      "outputs": [
        {
          "output_type": "execute_result",
          "data": {
            "text/plain": [
              "range(2, 5)"
            ]
          },
          "metadata": {},
          "execution_count": 62
        }
      ]
    },
    {
      "cell_type": "code",
      "source": [
        "list(range(2,5))"
      ],
      "metadata": {
        "colab": {
          "base_uri": "https://localhost:8080/"
        },
        "id": "gDkBbMF6r7FP",
        "outputId": "826027d0-e93d-43ab-fc36-9d640d0ee5a3"
      },
      "execution_count": 63,
      "outputs": [
        {
          "output_type": "execute_result",
          "data": {
            "text/plain": [
              "[2, 3, 4]"
            ]
          },
          "metadata": {},
          "execution_count": 63
        }
      ]
    },
    {
      "cell_type": "code",
      "source": [
        "country=[\"india\",\"uk\",\"australia\",\"denmark\",\"swizerland\",\"germay\",\"italy\"]\n",
        "\n",
        "for i in country:\n",
        "  print(i)"
      ],
      "metadata": {
        "colab": {
          "base_uri": "https://localhost:8080/"
        },
        "id": "DgKDT_2Or7Ii",
        "outputId": "ee092f42-9daa-4977-e83c-e71be8a79ca2"
      },
      "execution_count": 64,
      "outputs": [
        {
          "output_type": "stream",
          "name": "stdout",
          "text": [
            "india\n",
            "uk\n",
            "australia\n",
            "denmark\n",
            "swizerland\n",
            "germay\n",
            "italy\n"
          ]
        }
      ]
    },
    {
      "cell_type": "code",
      "source": [
        "country=[\"india\",\"uk\",\"australia\",\"denmark\",\"swizerland\",\"germay\",\"italy\"]\n",
        "\n",
        "len(country)\n"
      ],
      "metadata": {
        "colab": {
          "base_uri": "https://localhost:8080/"
        },
        "id": "kQ8jAC3Vr7LM",
        "outputId": "8a4f033e-c8d0-4211-837e-52bc47a148a5"
      },
      "execution_count": 65,
      "outputs": [
        {
          "output_type": "execute_result",
          "data": {
            "text/plain": [
              "7"
            ]
          },
          "metadata": {},
          "execution_count": 65
        }
      ]
    },
    {
      "cell_type": "code",
      "source": [
        "for index in range(len(country)) :\n",
        "  print(country[index])"
      ],
      "metadata": {
        "colab": {
          "base_uri": "https://localhost:8080/"
        },
        "id": "b3Uk2glwr7Oy",
        "outputId": "e26764fe-3d39-425e-c5d3-edfeca797f6a"
      },
      "execution_count": 67,
      "outputs": [
        {
          "output_type": "stream",
          "name": "stdout",
          "text": [
            "india\n",
            "uk\n",
            "australia\n",
            "denmark\n",
            "swizerland\n",
            "germay\n",
            "italy\n"
          ]
        }
      ]
    },
    {
      "cell_type": "code",
      "source": [
        "dict1={\"x1\":1,\"x2\":2,\"x3\":3}"
      ],
      "metadata": {
        "id": "f4TPV5bvub7x"
      },
      "execution_count": 72,
      "outputs": []
    },
    {
      "cell_type": "code",
      "source": [
        "dict1.keys()"
      ],
      "metadata": {
        "colab": {
          "base_uri": "https://localhost:8080/"
        },
        "id": "G3eojGC0vXtl",
        "outputId": "accc8c4c-5a15-4170-84e6-c4ab43c2cc39"
      },
      "execution_count": 73,
      "outputs": [
        {
          "output_type": "execute_result",
          "data": {
            "text/plain": [
              "dict_keys(['x1', 'x2', 'x3'])"
            ]
          },
          "metadata": {},
          "execution_count": 73
        }
      ]
    },
    {
      "cell_type": "code",
      "source": [
        "dict1.values()"
      ],
      "metadata": {
        "colab": {
          "base_uri": "https://localhost:8080/"
        },
        "id": "uLh1gFo1vbQ-",
        "outputId": "50209f01-8bb8-4080-f570-461d66333f77"
      },
      "execution_count": 74,
      "outputs": [
        {
          "output_type": "execute_result",
          "data": {
            "text/plain": [
              "dict_values([1, 2, 3])"
            ]
          },
          "metadata": {},
          "execution_count": 74
        }
      ]
    },
    {
      "cell_type": "code",
      "source": [
        "for key in dict1:\n",
        "  print(key,dict1[key])"
      ],
      "metadata": {
        "colab": {
          "base_uri": "https://localhost:8080/"
        },
        "id": "69U2RQ2qvmXT",
        "outputId": "f9888e98-5bc9-4166-a17d-08d62e155b00"
      },
      "execution_count": 76,
      "outputs": [
        {
          "output_type": "stream",
          "name": "stdout",
          "text": [
            "x1 1\n",
            "x2 2\n",
            "x3 3\n"
          ]
        }
      ]
    },
    {
      "cell_type": "code",
      "source": [
        "x={\"name\":\"imran\",\"city\":\"bangalore\"}\n",
        "for i in x.values():\n",
        "  print(i)"
      ],
      "metadata": {
        "colab": {
          "base_uri": "https://localhost:8080/"
        },
        "id": "AFNFIO--wSYu",
        "outputId": "7cfadb78-00be-43be-b4e8-5e4d17805498"
      },
      "execution_count": 77,
      "outputs": [
        {
          "output_type": "stream",
          "name": "stdout",
          "text": [
            "imran\n",
            "bangalore\n"
          ]
        }
      ]
    },
    {
      "cell_type": "code",
      "source": [
        "x={\"name\":\"imran\",\"city\":\"bangalore\"}\n",
        "for i in x.keys():\n",
        "  print(i)"
      ],
      "metadata": {
        "colab": {
          "base_uri": "https://localhost:8080/"
        },
        "id": "HUhLOD9nwWki",
        "outputId": "8ad70b49-6a2d-4270-b5f9-ba78b800c882"
      },
      "execution_count": 78,
      "outputs": [
        {
          "output_type": "stream",
          "name": "stdout",
          "text": [
            "name\n",
            "city\n"
          ]
        }
      ]
    },
    {
      "cell_type": "code",
      "source": [
        "for i in(1,2,3):\n",
        "  print(i)"
      ],
      "metadata": {
        "colab": {
          "base_uri": "https://localhost:8080/"
        },
        "id": "zf8G2unzwe35",
        "outputId": "9f93c7b6-c284-4956-cb03-5c9177730b0c"
      },
      "execution_count": 79,
      "outputs": [
        {
          "output_type": "stream",
          "name": "stdout",
          "text": [
            "1\n",
            "2\n",
            "3\n"
          ]
        }
      ]
    },
    {
      "cell_type": "code",
      "source": [
        "for i in {1,2,3}:\n",
        "  print(i)"
      ],
      "metadata": {
        "colab": {
          "base_uri": "https://localhost:8080/"
        },
        "id": "T_e3oAGewwXh",
        "outputId": "cb969847-966a-411a-d862-312c630412bb"
      },
      "execution_count": 82,
      "outputs": [
        {
          "output_type": "stream",
          "name": "stdout",
          "text": [
            "1\n",
            "2\n",
            "3\n"
          ]
        }
      ]
    },
    {
      "cell_type": "code",
      "source": [
        "x=\"jyotirmoy\"\n",
        "\n",
        "for i in x:\n",
        "  print(x)"
      ],
      "metadata": {
        "colab": {
          "base_uri": "https://localhost:8080/"
        },
        "id": "92g23Wtmw1Yj",
        "outputId": "604c103f-b1aa-4061-c9d6-db88cd3edbfa"
      },
      "execution_count": 84,
      "outputs": [
        {
          "output_type": "stream",
          "name": "stdout",
          "text": [
            "jyotirmoy\n",
            "jyotirmoy\n",
            "jyotirmoy\n",
            "jyotirmoy\n",
            "jyotirmoy\n",
            "jyotirmoy\n",
            "jyotirmoy\n",
            "jyotirmoy\n",
            "jyotirmoy\n"
          ]
        }
      ]
    },
    {
      "cell_type": "code",
      "source": [
        "x=\"jyotirmoy\"\n",
        "\n",
        "for i in x:\n",
        "  print(i)"
      ],
      "metadata": {
        "colab": {
          "base_uri": "https://localhost:8080/"
        },
        "id": "VWbzgs-WxE47",
        "outputId": "b855fefb-3977-40b9-faf5-8544834fd72d"
      },
      "execution_count": 85,
      "outputs": [
        {
          "output_type": "stream",
          "name": "stdout",
          "text": [
            "j\n",
            "y\n",
            "o\n",
            "t\n",
            "i\n",
            "r\n",
            "m\n",
            "o\n",
            "y\n"
          ]
        }
      ]
    },
    {
      "cell_type": "code",
      "source": [
        "print(list(range(10)))"
      ],
      "metadata": {
        "colab": {
          "base_uri": "https://localhost:8080/"
        },
        "id": "gbPx0cbWxRBE",
        "outputId": "e2127599-df98-403e-8e9d-aa5c62a5a410"
      },
      "execution_count": 86,
      "outputs": [
        {
          "output_type": "stream",
          "name": "stdout",
          "text": [
            "[0, 1, 2, 3, 4, 5, 6, 7, 8, 9]\n"
          ]
        }
      ]
    },
    {
      "cell_type": "code",
      "source": [
        "print(\"hi\")\n",
        "print(\"pw\")\n",
        "print(\"skills\")\n",
        "print('ineuron')"
      ],
      "metadata": {
        "colab": {
          "base_uri": "https://localhost:8080/"
        },
        "id": "4kee5Vlmxgxa",
        "outputId": "e5fbf2e0-82e5-4c8d-8232-1ab43325d0fc"
      },
      "execution_count": 87,
      "outputs": [
        {
          "output_type": "stream",
          "name": "stdout",
          "text": [
            "hi\n",
            "pw\n",
            "skills\n",
            "ineuron\n"
          ]
        }
      ]
    },
    {
      "cell_type": "code",
      "source": [
        "print(\"hi\",end =' ')\n",
        "print(\"pw\",end =' ')\n",
        "print(\"skills\",end =' ' )\n",
        "print('ineuron',end = ' ')"
      ],
      "metadata": {
        "colab": {
          "base_uri": "https://localhost:8080/"
        },
        "id": "yQqcb96ix4JO",
        "outputId": "ce751a92-ac17-42f3-94ec-a25a362d5dec"
      },
      "execution_count": 89,
      "outputs": [
        {
          "output_type": "stream",
          "name": "stdout",
          "text": [
            "hi pw skills ineuron "
          ]
        }
      ]
    },
    {
      "cell_type": "code",
      "source": [
        "print(\"hi\",end ='@ ')\n",
        "print(\"pw\",end =' @')\n",
        "print(\"skills\",end ='@ ' )\n",
        "print('ineuron',end = '@ ')"
      ],
      "metadata": {
        "colab": {
          "base_uri": "https://localhost:8080/"
        },
        "id": "MSkV0GmtyQJV",
        "outputId": "e44f8fa4-bfc1-420d-c9e4-91481c9d1744"
      },
      "execution_count": 90,
      "outputs": [
        {
          "output_type": "stream",
          "name": "stdout",
          "text": [
            "hi@ pw @skills@ ineuron@ "
          ]
        }
      ]
    },
    {
      "cell_type": "code",
      "source": [
        "for i in range(10):\n",
        "  print(i)"
      ],
      "metadata": {
        "colab": {
          "base_uri": "https://localhost:8080/"
        },
        "id": "TZsLImWnyXfU",
        "outputId": "9f270ed8-ccb3-44c0-ba41-1855b19d91ff"
      },
      "execution_count": 92,
      "outputs": [
        {
          "output_type": "stream",
          "name": "stdout",
          "text": [
            "0\n",
            "1\n",
            "2\n",
            "3\n",
            "4\n",
            "5\n",
            "6\n",
            "7\n",
            "8\n",
            "9\n"
          ]
        }
      ]
    },
    {
      "cell_type": "code",
      "source": [
        "for i in range(10):\n",
        "  print(i,end = ' ')"
      ],
      "metadata": {
        "colab": {
          "base_uri": "https://localhost:8080/"
        },
        "id": "plbyvaUPyo3-",
        "outputId": "adcceeda-2220-4bc1-81f0-f41eb42a2bad"
      },
      "execution_count": 94,
      "outputs": [
        {
          "output_type": "stream",
          "name": "stdout",
          "text": [
            "0 1 2 3 4 5 6 7 8 9 "
          ]
        }
      ]
    },
    {
      "cell_type": "code",
      "source": [
        "for i in range(10):\n",
        "  print(i,end = ' /')"
      ],
      "metadata": {
        "colab": {
          "base_uri": "https://localhost:8080/"
        },
        "id": "LKmvfb_M0fGt",
        "outputId": "2065ba4a-5b28-485b-a6e4-5f17336f7616"
      },
      "execution_count": 95,
      "outputs": [
        {
          "output_type": "stream",
          "name": "stdout",
          "text": [
            "0 /1 /2 /3 /4 /5 /6 /7 /8 /9 /"
          ]
        }
      ]
    },
    {
      "cell_type": "code",
      "source": [
        "#for with else\n",
        "for i in range(5):\n",
        "  print(i)\n",
        "else:\n",
        "  print(\"done\")"
      ],
      "metadata": {
        "id": "vpQC5ZdO0iL2"
      },
      "execution_count": null,
      "outputs": []
    },
    {
      "cell_type": "code",
      "source": [
        "for i in range(5):\n",
        "  for j in range(i+1):\n",
        "    print(\"*\",end=' ')\n",
        "  print()"
      ],
      "metadata": {
        "colab": {
          "base_uri": "https://localhost:8080/"
        },
        "id": "D2jY2zwF01mJ",
        "outputId": "7d8a51f6-9a16-434c-b7bd-80526b192da3"
      },
      "execution_count": 98,
      "outputs": [
        {
          "output_type": "stream",
          "name": "stdout",
          "text": [
            "* \n",
            "* * \n",
            "* * * \n",
            "* * * * \n",
            "* * * * * \n"
          ]
        }
      ]
    },
    {
      "cell_type": "code",
      "source": [
        "for i in range(5,0,-1):\n",
        "  for j in range(i,0,-1):\n",
        "    print(\"*\",end = \" \")\n",
        "  print()"
      ],
      "metadata": {
        "colab": {
          "base_uri": "https://localhost:8080/"
        },
        "id": "7fyw4Oad1lj9",
        "outputId": "bf1055aa-1cb5-4b19-9e2e-d05bea1b23b8"
      },
      "execution_count": 99,
      "outputs": [
        {
          "output_type": "stream",
          "name": "stdout",
          "text": [
            "* * * * * \n",
            "* * * * \n",
            "* * * \n",
            "* * \n",
            "* \n"
          ]
        }
      ]
    },
    {
      "cell_type": "code",
      "source": [
        "for i in range(1,6,1):\n",
        " for j in range(i,i*6 ,i):\n",
        "  print(j,end=\" \")\n",
        " print()"
      ],
      "metadata": {
        "colab": {
          "base_uri": "https://localhost:8080/"
        },
        "id": "-zRlO3Ud75e0",
        "outputId": "5e770349-c568-4089-8712-3b5e4687729b"
      },
      "execution_count": 107,
      "outputs": [
        {
          "output_type": "stream",
          "name": "stdout",
          "text": [
            "1 2 3 4 5 \n",
            "2 4 6 8 10 \n",
            "3 6 9 12 15 \n",
            "4 8 12 16 20 \n",
            "5 10 15 20 25 \n"
          ]
        }
      ]
    },
    {
      "cell_type": "code",
      "source": [
        "for i in range(1,6):\n",
        "  for j in range(1,6):\n",
        "    print(i*j,end =' ')\n",
        "  print()"
      ],
      "metadata": {
        "colab": {
          "base_uri": "https://localhost:8080/"
        },
        "id": "n5zOVR9Q_NFU",
        "outputId": "e0eb7b98-d262-42de-9e7e-3abb9da548aa"
      },
      "execution_count": 109,
      "outputs": [
        {
          "output_type": "stream",
          "name": "stdout",
          "text": [
            "1 2 3 4 5 \n",
            "2 4 6 8 10 \n",
            "3 6 9 12 15 \n",
            "4 8 12 16 20 \n",
            "5 10 15 20 25 \n"
          ]
        }
      ]
    },
    {
      "cell_type": "code",
      "source": [
        "count=1\n",
        "while count<=5:\n",
        "   print(count)\n",
        "   count += 1\n",
        "   #count = count+1"
      ],
      "metadata": {
        "colab": {
          "base_uri": "https://localhost:8080/"
        },
        "id": "aIP3a3yr_3Lq",
        "outputId": "c38c4315-1f95-4a85-8db8-84f6e9e43baf"
      },
      "execution_count": 111,
      "outputs": [
        {
          "output_type": "stream",
          "name": "stdout",
          "text": [
            "1\n",
            "2\n",
            "3\n",
            "4\n",
            "5\n"
          ]
        }
      ]
    },
    {
      "cell_type": "code",
      "source": [
        "text = \" \"\n",
        "while text != \"quit\":\n",
        "  text =input(\" enter a word\")\n",
        "  print(\"you entered\",text)"
      ],
      "metadata": {
        "colab": {
          "base_uri": "https://localhost:8080/"
        },
        "id": "vgUOIEPI_3ZX",
        "outputId": "cebdbd01-0a9a-4b3e-eb51-ce88fbdce890"
      },
      "execution_count": 113,
      "outputs": [
        {
          "output_type": "stream",
          "name": "stdout",
          "text": [
            " enter a wordjyotirmoy\n",
            "you entered jyotirmoy\n",
            " enter a wordhi bro\n",
            "you entered hi bro\n",
            " enter a wordquit\n",
            "you entered quit\n"
          ]
        }
      ]
    },
    {
      "cell_type": "code",
      "source": [
        "text\n",
        "type(text)\n",
        "while text != \"quit\":\n",
        "  text =input(\" enter a word\")\n",
        "  print(\"you entered\",text)\n",
        "  #problem"
      ],
      "metadata": {
        "id": "lsOvjULu_3cN"
      },
      "execution_count": 117,
      "outputs": []
    },
    {
      "cell_type": "code",
      "source": [
        "text\n",
        "type(text)"
      ],
      "metadata": {
        "colab": {
          "base_uri": "https://localhost:8080/"
        },
        "id": "h42LFaEd_3ew",
        "outputId": "88aa097b-9da0-421c-ae4f-7f522f39517c"
      },
      "execution_count": 118,
      "outputs": [
        {
          "output_type": "execute_result",
          "data": {
            "text/plain": [
              "str"
            ]
          },
          "metadata": {},
          "execution_count": 118
        }
      ]
    },
    {
      "cell_type": "code",
      "source": [
        "# if you know how many time you will iterate go with for loop\n",
        "# if you don't know how many time you  will iterate go with while loop"
      ],
      "metadata": {
        "id": "RdUyyZSG_3iB"
      },
      "execution_count": null,
      "outputs": []
    },
    {
      "cell_type": "code",
      "source": [
        "#break and continue"
      ],
      "metadata": {
        "id": "UNnvopZw_3j8"
      },
      "execution_count": null,
      "outputs": []
    },
    {
      "cell_type": "code",
      "source": [
        "#pass the age\n",
        "\n",
        "age = 0\n",
        "\n",
        "while age != 23:\n",
        "  age = int(input('enter the age'))\n",
        "  print('you entered ',age)\n"
      ],
      "metadata": {
        "colab": {
          "base_uri": "https://localhost:8080/"
        },
        "id": "CEg3n3HQ_3mp",
        "outputId": "d2dc640a-d9c9-4d6d-d404-21dd6fa27c75"
      },
      "execution_count": 122,
      "outputs": [
        {
          "output_type": "stream",
          "name": "stdout",
          "text": [
            "enter the age22\n",
            "you entered  22\n",
            "enter the age23\n",
            "you entered  23\n"
          ]
        }
      ]
    },
    {
      "cell_type": "code",
      "source": [
        "list1=[23,45,63,68,55]\n",
        "\n",
        "age=0\n",
        "while age not in list1:\n",
        "  age = int(input(\"enter your age\"))\n",
        "  print(\"invalid age\")\n",
        "else :\n",
        "  print(\"Age is from list\")\n",
        ""
      ],
      "metadata": {
        "colab": {
          "base_uri": "https://localhost:8080/"
        },
        "id": "oZx0FNgPFMdV",
        "outputId": "1f9ac5cb-8262-4203-94f7-1a222eb044ac"
      },
      "execution_count": 125,
      "outputs": [
        {
          "output_type": "stream",
          "name": "stdout",
          "text": [
            "enter your age23\n",
            "invalid age\n",
            "Age is from list\n"
          ]
        }
      ]
    },
    {
      "cell_type": "code",
      "source": [],
      "metadata": {
        "id": "XBQsojrC_3pN"
      },
      "execution_count": null,
      "outputs": []
    },
    {
      "cell_type": "code",
      "source": [],
      "metadata": {
        "id": "J1TzyyFW_3sM"
      },
      "execution_count": null,
      "outputs": []
    },
    {
      "cell_type": "code",
      "source": [],
      "metadata": {
        "id": "5uHc1eFZ_3vz"
      },
      "execution_count": null,
      "outputs": []
    }
  ]
}