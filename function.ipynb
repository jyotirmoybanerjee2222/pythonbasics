{
 "cells": [
  {
   "cell_type": "code",
   "execution_count": 1,
   "id": "bf0c8aa5-300d-4179-9987-4d7e72357138",
   "metadata": {},
   "outputs": [
    {
     "name": "stdout",
     "output_type": "stream",
     "text": [
      "zero\n",
      "This is always prints\n"
     ]
    }
   ],
   "source": [
    "number = 0\n",
    "\n",
    "if number >0:\n",
    "    print(\"positive number\")\n",
    "elif number == 0:\n",
    "    print(\"zero\")\n",
    "print(\"This is always prints\")"
   ]
  },
  {
   "cell_type": "code",
   "execution_count": 2,
   "id": "3656a9dd-c414-40fe-ba5e-571c1a30075d",
   "metadata": {},
   "outputs": [
    {
     "name": "stdout",
     "output_type": "stream",
     "text": [
      "0\n",
      "1\n",
      "2\n",
      "3\n",
      "4\n"
     ]
    }
   ],
   "source": [
    "for i in range(5):\n",
    "    print(i)\n",
    "    "
   ]
  },
  {
   "cell_type": "code",
   "execution_count": 5,
   "id": "2bf4d939-b165-4344-8271-9e57dba07386",
   "metadata": {},
   "outputs": [
    {
     "name": "stdout",
     "output_type": "stream",
     "text": [
      "today is mon\n",
      "today is tue\n",
      "today is wed\n",
      "today is thu\n",
      "today is fri\n",
      "today is sat\n",
      "today is sun\n"
     ]
    }
   ],
   "source": [
    "days = 0\n",
    "week=['mon','tue','wed','thu','fri','sat','sun']\n",
    "while days<7:\n",
    "    print(\"today is \"+week[days])\n",
    "    days +=1\n",
    "    "
   ]
  },
  {
   "cell_type": "code",
   "execution_count": 6,
   "id": "926c2c8e-1f4d-4f8d-85be-019f8ab3f864",
   "metadata": {},
   "outputs": [
    {
     "data": {
      "text/plain": [
       "['i', 'write', 'code']"
      ]
     },
     "execution_count": 6,
     "metadata": {},
     "output_type": "execute_result"
    }
   ],
   "source": [
    "#split\n",
    "text = \"i write code\"\n",
    "text.split()"
   ]
  },
  {
   "cell_type": "code",
   "execution_count": 7,
   "id": "2c0f70c6-c9a0-452c-ae70-1bc871b1cba5",
   "metadata": {},
   "outputs": [
    {
     "data": {
      "text/plain": [
       "['I', 'love', 'python']"
      ]
     },
     "execution_count": 7,
     "metadata": {},
     "output_type": "execute_result"
    }
   ],
   "source": [
    "text = 'I love python'\n",
    "text.split()"
   ]
  },
  {
   "cell_type": "code",
   "execution_count": 8,
   "id": "680ff1e2-67d1-4112-9f3c-736ea62d2736",
   "metadata": {},
   "outputs": [
    {
     "name": "stdin",
     "output_type": "stream",
     "text": [
      "enter 3 word message welocome to my github\n"
     ]
    },
    {
     "data": {
      "text/plain": [
       "['welocome', 'to', 'my', 'github']"
      ]
     },
     "execution_count": 8,
     "metadata": {},
     "output_type": "execute_result"
    }
   ],
   "source": [
    "x = input(\"enter 3 word message\")\n",
    "x.split()"
   ]
  },
  {
   "cell_type": "code",
   "execution_count": 9,
   "id": "fd709e54-e330-4097-9a0f-6dd41cc69f2c",
   "metadata": {},
   "outputs": [],
   "source": [
    "y  = 1"
   ]
  },
  {
   "cell_type": "code",
   "execution_count": 10,
   "id": "dadbc808-14bf-4876-b21e-86db6b1ba598",
   "metadata": {},
   "outputs": [],
   "source": [
    "y,w= 2,3"
   ]
  },
  {
   "cell_type": "code",
   "execution_count": 12,
   "id": "3d5d3c1d-e272-418f-8ed9-651e6d847db9",
   "metadata": {},
   "outputs": [],
   "source": [
    "word1,word2,word3,word4= x.split()"
   ]
  },
  {
   "cell_type": "code",
   "execution_count": 13,
   "id": "81be8507-a973-4a46-83b3-914d35b441dd",
   "metadata": {},
   "outputs": [
    {
     "data": {
      "text/plain": [
       "'welocome'"
      ]
     },
     "execution_count": 13,
     "metadata": {},
     "output_type": "execute_result"
    }
   ],
   "source": [
    "word1"
   ]
  },
  {
   "cell_type": "code",
   "execution_count": 14,
   "id": "9d608968-8174-4b57-92ff-276bcbb9e43c",
   "metadata": {},
   "outputs": [
    {
     "data": {
      "text/plain": [
       "'to'"
      ]
     },
     "execution_count": 14,
     "metadata": {},
     "output_type": "execute_result"
    }
   ],
   "source": [
    "word2"
   ]
  },
  {
   "cell_type": "code",
   "execution_count": 15,
   "id": "67912c58-fbcd-4504-9e96-912a8f1f25d6",
   "metadata": {},
   "outputs": [
    {
     "data": {
      "text/plain": [
       "'my'"
      ]
     },
     "execution_count": 15,
     "metadata": {},
     "output_type": "execute_result"
    }
   ],
   "source": [
    "word3"
   ]
  },
  {
   "cell_type": "code",
   "execution_count": 16,
   "id": "05ddbacd-edd9-4444-9432-74b9fec39415",
   "metadata": {},
   "outputs": [
    {
     "data": {
      "text/plain": [
       "'github'"
      ]
     },
     "execution_count": 16,
     "metadata": {},
     "output_type": "execute_result"
    }
   ],
   "source": [
    "word4"
   ]
  },
  {
   "cell_type": "code",
   "execution_count": 18,
   "id": "81b08f6c-d21e-4d4a-a111-aa32ab5e25ac",
   "metadata": {},
   "outputs": [
    {
     "name": "stdin",
     "output_type": "stream",
     "text": [
      "enter 1st number 2\n",
      "enter 2nd number 5\n"
     ]
    },
    {
     "name": "stdout",
     "output_type": "stream",
     "text": [
      "7\n"
     ]
    }
   ],
   "source": [
    "x = int(input(\"enter 1st number\"))\n",
    "y = int(input(\"enter 2nd number\"))\n",
    "print(x+y)"
   ]
  },
  {
   "cell_type": "code",
   "execution_count": 20,
   "id": "0bca7572-1007-464c-b4cb-d631b3b671e5",
   "metadata": {},
   "outputs": [
    {
     "name": "stdin",
     "output_type": "stream",
     "text": [
      "enter two number 2 4\n"
     ]
    },
    {
     "name": "stdout",
     "output_type": "stream",
     "text": [
      "6\n"
     ]
    }
   ],
   "source": [
    "a,b = input(\"enter two number\").split()\n",
    "c    = int(a)+int(b)\n",
    "\n",
    "print(c)"
   ]
  },
  {
   "cell_type": "code",
   "execution_count": 22,
   "id": "f0475b3e-af95-4628-a96b-a8439743f79d",
   "metadata": {},
   "outputs": [
    {
     "name": "stdin",
     "output_type": "stream",
     "text": [
      "enter two number seperated by spaces 2 6\n"
     ]
    },
    {
     "name": "stdout",
     "output_type": "stream",
     "text": [
      "8\n"
     ]
    }
   ],
   "source": [
    "x = input(\"enter two number seperated by spaces\")\n",
    "sum = int(x.split()[0]) + int(x.split()[1])\n",
    "print(sum)"
   ]
  },
  {
   "cell_type": "code",
   "execution_count": 24,
   "id": "a0ad406d-5da2-4b71-8c94-ae39848cb3d2",
   "metadata": {},
   "outputs": [
    {
     "name": "stdin",
     "output_type": "stream",
     "text": [
      "enter roll no,name and  percentage L66 Jyotirmoy 80\n"
     ]
    },
    {
     "name": "stdout",
     "output_type": "stream",
     "text": [
      "roll L66\n",
      "roll Jyotirmoy\n",
      "percentage 80\n"
     ]
    }
   ],
   "source": [
    "s = input(\"enter roll no,name and  percentage\")\n",
    "roll,name,percentage = s.split()\n",
    "print(\"roll\",roll)\n",
    "print(\"roll\",name)\n",
    "print(\"percentage\",percentage)"
   ]
  },
  {
   "cell_type": "code",
   "execution_count": 28,
   "id": "703897ec-dd0f-4d1c-b30b-21cf89881e79",
   "metadata": {},
   "outputs": [
    {
     "name": "stdout",
     "output_type": "stream",
     "text": [
      "['A', 'B', 'C', 'D', 'E', 'F']\n",
      "['A', 'B', 'C', 'D', 'E F']\n",
      "['A', 'B', 'C', 'D E F']\n",
      "['A', 'B', 'C D E F']\n",
      "['A', 'B C D E F']\n",
      "['A B C D E F']\n"
     ]
    }
   ],
   "source": [
    "s1 = \"A B C D E F\"\n",
    "\n",
    "print(s1.split(' ',5))\n",
    "print(s1.split(' ',4))\n",
    "print(s1.split(' ',3))\n",
    "print(s1.split(' ',2))\n",
    "print(s1.split(' ',1))\n",
    "print(s1.split(' ',0))"
   ]
  },
  {
   "cell_type": "code",
   "execution_count": 29,
   "id": "150e7b66-5de8-43df-a955-40f41edf06b6",
   "metadata": {},
   "outputs": [
    {
     "data": {
      "text/plain": [
       "['HI', 'HI', 'HI@HI@HI']"
      ]
     },
     "execution_count": 29,
     "metadata": {},
     "output_type": "execute_result"
    }
   ],
   "source": [
    "s1=\"HI@HI@HI@HI@HI\"\n",
    "s1.split('@',2)"
   ]
  },
  {
   "cell_type": "code",
   "execution_count": 32,
   "id": "1b2b7adb-4e7f-4470-a421-13c11432d7cd",
   "metadata": {},
   "outputs": [
    {
     "name": "stdout",
     "output_type": "stream",
     "text": [
      "letter J\n",
      "letter y\n",
      "letter o\n",
      "letter t\n",
      "letter i\n",
      "letter r\n",
      "letter m\n",
      "letter o\n",
      "letter y\n"
     ]
    }
   ],
   "source": [
    "for letter in \"Jyotirmoy\" :\n",
    "    print('letter',letter)"
   ]
  },
  {
   "cell_type": "code",
   "execution_count": 33,
   "id": "ccbe7ac7-c4eb-45da-b1ae-2ae359d88511",
   "metadata": {},
   "outputs": [
    {
     "name": "stdout",
     "output_type": "stream",
     "text": [
      "letter J\n",
      "letter y\n",
      "letter o\n",
      "letter t\n",
      "letter i\n"
     ]
    }
   ],
   "source": [
    "for letter in \"Jyotirmoy\" :\n",
    "    if letter == \"r\":\n",
    "        break\n",
    "    print('letter',letter)"
   ]
  },
  {
   "cell_type": "code",
   "execution_count": 34,
   "id": "3c57b680-0e83-4354-af12-de1483a841b6",
   "metadata": {},
   "outputs": [
    {
     "name": "stdout",
     "output_type": "stream",
     "text": [
      "0\n",
      "1\n",
      "2\n"
     ]
    }
   ],
   "source": [
    "for i in range (5):\n",
    "    if i == 3:\n",
    "        break\n",
    "    print(i)"
   ]
  },
  {
   "cell_type": "code",
   "execution_count": 35,
   "id": "9c7a5085-7dad-4c2a-9e65-ea995c8b223d",
   "metadata": {},
   "outputs": [
    {
     "data": {
      "text/plain": [
       "[0, 1, 2, 3, 4]"
      ]
     },
     "execution_count": 35,
     "metadata": {},
     "output_type": "execute_result"
    }
   ],
   "source": [
    "list((range(5)))"
   ]
  },
  {
   "cell_type": "code",
   "execution_count": 38,
   "id": "43ffd863-13ef-4aa8-94e2-7b0fae044bfe",
   "metadata": {},
   "outputs": [
    {
     "name": "stdout",
     "output_type": "stream",
     "text": [
      "1\n",
      "2\n",
      "3\n",
      "4\n",
      "5\n"
     ]
    }
   ],
   "source": [
    "i = 1\n",
    "\n",
    "while i<=10:\n",
    "    print(i)\n",
    "    \n",
    "    if i >= 5:\n",
    "        break\n",
    "    i = i+1"
   ]
  },
  {
   "cell_type": "code",
   "execution_count": 15,
   "id": "ac086f8c-d44c-428d-904f-88486ffca88a",
   "metadata": {},
   "outputs": [
    {
     "name": "stdout",
     "output_type": "stream",
     "text": [
      "10\n",
      "20\n",
      "30\n",
      "40\n"
     ]
    }
   ],
   "source": [
    "numbers = [10,20,30,40,1000,120,525]\n",
    "\n",
    "for i in numbers:\n",
    "    if i>100:\n",
    "        break\n",
    "    print(i)"
   ]
  },
  {
   "cell_type": "code",
   "execution_count": 16,
   "id": "fa35f4df-cc18-4b17-a6c3-531b60079cd8",
   "metadata": {},
   "outputs": [
    {
     "name": "stdout",
     "output_type": "stream",
     "text": [
      "h\n",
      "e\n",
      "l\n",
      "l\n",
      "o\n",
      ",\n"
     ]
    }
   ],
   "source": [
    "s = \"hello,world\"\n",
    "for char in s:\n",
    "    print(char)\n",
    "    if char == ',':\n",
    "      break"
   ]
  },
  {
   "cell_type": "code",
   "execution_count": 11,
   "id": "e83500dc-9ca2-49e0-88c9-6628e54dd6db",
   "metadata": {},
   "outputs": [
    {
     "name": "stdout",
     "output_type": "stream",
     "text": [
      "J\n",
      "Y\n",
      "o\n",
      "t\n",
      "r\n",
      "m\n",
      "o\n",
      "y\n"
     ]
    }
   ],
   "source": [
    "for letter in \"JYotirmoy\":\n",
    "     if letter == 'i':\n",
    "         continue\n",
    "     print(letter)"
   ]
  },
  {
   "cell_type": "code",
   "execution_count": 12,
   "id": "3bd4d2fc-1cbb-4038-a871-527e8887a0f1",
   "metadata": {},
   "outputs": [
    {
     "name": "stdout",
     "output_type": "stream",
     "text": [
      "0\n",
      "1\n",
      "2\n",
      "4\n"
     ]
    }
   ],
   "source": [
    "for i in range(5):\n",
    "    if i == 3:\n",
    "        continue\n",
    "    print(i)\n",
    "    \n",
    "# break -- end the loop\n",
    "#continue -- skip the loop"
   ]
  },
  {
   "cell_type": "code",
   "execution_count": 17,
   "id": "3d59614d-626d-4bd9-bb92-56f51e7c36b5",
   "metadata": {},
   "outputs": [
    {
     "name": "stdout",
     "output_type": "stream",
     "text": [
      "1\n",
      "3\n",
      "5\n",
      "7\n",
      "9\n"
     ]
    }
   ],
   "source": [
    "# write a program to print oddnumber from 1 to 10\n",
    "\n",
    "for i in range(1,11):\n",
    "    if  i%2 == 0:\n",
    "        continue\n",
    "    print(i)"
   ]
  },
  {
   "cell_type": "code",
   "execution_count": 18,
   "id": "89b2b103-5274-4a7a-9232-f2b57316f183",
   "metadata": {},
   "outputs": [
    {
     "data": {
      "text/plain": [
       "[1, 3, 5, 7, 9]"
      ]
     },
     "execution_count": 18,
     "metadata": {},
     "output_type": "execute_result"
    }
   ],
   "source": [
    "# write a program to print oddnumber from 1 to 10\n",
    "\n",
    "list(range(1,11,2))"
   ]
  },
  {
   "cell_type": "code",
   "execution_count": 20,
   "id": "cda63939-5ebd-4990-94d4-dbaed677116c",
   "metadata": {},
   "outputs": [
    {
     "name": "stdout",
     "output_type": "stream",
     "text": [
      "range(1, 11, 2)\n"
     ]
    }
   ],
   "source": [
    "s=range(1,11,2)\n",
    "print(s)"
   ]
  },
  {
   "cell_type": "code",
   "execution_count": 21,
   "id": "ffb7977b-455e-4303-a4f6-2fbfffcbf1af",
   "metadata": {},
   "outputs": [
    {
     "name": "stdout",
     "output_type": "stream",
     "text": [
      "hello\n"
     ]
    }
   ],
   "source": [
    "n=10\n",
    "\n",
    "if n>10:\n",
    "    pass\n",
    "print('hello')"
   ]
  },
  {
   "cell_type": "code",
   "execution_count": null,
   "id": "22b8bc41-1340-435b-b01d-ca4776cb6dde",
   "metadata": {},
   "outputs": [],
   "source": [
    "for i in range(5):\n",
    "    pass"
   ]
  },
  {
   "cell_type": "code",
   "execution_count": 23,
   "id": "1c583543-aff6-4844-8728-67164925911d",
   "metadata": {},
   "outputs": [
    {
     "name": "stdout",
     "output_type": "stream",
     "text": [
      "j\n",
      "y\n",
      "o\n",
      "t\n",
      "i\n",
      "r\n",
      "o\n",
      "y\n"
     ]
    }
   ],
   "source": [
    "for letter in \"jyotirmoy\":\n",
    "    if letter == 'm':\n",
    "        continue\n",
    "    print(letter)"
   ]
  },
  {
   "cell_type": "code",
   "execution_count": 24,
   "id": "13a87f80-8513-4260-b4e4-6cb3be423b4c",
   "metadata": {},
   "outputs": [
    {
     "name": "stdout",
     "output_type": "stream",
     "text": [
      "j\n",
      "y\n",
      "o\n",
      "t\n",
      "i\n",
      "r\n",
      "m\n",
      "o\n",
      "y\n"
     ]
    }
   ],
   "source": [
    "for letter in \"jyotirmoy\":\n",
    "    if letter == 'm':\n",
    "        pass\n",
    "    print(letter)"
   ]
  },
  {
   "cell_type": "code",
   "execution_count": 26,
   "id": "92ce26c9-d160-4fa9-8264-ab0c7df2bf66",
   "metadata": {},
   "outputs": [],
   "source": [
    "#function\n",
    "def add_nums(a,b):\n",
    "     return a+b"
   ]
  },
  {
   "cell_type": "code",
   "execution_count": null,
   "id": "0dea3de1-252b-414c-8f1a-39e1fb12f814",
   "metadata": {},
   "outputs": [],
   "source": [
    "\"\"\"def functionname(arguments):\n",
    "    return\"\"\""
   ]
  },
  {
   "cell_type": "code",
   "execution_count": 27,
   "id": "6530a17d-7b46-401b-83f3-aa150e8cb763",
   "metadata": {},
   "outputs": [],
   "source": [
    "def greet():\n",
    "    print(\"hellow world\")"
   ]
  },
  {
   "cell_type": "code",
   "execution_count": 28,
   "id": "7c36b460-1041-4664-a37b-2da9698c80ac",
   "metadata": {},
   "outputs": [
    {
     "name": "stdout",
     "output_type": "stream",
     "text": [
      "hellow world\n"
     ]
    }
   ],
   "source": [
    "greet()"
   ]
  },
  {
   "cell_type": "code",
   "execution_count": 29,
   "id": "dd129ced-cd7c-4d8e-bdf8-724b66351828",
   "metadata": {},
   "outputs": [],
   "source": [
    "def addnum():\n",
    "    a = 100\n",
    "    b = 233\n",
    "    c = a+b\n",
    "    print(c)"
   ]
  },
  {
   "cell_type": "code",
   "execution_count": 30,
   "id": "6632990a-8aff-4d8b-a43f-fdefa0b7e659",
   "metadata": {},
   "outputs": [
    {
     "name": "stdout",
     "output_type": "stream",
     "text": [
      "333\n"
     ]
    }
   ],
   "source": [
    "addnum()"
   ]
  },
  {
   "cell_type": "code",
   "execution_count": 34,
   "id": "37dd4026-dadd-4391-b40d-2d9d3ef9a3f4",
   "metadata": {},
   "outputs": [],
   "source": [
    "def addtwonumber():\n",
    "    a = input(\"enter fitrst number\" )\n",
    "    b= input(\"enter second number\")\n",
    "    c= int(a)+int(b)\n",
    "    print(c)"
   ]
  },
  {
   "cell_type": "code",
   "execution_count": 35,
   "id": "f33b006d-f435-48d3-94a6-1376795d7d98",
   "metadata": {},
   "outputs": [
    {
     "name": "stdin",
     "output_type": "stream",
     "text": [
      "enter fitrst number 22\n",
      "enter second number 23\n"
     ]
    },
    {
     "name": "stdout",
     "output_type": "stream",
     "text": [
      "45\n"
     ]
    }
   ],
   "source": [
    "addtwonumber()"
   ]
  },
  {
   "cell_type": "code",
   "execution_count": 36,
   "id": "45e26974-b9aa-4973-83b2-c33b768ba1d0",
   "metadata": {},
   "outputs": [],
   "source": [
    "def multiplication(x,y):\n",
    "    a= x\n",
    "    b= y\n",
    "    c =a*b\n",
    "    print(c)"
   ]
  },
  {
   "cell_type": "code",
   "execution_count": 37,
   "id": "dea58abf-d3df-417a-b837-ff6aef47e331",
   "metadata": {},
   "outputs": [
    {
     "name": "stdout",
     "output_type": "stream",
     "text": [
      "8\n"
     ]
    }
   ],
   "source": [
    "multiplication(2,4)"
   ]
  },
  {
   "cell_type": "code",
   "execution_count": 38,
   "id": "7079b139-f9bc-4ae4-8b6c-7725008379ce",
   "metadata": {},
   "outputs": [],
   "source": [
    "def introduction(name):\n",
    "    print(\"hi\",name)"
   ]
  },
  {
   "cell_type": "code",
   "execution_count": 40,
   "id": "1e6452dd-6879-47cd-ba35-fe40a57f84f3",
   "metadata": {},
   "outputs": [
    {
     "name": "stdout",
     "output_type": "stream",
     "text": [
      "hi jyotirmoy\n"
     ]
    }
   ],
   "source": [
    "introduction('jyotirmoy')"
   ]
  },
  {
   "cell_type": "code",
   "execution_count": 43,
   "id": "04adac2f-4edb-4389-a341-c444b8fb7b96",
   "metadata": {},
   "outputs": [],
   "source": [
    "def introduction(name,lname):\n",
    "    print(\"hi\",name+lname)"
   ]
  },
  {
   "cell_type": "code",
   "execution_count": 45,
   "id": "d1ec9650-4bca-4e06-97e5-142575b43b76",
   "metadata": {},
   "outputs": [
    {
     "name": "stdout",
     "output_type": "stream",
     "text": [
      "hi JyotirmoyBanerjee\n"
     ]
    }
   ],
   "source": [
    "introduction(\"Jyotirmoy\",\"Banerjee\")"
   ]
  },
  {
   "cell_type": "code",
   "execution_count": 3,
   "id": "61cd8b76-1a96-4fbf-8724-7fa886c1d884",
   "metadata": {},
   "outputs": [],
   "source": [
    "# absolute0\n",
    "def absolute(n):\n",
    "    if n>0:\n",
    "        print(n)\n",
    "    else:\n",
    "        print(-n)\n"
   ]
  },
  {
   "cell_type": "code",
   "execution_count": 4,
   "id": "8468e7d8-6699-49b4-9454-a869703f2e00",
   "metadata": {},
   "outputs": [
    {
     "name": "stdout",
     "output_type": "stream",
     "text": [
      "5\n"
     ]
    }
   ],
   "source": [
    "absolute(-5)"
   ]
  },
  {
   "cell_type": "code",
   "execution_count": 48,
   "id": "6f7775cd-bdc2-4842-8a53-830b2bfe0d05",
   "metadata": {},
   "outputs": [
    {
     "name": "stdout",
     "output_type": "stream",
     "text": [
      "5\n"
     ]
    }
   ],
   "source": [
    "absolute(5)"
   ]
  },
  {
   "cell_type": "code",
   "execution_count": 5,
   "id": "3aff937b-8d33-4df6-8c59-e2a6bd184df8",
   "metadata": {},
   "outputs": [
    {
     "name": "stdout",
     "output_type": "stream",
     "text": [
      "85\n"
     ]
    }
   ],
   "source": [
    "absolute(-85)"
   ]
  },
  {
   "cell_type": "code",
   "execution_count": 6,
   "id": "95474aef-ad68-4cb6-99eb-0d3f6f1f9832",
   "metadata": {},
   "outputs": [],
   "source": [
    "def fullname(a,b):\n",
    "    c=a+b\n",
    "    print(c)"
   ]
  },
  {
   "cell_type": "code",
   "execution_count": 8,
   "id": "57fb917e-1557-43a1-be4d-8a563afb28f8",
   "metadata": {},
   "outputs": [
    {
     "name": "stdout",
     "output_type": "stream",
     "text": [
      "jyotirmoybanerjee\n"
     ]
    }
   ],
   "source": [
    "fullname(\"jyotirmoy\",\"banerjee\")"
   ]
  },
  {
   "cell_type": "code",
   "execution_count": 9,
   "id": "b2c11707-f549-4f7a-886b-18e6198178eb",
   "metadata": {},
   "outputs": [],
   "source": [
    "def fullname(a,b):\n",
    "    c=a+b\n",
    "    return"
   ]
  },
  {
   "cell_type": "code",
   "execution_count": 11,
   "id": "bc341e34-bf8b-4666-a55d-2b16faccc970",
   "metadata": {},
   "outputs": [],
   "source": [
    "fullname(\"jyotirmoyyy\",\"banerjee\")"
   ]
  },
  {
   "cell_type": "code",
   "execution_count": 26,
   "id": "e61f76a3-233b-464e-b67e-499ed71af078",
   "metadata": {},
   "outputs": [],
   "source": [
    "def fullname(a,b):\n",
    "    c=a+b\n",
    "    return c"
   ]
  },
  {
   "cell_type": "code",
   "execution_count": 13,
   "id": "6d6f9288-ecda-44e4-b1d7-865a33fe9af6",
   "metadata": {},
   "outputs": [
    {
     "data": {
      "text/plain": [
       "'jyotirmoyyybanerjee'"
      ]
     },
     "execution_count": 13,
     "metadata": {},
     "output_type": "execute_result"
    }
   ],
   "source": [
    "fullname(\"jyotirmoyyy\",\"banerjee\")"
   ]
  },
  {
   "cell_type": "code",
   "execution_count": 29,
   "id": "8c7783d4-9aad-4272-9924-834e0965c177",
   "metadata": {},
   "outputs": [],
   "source": [
    "x=fullname('Jyotirmoy','Banerjee')"
   ]
  },
  {
   "cell_type": "code",
   "execution_count": 30,
   "id": "86cd4f98-c4fe-41e3-94f6-1e71637c3b34",
   "metadata": {},
   "outputs": [
    {
     "data": {
      "text/plain": [
       "'JyotirmoyBanerjee'"
      ]
     },
     "execution_count": 30,
     "metadata": {},
     "output_type": "execute_result"
    }
   ],
   "source": [
    "x\n"
   ]
  },
  {
   "cell_type": "code",
   "execution_count": 36,
   "id": "2a04d09c-fee5-400f-812e-aa33ef92320b",
   "metadata": {},
   "outputs": [],
   "source": [
    "def calculator():\n",
    "    a= int(input(\"enter first number\"))\n",
    "    b= int(input(\"enter the second number\"))\n",
    "    C = input((\"which operation you want to do +|-|*|/\"))\n",
    "    if c == \"+\":\n",
    "        return a+b\n",
    "    elif c ==\"-\":\n",
    "        return a-b\n",
    "    elif c == \"*\":\n",
    "        return a*b\n",
    "    elif c == \"/\":\n",
    "        return a/b\n",
    "    #problem"
   ]
  },
  {
   "cell_type": "code",
   "execution_count": 37,
   "id": "390bfce9-d927-4ff6-8f6b-8b0fa1efb417",
   "metadata": {},
   "outputs": [
    {
     "name": "stdin",
     "output_type": "stream",
     "text": [
      "enter first number 22\n",
      "enter the second number 23\n",
      "which operation you want to do +|-|*|/ +\n"
     ]
    },
    {
     "ename": "NameError",
     "evalue": "name 'c' is not defined",
     "output_type": "error",
     "traceback": [
      "\u001b[0;31m---------------------------------------------------------------------------\u001b[0m",
      "\u001b[0;31mNameError\u001b[0m                                 Traceback (most recent call last)",
      "Cell \u001b[0;32mIn[37], line 1\u001b[0m\n\u001b[0;32m----> 1\u001b[0m \u001b[43mcalculator\u001b[49m\u001b[43m(\u001b[49m\u001b[43m)\u001b[49m\n",
      "Cell \u001b[0;32mIn[36], line 5\u001b[0m, in \u001b[0;36mcalculator\u001b[0;34m()\u001b[0m\n\u001b[1;32m      3\u001b[0m b\u001b[38;5;241m=\u001b[39m \u001b[38;5;28mint\u001b[39m(\u001b[38;5;28minput\u001b[39m(\u001b[38;5;124m\"\u001b[39m\u001b[38;5;124menter the second number\u001b[39m\u001b[38;5;124m\"\u001b[39m))\n\u001b[1;32m      4\u001b[0m C \u001b[38;5;241m=\u001b[39m \u001b[38;5;28minput\u001b[39m((\u001b[38;5;124m\"\u001b[39m\u001b[38;5;124mwhich operation you want to do +|-|*|/\u001b[39m\u001b[38;5;124m\"\u001b[39m))\n\u001b[0;32m----> 5\u001b[0m \u001b[38;5;28;01mif\u001b[39;00m \u001b[43mc\u001b[49m \u001b[38;5;241m==\u001b[39m \u001b[38;5;124m\"\u001b[39m\u001b[38;5;124m+\u001b[39m\u001b[38;5;124m\"\u001b[39m:\n\u001b[1;32m      6\u001b[0m     \u001b[38;5;28;01mreturn\u001b[39;00m a\u001b[38;5;241m+\u001b[39mb\n\u001b[1;32m      7\u001b[0m \u001b[38;5;28;01melif\u001b[39;00m c \u001b[38;5;241m==\u001b[39m\u001b[38;5;124m\"\u001b[39m\u001b[38;5;124m-\u001b[39m\u001b[38;5;124m\"\u001b[39m:\n",
      "\u001b[0;31mNameError\u001b[0m: name 'c' is not defined"
     ]
    }
   ],
   "source": [
    "calculator()"
   ]
  },
  {
   "cell_type": "code",
   "execution_count": 43,
   "id": "f55e696a-b017-40de-ab98-1d8305c4a314",
   "metadata": {},
   "outputs": [],
   "source": [
    "#calure area\n",
    "def area():\n",
    "    radius = int(input(\"enter the radius\"))\n",
    "    return 3.14*radius*radius"
   ]
  },
  {
   "cell_type": "code",
   "execution_count": 44,
   "id": "54e0cfb9-624c-4fe1-9245-633c143a8a69",
   "metadata": {},
   "outputs": [
    {
     "name": "stdin",
     "output_type": "stream",
     "text": [
      "enter the radius 25\n"
     ]
    },
    {
     "data": {
      "text/plain": [
       "1962.5"
      ]
     },
     "execution_count": 44,
     "metadata": {},
     "output_type": "execute_result"
    }
   ],
   "source": [
    "area()"
   ]
  },
  {
   "cell_type": "code",
   "execution_count": 2,
   "id": "0e2ea22e-fed9-432f-8617-ea588d200f2b",
   "metadata": {},
   "outputs": [],
   "source": [
    "# Print the first 5 positive integeger inassending orderwith one number in eachline\n",
    "def number():\n",
    "    for i in range(5):\n",
    "        print(i)\n",
    "\n"
   ]
  },
  {
   "cell_type": "code",
   "execution_count": 3,
   "id": "efe2f442-32bf-4ff3-8eef-b55eb4df3c48",
   "metadata": {},
   "outputs": [
    {
     "name": "stdout",
     "output_type": "stream",
     "text": [
      "0\n",
      "1\n",
      "2\n",
      "3\n",
      "4\n"
     ]
    }
   ],
   "source": [
    "number()"
   ]
  },
  {
   "cell_type": "code",
   "execution_count": 5,
   "id": "a6af57d5-761c-4e3d-a748-907cf0e17151",
   "metadata": {},
   "outputs": [],
   "source": [
    "#accept as input and print its square as output\n",
    "def square():\n",
    "    c = int(input(\"enter the number\"))\n",
    "    print(c*c)"
   ]
  },
  {
   "cell_type": "code",
   "execution_count": 6,
   "id": "70cdddef-9171-4848-b933-acf0690a4242",
   "metadata": {},
   "outputs": [
    {
     "name": "stdin",
     "output_type": "stream",
     "text": [
      "enter the number 5\n"
     ]
    },
    {
     "name": "stdout",
     "output_type": "stream",
     "text": [
      "25\n"
     ]
    }
   ],
   "source": [
    "square()"
   ]
  },
  {
   "cell_type": "code",
   "execution_count": 7,
   "id": "5f4ec99e-8e40-4487-a07e-64dab83864ca",
   "metadata": {},
   "outputs": [
    {
     "name": "stdin",
     "output_type": "stream",
     "text": [
      "enter the word1 joy\n",
      "enter the word two roy\n"
     ]
    },
    {
     "name": "stdout",
     "output_type": "stream",
     "text": [
      "joy roy\n"
     ]
    }
   ],
   "source": [
    "# accepting two word and adding space between them\n",
    "word1=input(\"enter the word1\")\n",
    "word2=input(\"enter the word two\")\n",
    "print(f\"{word1} {word2}\")"
   ]
  },
  {
   "cell_type": "code",
   "execution_count": null,
   "id": "0222dba7-12ad-4e76-ada0-b4ad1d83f4db",
   "metadata": {},
   "outputs": [],
   "source": [
    "#user define function caled print_even_number\n",
    "#def print_even_number():\n",
    "    "
   ]
  }
 ],
 "metadata": {
  "kernelspec": {
   "display_name": "Python 3 (ipykernel)",
   "language": "python",
   "name": "python3"
  },
  "language_info": {
   "codemirror_mode": {
    "name": "ipython",
    "version": 3
   },
   "file_extension": ".py",
   "mimetype": "text/x-python",
   "name": "python",
   "nbconvert_exporter": "python",
   "pygments_lexer": "ipython3",
   "version": "3.10.8"
  }
 },
 "nbformat": 4,
 "nbformat_minor": 5
}
