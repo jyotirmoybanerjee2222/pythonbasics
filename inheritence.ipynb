{
 "cells": [
  {
   "cell_type": "code",
   "execution_count": 1,
   "id": "b184d57b-5fcc-4bae-9f71-e01ac64e604a",
   "metadata": {},
   "outputs": [],
   "source": [
    "class a :\n",
    "    def test(self):\n",
    "        print(\"this test method is a part of class a\")\n",
    "    def test1(self):\n",
    "        print(\"this is test1 from class a\")"
   ]
  },
  {
   "cell_type": "code",
   "execution_count": 2,
   "id": "81a79582-584c-40a5-b778-1c184c2da20e",
   "metadata": {},
   "outputs": [],
   "source": [
    "obj_a = a()"
   ]
  },
  {
   "cell_type": "code",
   "execution_count": 3,
   "id": "0c864e8b-1684-4069-ba6c-183f9434982c",
   "metadata": {},
   "outputs": [
    {
     "name": "stdout",
     "output_type": "stream",
     "text": [
      "this test method is a part of class a\n"
     ]
    }
   ],
   "source": [
    "obj_a.test()"
   ]
  },
  {
   "cell_type": "code",
   "execution_count": 4,
   "id": "d0792849-9cfe-4a1c-9559-7f518abdadde",
   "metadata": {},
   "outputs": [],
   "source": [
    "class b :\n",
    "    def test(self):\n",
    "        print(\"this test method is a part of class a\")"
   ]
  },
  {
   "cell_type": "code",
   "execution_count": 5,
   "id": "6164b4e1-9749-46a4-99de-305e57e92d2d",
   "metadata": {},
   "outputs": [],
   "source": [
    "class b(a):\n",
    "    def test1b(self):\n",
    "        print(\"this is a part of class b\")"
   ]
  },
  {
   "cell_type": "code",
   "execution_count": 6,
   "id": "8787736f-f523-4070-bf00-447a0440b74a",
   "metadata": {},
   "outputs": [],
   "source": [
    "obj_b = b()"
   ]
  },
  {
   "cell_type": "code",
   "execution_count": 7,
   "id": "c33d06e0-4458-4c53-aed7-055cc25482e2",
   "metadata": {},
   "outputs": [
    {
     "name": "stdout",
     "output_type": "stream",
     "text": [
      "this test method is a part of class a\n"
     ]
    }
   ],
   "source": [
    "obj_b.test()"
   ]
  },
  {
   "cell_type": "code",
   "execution_count": 8,
   "id": "de3c0974-39ff-45d7-bac8-b5d0a244da13",
   "metadata": {},
   "outputs": [
    {
     "name": "stdout",
     "output_type": "stream",
     "text": [
      "this is test1 from class a\n"
     ]
    }
   ],
   "source": [
    "obj_b.test1()"
   ]
  },
  {
   "cell_type": "code",
   "execution_count": 9,
   "id": "2bec7ae7-a63f-40bd-81af-193d02ad0277",
   "metadata": {},
   "outputs": [
    {
     "name": "stdout",
     "output_type": "stream",
     "text": [
      "this is a part of class b\n"
     ]
    }
   ],
   "source": [
    "obj_b.test1b()"
   ]
  },
  {
   "cell_type": "code",
   "execution_count": 10,
   "id": "d9c5cd74-35b7-441b-8f83-06007c74c1bd",
   "metadata": {},
   "outputs": [],
   "source": [
    "class lecture:\n",
    "    def topic(self):\n",
    "        print(\"todays class we are discussing about inheritence concept in oops\")\n",
    "    def timing(self):\n",
    "        print(\"timing for todays class is 9 AM IST\")\n",
    "    def end_time(self):\n",
    "        print(\"today i will try to end class bit early\")"
   ]
  },
  {
   "cell_type": "code",
   "execution_count": 11,
   "id": "504facf0-cd31-4765-a54c-18834368a824",
   "metadata": {},
   "outputs": [],
   "source": [
    "class student(lecture):\n",
    "    \n",
    "    def student_details(self):\n",
    "        print(\"this class will give student details\")\n",
    "        "
   ]
  },
  {
   "cell_type": "code",
   "execution_count": 12,
   "id": "2aa4f9ef-1807-46cf-8728-2cb48bf653e4",
   "metadata": {},
   "outputs": [],
   "source": [
    "naval = student()"
   ]
  },
  {
   "cell_type": "code",
   "execution_count": 13,
   "id": "71fad75c-c384-453b-8d18-135f2a8767c7",
   "metadata": {},
   "outputs": [
    {
     "name": "stdout",
     "output_type": "stream",
     "text": [
      "todays class we are discussing about inheritence concept in oops\n"
     ]
    }
   ],
   "source": [
    "naval.topic()"
   ]
  },
  {
   "cell_type": "code",
   "execution_count": 14,
   "id": "caa7b836-e77f-4d89-b0c4-c3b610f90678",
   "metadata": {},
   "outputs": [
    {
     "name": "stdout",
     "output_type": "stream",
     "text": [
      "timing for todays class is 9 AM IST\n"
     ]
    }
   ],
   "source": [
    "satish = student()\n",
    "satish.timing()"
   ]
  },
  {
   "cell_type": "code",
   "execution_count": 15,
   "id": "e35ebeab-dd8b-4106-98cd-207fdd21bf9a",
   "metadata": {},
   "outputs": [
    {
     "name": "stdout",
     "output_type": "stream",
     "text": [
      "this class will give student details\n"
     ]
    }
   ],
   "source": [
    "satish.student_details()"
   ]
  },
  {
   "cell_type": "code",
   "execution_count": 16,
   "id": "a8fb2d34-d11f-46de-aa3b-56bf42d36405",
   "metadata": {},
   "outputs": [],
   "source": [
    "visha = student()"
   ]
  },
  {
   "cell_type": "code",
   "execution_count": 17,
   "id": "7937c520-7406-4bd5-ba66-5d9298b84c31",
   "metadata": {},
   "outputs": [
    {
     "name": "stdout",
     "output_type": "stream",
     "text": [
      "today i will try to end class bit early\n"
     ]
    }
   ],
   "source": [
    "visha.end_time()"
   ]
  },
  {
   "cell_type": "code",
   "execution_count": 18,
   "id": "06f5e579-778a-4e53-b4b2-35365491c62d",
   "metadata": {},
   "outputs": [],
   "source": [
    "class teacher(student):\n",
    "    def details(self):\n",
    "        print(\"this will give you a student details\")"
   ]
  },
  {
   "cell_type": "code",
   "execution_count": 19,
   "id": "e5b5119e-64b2-40f7-ae9b-3442688c0bf4",
   "metadata": {},
   "outputs": [
    {
     "name": "stdout",
     "output_type": "stream",
     "text": [
      "this will give you a student details\n",
      "timing for todays class is 9 AM IST\n",
      "todays class we are discussing about inheritence concept in oops\n",
      "today i will try to end class bit early\n",
      "this class will give student details\n"
     ]
    }
   ],
   "source": [
    "#multilevel inheritence\n",
    "anisha = teacher()\n",
    "anisha.details()\n",
    "anisha.timing()\n",
    "anisha.topic()\n",
    "anisha.end_time()\n",
    "anisha.student_details()\n"
   ]
  },
  {
   "cell_type": "code",
   "execution_count": 25,
   "id": "0a748ea6-eac4-4371-a6b2-18e261691175",
   "metadata": {},
   "outputs": [],
   "source": [
    "#second way to multilevel inheritenc\n",
    "class lecture:\n",
    "    def topic(self):\n",
    "        print(\"todays class we are discussing about inheritence concept in oops\")\n",
    "    def timing(self):\n",
    "        print(\"timing for todays class is 9 AM IST\")\n",
    "    def end_time(self):\n",
    "        print(\"today i will try to end class bit early\")\n",
    "        \n",
    "class student():\n",
    "    \n",
    "    def student_details(self):\n",
    "        print(\"this class will give student details\")\n",
    "       \n",
    "    def timing(self):\n",
    "        print(\"this is a timing from student class\")"
   ]
  },
  {
   "cell_type": "code",
   "execution_count": 26,
   "id": "428b3c4d-6575-4ff4-a867-0411c261c51f",
   "metadata": {},
   "outputs": [],
   "source": [
    "class teacher(student,lecture):\n",
    "    def details(self):\n",
    "        print(\"this will give you a student details\")"
   ]
  },
  {
   "cell_type": "code",
   "execution_count": 22,
   "id": "c74ae48f-bd9d-4f2e-b32c-c126382ac99a",
   "metadata": {},
   "outputs": [],
   "source": [
    "shyamal = teacher()"
   ]
  },
  {
   "cell_type": "code",
   "execution_count": 28,
   "id": "14968878-40f8-4464-8b93-44154e9b4213",
   "metadata": {},
   "outputs": [],
   "source": [
    "krish = teacher()"
   ]
  },
  {
   "cell_type": "code",
   "execution_count": 30,
   "id": "7b73c66e-6cb3-4a55-9f4f-3b8ae851f97a",
   "metadata": {},
   "outputs": [
    {
     "name": "stdout",
     "output_type": "stream",
     "text": [
      "this is a timing from student class\n"
     ]
    }
   ],
   "source": [
    "krish.timing() #showing timing from student class"
   ]
  },
  {
   "cell_type": "code",
   "execution_count": 24,
   "id": "36fb8803-1f6d-4b31-b023-d40e6be810c8",
   "metadata": {},
   "outputs": [
    {
     "name": "stdout",
     "output_type": "stream",
     "text": [
      "this class will give student details\n"
     ]
    }
   ],
   "source": [
    "shyamal.student_details()"
   ]
  },
  {
   "cell_type": "code",
   "execution_count": 31,
   "id": "99fc037e-e989-4f4a-b2f3-851edde2f70e",
   "metadata": {},
   "outputs": [],
   "source": [
    "class teacher(lecture,student):\n",
    "    def details(self):\n",
    "        print(\"this will give you a student details\")"
   ]
  },
  {
   "cell_type": "code",
   "execution_count": 32,
   "id": "fae10419-9409-48b3-8186-28bca5f2b319",
   "metadata": {},
   "outputs": [],
   "source": [
    "krish = teacher()"
   ]
  },
  {
   "cell_type": "code",
   "execution_count": 35,
   "id": "9e7c61b7-937f-4930-89fb-c7c042a5544b",
   "metadata": {},
   "outputs": [
    {
     "name": "stdout",
     "output_type": "stream",
     "text": [
      "timing for todays class is 9 AM IST\n"
     ]
    }
   ],
   "source": [
    "krish.timing() #showing timing from lecture  class\n",
    "#those class will come first will execute first"
   ]
  },
  {
   "cell_type": "code",
   "execution_count": null,
   "id": "fedb9e9e-42f8-4e25-a3bc-8dd6485920c9",
   "metadata": {},
   "outputs": [],
   "source": []
  }
 ],
 "metadata": {
  "kernelspec": {
   "display_name": "Python 3 (ipykernel)",
   "language": "python",
   "name": "python3"
  },
  "language_info": {
   "codemirror_mode": {
    "name": "ipython",
    "version": 3
   },
   "file_extension": ".py",
   "mimetype": "text/x-python",
   "name": "python",
   "nbconvert_exporter": "python",
   "pygments_lexer": "ipython3",
   "version": "3.10.8"
  }
 },
 "nbformat": 4,
 "nbformat_minor": 5
}
