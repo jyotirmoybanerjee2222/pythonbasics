{
  "nbformat": 4,
  "nbformat_minor": 0,
  "metadata": {
    "colab": {
      "provenance": []
    },
    "kernelspec": {
      "name": "python3",
      "display_name": "Python 3"
    },
    "language_info": {
      "name": "python"
    }
  },
  "cells": [
    {
      "cell_type": "code",
      "execution_count": 1,
      "metadata": {
        "id": "z_HHa12lE1tL"
      },
      "outputs": [],
      "source": [
        "price=50\n",
        "if price <= 500:\n",
        "  pass\n",
        "# no such{}"
      ]
    },
    {
      "cell_type": "code",
      "source": [
        "price <= 500"
      ],
      "metadata": {
        "colab": {
          "base_uri": "https://localhost:8080/"
        },
        "id": "KWVfxfp-HOjC",
        "outputId": "9159e43b-b1df-4a10-c329-2bf540c06542"
      },
      "execution_count": 2,
      "outputs": [
        {
          "output_type": "execute_result",
          "data": {
            "text/plain": [
              "True"
            ]
          },
          "metadata": {},
          "execution_count": 2
        }
      ]
    },
    {
      "cell_type": "code",
      "source": [
        "#price=50\n",
        "#if price <= 500:\n",
        "\n",
        "# no such{}\n",
        "\n",
        " \"\"\"File \"<ipython-input-3-325e69fc9538>\", line 4\n",
        "    # no such{}\n",
        "               ^\n",
        "SyntaxError: incomplete input\"\"\""
      ],
      "metadata": {
        "colab": {
          "base_uri": "https://localhost:8080/",
          "height": 140
        },
        "id": "KirB4HciHOuZ",
        "outputId": "bb2aee8d-b5b0-4c65-e8fe-c3c4b3edf668"
      },
      "execution_count": 6,
      "outputs": [
        {
          "output_type": "error",
          "ename": "IndentationError",
          "evalue": "ignored",
          "traceback": [
            "\u001b[0;36m  File \u001b[0;32m\"<ipython-input-6-67cc210bbb4d>\"\u001b[0;36m, line \u001b[0;32m6\u001b[0m\n\u001b[0;31m    \"\"\"File \"<ipython-input-3-325e69fc9538>\", line 4\u001b[0m\n\u001b[0m    ^\u001b[0m\n\u001b[0;31mIndentationError\u001b[0m\u001b[0;31m:\u001b[0m unexpected indent\n"
          ]
        }
      ]
    },
    {
      "cell_type": "code",
      "source": [
        "price =500\n",
        "if price <= 850:\n",
        "  print(\"yes i wiil buy\")"
      ],
      "metadata": {
        "id": "fgHFp-KLHOx3"
      },
      "execution_count": 9,
      "outputs": []
    },
    {
      "cell_type": "code",
      "source": [
        "price =850\n",
        "if price <= 500:\n",
        "  print(\"yes i wiil buy\")\n",
        "else :\n",
        "  print(\"iwill not buy\")"
      ],
      "metadata": {
        "colab": {
          "base_uri": "https://localhost:8080/"
        },
        "id": "HxUfbbkVJBw5",
        "outputId": "6eed259f-519b-44e5-eb32-62bd5355dfb2"
      },
      "execution_count": 10,
      "outputs": [
        {
          "output_type": "stream",
          "name": "stdout",
          "text": [
            "iwill not buy\n"
          ]
        }
      ]
    },
    {
      "cell_type": "code",
      "source": [
        "a= 500\n",
        "price =850\n",
        "shirt_price=200\n",
        "pant_price =500\n",
        "coat_price = 800\n",
        "my_size=\"M\"\n",
        "size_store=['l','xl','xxl','xxxl','m']\n",
        "my_fav_clr= 'white'\n",
        "store_clr = ['red']\n",
        "if True:\n",
        "  print(\"This is a testing block\")\n",
        "if coat_price <= a:\n",
        "  print(\" i wiil try to buy\")\n",
        "elif pant_price < 500 :\n",
        "  print(\"pant\")\n",
        "elif shirt_price < 500:\n",
        "  print(\"budget friendly\")\n",
        "  if my_size in size_store:\n",
        "     print(\" buy shirt\")\n",
        "     if my_fav_clr in store_clr:\n",
        "        print(\"yes i will try to chose it\")\n",
        "     else :\n",
        "        print(\"we will not choose\")\n",
        "  else :\n",
        "    print(\"my size is not available\")\n",
        "\n",
        "else :\n",
        "  print(\"iwill not buy\")"
      ],
      "metadata": {
        "colab": {
          "base_uri": "https://localhost:8080/"
        },
        "id": "FgwovRQVJ57F",
        "outputId": "cf58c741-b426-48d7-a500-629ddf430e4b"
      },
      "execution_count": 23,
      "outputs": [
        {
          "output_type": "stream",
          "name": "stdout",
          "text": [
            "This is a testing block\n",
            "budget friendly\n",
            "my size is not available\n"
          ]
        }
      ]
    },
    {
      "cell_type": "code",
      "source": [
        "500<500"
      ],
      "metadata": {
        "colab": {
          "base_uri": "https://localhost:8080/"
        },
        "id": "V_ePTDvuKBBa",
        "outputId": "d9a4c972-9324-4afc-fed7-4054cbe76d62"
      },
      "execution_count": 12,
      "outputs": [
        {
          "output_type": "execute_result",
          "data": {
            "text/plain": [
              "False"
            ]
          },
          "metadata": {},
          "execution_count": 12
        }
      ]
    },
    {
      "cell_type": "code",
      "source": [
        "'M' in size_store"
      ],
      "metadata": {
        "colab": {
          "base_uri": "https://localhost:8080/"
        },
        "id": "tzQ3rok-Lxu3",
        "outputId": "f56339a7-7185-4df7-eb58-e4f852390755"
      },
      "execution_count": 18,
      "outputs": [
        {
          "output_type": "execute_result",
          "data": {
            "text/plain": [
              "False"
            ]
          },
          "metadata": {},
          "execution_count": 18
        }
      ]
    },
    {
      "cell_type": "code",
      "source": [
        "course = ['das','DSm','java','big data','da']\n",
        "price =20000\n",
        "mentor = \"sudhanshu Kumar\"\n",
        "\n",
        "if 'DSm' in course and price == 20000 and \"sudhanshu Kumar\" == mentor:\n",
        "  print(\"yes i am going to do this course\")"
      ],
      "metadata": {
        "colab": {
          "base_uri": "https://localhost:8080/"
        },
        "id": "iWJ8C-X1NIR4",
        "outputId": "064a1664-2a5f-4f64-8dd6-236005265818"
      },
      "execution_count": 25,
      "outputs": [
        {
          "output_type": "stream",
          "name": "stdout",
          "text": [
            "yes i am going to do this course\n"
          ]
        }
      ]
    },
    {
      "cell_type": "code",
      "source": [
        "course_price = 20000\n",
        "\n",
        "if 10000<=course_price<=15000:\n",
        "  print(\"I will going to buy this price\")\n",
        "else :\n",
        "  print(\"its out of my budget\")"
      ],
      "metadata": {
        "colab": {
          "base_uri": "https://localhost:8080/"
        },
        "id": "qCQstcErQv9-",
        "outputId": "2d2d8d6c-af36-420e-abad-8d2644a26564"
      },
      "execution_count": 27,
      "outputs": [
        {
          "output_type": "stream",
          "name": "stdout",
          "text": [
            "its out of my budget\n"
          ]
        }
      ]
    },
    {
      "cell_type": "code",
      "source": [
        "10000<=course_price<=15000"
      ],
      "metadata": {
        "colab": {
          "base_uri": "https://localhost:8080/"
        },
        "id": "STJ8PJX-NIdj",
        "outputId": "db376b81-030e-4ccc-f76f-be03aed4cdb4"
      },
      "execution_count": 28,
      "outputs": [
        {
          "output_type": "execute_result",
          "data": {
            "text/plain": [
              "False"
            ]
          },
          "metadata": {},
          "execution_count": 28
        }
      ]
    },
    {
      "cell_type": "code",
      "source": [
        "user_name = 'sudh'\n",
        "password = 'sudh@1234'\n",
        "\n",
        "\n",
        "if user_name == input(\"enter your username\") and password == input(\"enter your pasword\") :\n",
        "  print(\"you have logged in\")\n",
        "else:\n",
        "  print(\"wrong\")"
      ],
      "metadata": {
        "colab": {
          "base_uri": "https://localhost:8080/"
        },
        "id": "9ATfT13PUvTz",
        "outputId": "cebc5256-e7da-4d5d-fc35-742e44a3940f"
      },
      "execution_count": 29,
      "outputs": [
        {
          "output_type": "stream",
          "name": "stdout",
          "text": [
            "enter your usernamesudh\n",
            "enter your paswordsuydh@1234\n",
            "wrong\n"
          ]
        }
      ]
    },
    {
      "cell_type": "code",
      "source": [
        "user_name = 'sudh'\n",
        "password = 'sudh@1234'\n",
        "\n",
        "\n",
        "if user_name == input(\"enter your username\") or password == input(\"enter your pasword\") :\n",
        "  print(\"you have logged in\")\n",
        "else:\n",
        "  print(\"wrong\")"
      ],
      "metadata": {
        "colab": {
          "base_uri": "https://localhost:8080/"
        },
        "id": "zwpDQnM7Xawq",
        "outputId": "561db30d-f4a8-454a-c9c3-ace7bf062d12"
      },
      "execution_count": 30,
      "outputs": [
        {
          "output_type": "stream",
          "name": "stdout",
          "text": [
            "enter your usernamesudh\n",
            "you have logged in\n"
          ]
        }
      ]
    },
    {
      "cell_type": "code",
      "source": [
        "mobile_no = {123456,254445,25555212211}\n",
        "otp =1234\n",
        "if int(input(\"enter your register mobile number\")) in mobile_no:\n",
        "   print(\"yes you are a registered user\")\n",
        "   if otp == int(input(\"enter that otp\")):\n",
        "      print(\"you have log in succesfully\")\n",
        "   else :\n",
        "      print(\"wrong otp\")\n",
        "else :\n",
        "  print(\"wrong mobile number\")\n",
        "  #problem"
      ],
      "metadata": {
        "colab": {
          "base_uri": "https://localhost:8080/"
        },
        "id": "hoz58U2HXa_z",
        "outputId": "35d417bd-735d-4071-cb8f-0ee513c92e0d"
      },
      "execution_count": 64,
      "outputs": [
        {
          "output_type": "stream",
          "name": "stdout",
          "text": [
            "enter your register mobile number123456\n",
            "yes you are a registered user\n",
            "enter that otp1234\n",
            "you have log in succesfully\n"
          ]
        }
      ]
    },
    {
      "cell_type": "code",
      "source": [
        "l= [12,3,3,45,6]\n",
        "mobile_no = [123456,254445,2555,5212211]\n",
        "\n",
        "student_mo = 123456\n",
        "stud_details = {'mobile_no' :123456,'course' :['das','dsm','big data']}\n",
        "\n",
        "for i in l:\n",
        "  print(i)\n",
        "for i in mobile_no:\n",
        "  print(i)\n",
        "  if i == student_mo:\n",
        "    print(\"user is register\")\n",
        "    if i ==stud_details['mobile_no']:\n",
        "      print(\"yes student details are available\")\n",
        "      print(\"course accesssed to this user is \",stud_details['course'])\n",
        ""
      ],
      "metadata": {
        "colab": {
          "base_uri": "https://localhost:8080/"
        },
        "id": "HOMKKo99XbDG",
        "outputId": "41fc4c2b-66ff-4912-f40e-f04e9483e7ed"
      },
      "execution_count": 45,
      "outputs": [
        {
          "output_type": "stream",
          "name": "stdout",
          "text": [
            "12\n",
            "3\n",
            "3\n",
            "45\n",
            "6\n",
            "123456\n",
            "user is register\n",
            "yes student details are available\n",
            "course accesssed to this user is  ['das', 'dsm', 'big data']\n",
            "254445\n",
            "2555\n",
            "5212211\n"
          ]
        }
      ]
    },
    {
      "cell_type": "code",
      "source": [
        "t =(12,3,4,5,\"sudh\",\"Jyotirmoy\")\n",
        "\n",
        "for i in t :\n",
        "  print(i)"
      ],
      "metadata": {
        "colab": {
          "base_uri": "https://localhost:8080/"
        },
        "id": "A1B9AR8qUvgL",
        "outputId": "a09f294b-2458-4ab6-998d-9d6a538cc951"
      },
      "execution_count": 48,
      "outputs": [
        {
          "output_type": "stream",
          "name": "stdout",
          "text": [
            "12\n",
            "3\n",
            "4\n",
            "5\n",
            "sudh\n",
            "Jyotirmoy\n"
          ]
        }
      ]
    },
    {
      "cell_type": "code",
      "source": [
        "t =(12,3,4,5,\"banerjee\",\"Jyotirmoy\")\n",
        "l_int=[]\n",
        "l_str=[]\n",
        "\n",
        "for i in t :\n",
        "  if type(i) == str :\n",
        "     print(i)"
      ],
      "metadata": {
        "colab": {
          "base_uri": "https://localhost:8080/"
        },
        "id": "TvKb8uqLUvjx",
        "outputId": "e09c8a6a-befe-4c34-887e-a6f450074169"
      },
      "execution_count": 50,
      "outputs": [
        {
          "output_type": "stream",
          "name": "stdout",
          "text": [
            "banerjee\n",
            "Jyotirmoy\n"
          ]
        }
      ]
    },
    {
      "cell_type": "code",
      "source": [
        "t =(12,3,4,5,\"banerjee\",\"Jyotirmoy\")\n",
        "l_int=[]\n",
        "l_str=[]\n",
        "\n",
        "for i in t :\n",
        "  if type(i) == str :\n",
        "     l_str.append(i)\n",
        "  elif type(i) ==int:\n",
        "     l_int.append(i)\n",
        "print(l_int)\n",
        "print(l_str)"
      ],
      "metadata": {
        "colab": {
          "base_uri": "https://localhost:8080/"
        },
        "id": "RLLiUzyIUvnM",
        "outputId": "21f6eba8-1af9-4afc-871a-b81b583df67b"
      },
      "execution_count": 53,
      "outputs": [
        {
          "output_type": "stream",
          "name": "stdout",
          "text": [
            "[12, 3, 4, 5]\n",
            "['banerjee', 'Jyotirmoy']\n"
          ]
        }
      ]
    },
    {
      "cell_type": "code",
      "source": [
        "for  i in s:\n",
        "  print(i)"
      ],
      "metadata": {
        "colab": {
          "base_uri": "https://localhost:8080/",
          "height": 192
        },
        "id": "zJN8OIDOlWMH",
        "outputId": "424a3eaa-d5e3-4f5d-c0c0-2827e1f6b6ad"
      },
      "execution_count": 54,
      "outputs": [
        {
          "output_type": "error",
          "ename": "NameError",
          "evalue": "ignored",
          "traceback": [
            "\u001b[0;31m---------------------------------------------------------------------------\u001b[0m",
            "\u001b[0;31mNameError\u001b[0m                                 Traceback (most recent call last)",
            "\u001b[0;32m<ipython-input-54-5946c1ca8eb1>\u001b[0m in \u001b[0;36m<cell line: 1>\u001b[0;34m()\u001b[0m\n\u001b[0;32m----> 1\u001b[0;31m \u001b[0;32mfor\u001b[0m  \u001b[0mi\u001b[0m \u001b[0;32min\u001b[0m \u001b[0ms\u001b[0m\u001b[0;34m:\u001b[0m\u001b[0;34m\u001b[0m\u001b[0;34m\u001b[0m\u001b[0m\n\u001b[0m\u001b[1;32m      2\u001b[0m   \u001b[0mprint\u001b[0m\u001b[0;34m(\u001b[0m\u001b[0mi\u001b[0m\u001b[0;34m)\u001b[0m\u001b[0;34m\u001b[0m\u001b[0;34m\u001b[0m\u001b[0m\n",
            "\u001b[0;31mNameError\u001b[0m: name 's' is not defined"
          ]
        }
      ]
    },
    {
      "cell_type": "code",
      "source": [
        "d ={\"name\":\"sudh\",'class':['big data',\"data analytica\"],\"mobile no\":554414}"
      ],
      "metadata": {
        "id": "4xtzD6wXlWgh"
      },
      "execution_count": 55,
      "outputs": []
    },
    {
      "cell_type": "code",
      "source": [
        "d"
      ],
      "metadata": {
        "colab": {
          "base_uri": "https://localhost:8080/"
        },
        "id": "OwFxMCjDlWjT",
        "outputId": "40d9c131-74ee-425c-b6e9-291c11449114"
      },
      "execution_count": 56,
      "outputs": [
        {
          "output_type": "execute_result",
          "data": {
            "text/plain": [
              "{'name': 'sudh', 'class': ['big data', 'data analytica'], 'mobile no': 554414}"
            ]
          },
          "metadata": {},
          "execution_count": 56
        }
      ]
    },
    {
      "cell_type": "code",
      "source": [
        "for i in d.values():\n",
        "  print(i)"
      ],
      "metadata": {
        "colab": {
          "base_uri": "https://localhost:8080/"
        },
        "id": "XdP2LW4flWmh",
        "outputId": "74b14993-3477-4b30-d4ec-b1b8b8350a1d"
      },
      "execution_count": 58,
      "outputs": [
        {
          "output_type": "stream",
          "name": "stdout",
          "text": [
            "sudh\n",
            "['big data', 'data analytica']\n",
            "554414\n"
          ]
        }
      ]
    },
    {
      "cell_type": "code",
      "source": [
        "for i in d.values():\n",
        "  if type(i) == list:\n",
        "     print(i)"
      ],
      "metadata": {
        "colab": {
          "base_uri": "https://localhost:8080/"
        },
        "id": "tVkmQYsGlXrw",
        "outputId": "af19ac4b-3dd1-4e65-927c-e84536ddad31"
      },
      "execution_count": 59,
      "outputs": [
        {
          "output_type": "stream",
          "name": "stdout",
          "text": [
            "['big data', 'data analytica']\n"
          ]
        }
      ]
    },
    {
      "cell_type": "code",
      "source": [
        "for i in d.values():\n",
        "  if type(i) == list:\n",
        "    if 'system design' in i :\n",
        "           print(\"system design is not present\")\n",
        "    else :\n",
        "       print(\"system design is not present\")"
      ],
      "metadata": {
        "colab": {
          "base_uri": "https://localhost:8080/"
        },
        "id": "o2oRLbwSlXxl",
        "outputId": "baee96e3-171a-405c-e69d-b536be3889b4"
      },
      "execution_count": 62,
      "outputs": [
        {
          "output_type": "stream",
          "name": "stdout",
          "text": [
            "system design is not present\n"
          ]
        }
      ]
    },
    {
      "cell_type": "code",
      "source": [],
      "metadata": {
        "id": "5aaUqD5FsOCp"
      },
      "execution_count": null,
      "outputs": []
    },
    {
      "cell_type": "code",
      "source": [],
      "metadata": {
        "id": "bPv4ZEbbsOHB"
      },
      "execution_count": null,
      "outputs": []
    },
    {
      "cell_type": "code",
      "source": [],
      "metadata": {
        "id": "OH02_cJjsOJy"
      },
      "execution_count": null,
      "outputs": []
    },
    {
      "cell_type": "code",
      "source": [],
      "metadata": {
        "id": "atbtzosWsOM3"
      },
      "execution_count": null,
      "outputs": []
    },
    {
      "cell_type": "code",
      "source": [],
      "metadata": {
        "id": "fUYXa1q-sOPd"
      },
      "execution_count": null,
      "outputs": []
    },
    {
      "cell_type": "code",
      "source": [],
      "metadata": {
        "id": "1JtZqC6rsOSG"
      },
      "execution_count": null,
      "outputs": []
    },
    {
      "cell_type": "code",
      "source": [],
      "metadata": {
        "id": "fQkhZ6kDsOVf"
      },
      "execution_count": null,
      "outputs": []
    },
    {
      "cell_type": "code",
      "source": [],
      "metadata": {
        "id": "iIu8CAHilX1C"
      },
      "execution_count": null,
      "outputs": []
    }
  ]
}