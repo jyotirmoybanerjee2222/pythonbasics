{
 "cells": [
  {
   "cell_type": "code",
   "execution_count": 3,
   "id": "32f4cd13-f551-4b0a-877a-4a9162b451df",
   "metadata": {},
   "outputs": [],
   "source": [
    "# What is a Python library? Why do we use Python libraries?"
   ]
  },
  {
   "cell_type": "raw",
   "id": "1356489d-e6d5-45bb-af02-ca638d4ab3e4",
   "metadata": {},
   "source": []
  },
  {
   "cell_type": "code",
   "execution_count": null,
   "id": "0dcd7f76-599d-448c-b7e1-cf3a9cf62bff",
   "metadata": {},
   "outputs": [],
   "source": []
  }
 ],
 "metadata": {
  "kernelspec": {
   "display_name": "Python 3 (ipykernel)",
   "language": "python",
   "name": "python3"
  },
  "language_info": {
   "codemirror_mode": {
    "name": "ipython",
    "version": 3
   },
   "file_extension": ".py",
   "mimetype": "text/x-python",
   "name": "python",
   "nbconvert_exporter": "python",
   "pygments_lexer": "ipython3",
   "version": "3.12.2"
  }
 },
 "nbformat": 4,
 "nbformat_minor": 5
}
